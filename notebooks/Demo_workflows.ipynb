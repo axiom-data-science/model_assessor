{
 "cells": [
  {
   "cell_type": "markdown",
   "source": [
    "# Demo workflows\n",
    "\n",
    "Below are demonstrated the use of this library as a Python package and from the command line interface. Note that one step demonstrated below is to save datasets you need to run the local examples."
   ],
   "metadata": {}
  },
  {
   "cell_type": "code",
   "execution_count": null,
   "source": [
    "from pathlib import Path\n",
    "\n",
    "from IPython import display\n",
    "\n",
    "import ocean_data_gateway as odg\n",
    "import ocean_model_skill_assessor as omsa"
   ],
   "outputs": [],
   "metadata": {}
  },
  {
   "cell_type": "markdown",
   "source": [
    "## Definitions\n",
    "\n",
    "These dictionaries are not required for every type of run, but are required for identifying variables between datasets and models, and for running QC. They can be complicated if desired, but do not have to be. Once they are written they do not need to be modified much. More information about these dictionaries is available in the [`ocean_data_gateway` docs](https://ocean-data-gateway.readthedocs.io/en/latest/details.html#Configure-custom-criteria-and-variable-definitions)."
   ],
   "metadata": {}
  },
  {
   "cell_type": "code",
   "execution_count": null,
   "source": [
    "criteria = {\n",
    "    \"salt\": {\n",
    "        \"name\": \"sea_water_practical_salinity$\",\n",
    "    },\n",
    "}\n",
    "\n",
    "var_def = {\n",
    "    \"salt\": {\"units\": \"psu\", \"fail_span\": [-10, 60], \"suspect_span\": [-1, 45]},\n",
    "}"
   ],
   "outputs": [],
   "metadata": {}
  },
  {
   "cell_type": "markdown",
   "source": [
    "A more complicated example of `criteria` is shown here, as it can be brought it from a nonlocal source:"
   ],
   "metadata": {}
  },
  {
   "cell_type": "code",
   "execution_count": null,
   "source": [
    "url = 'https://gist.githubusercontent.com/kthyng/c3cc27de6b4449e1776ce79215d5e732/raw/af448937e4896535e36ef6522df8460e8f928cd6/my_custom_criteria.py'\n",
    "criteria = odg.return_response(url)\n",
    "criteria"
   ],
   "outputs": [],
   "metadata": {}
  },
  {
   "cell_type": "markdown",
   "source": [
    "## Python library\n",
    "\n",
    "This package can be used as a Python package or from the command line. Here we demonstrate its use as a Python package."
   ],
   "metadata": {}
  },
  {
   "cell_type": "markdown",
   "source": [
    "### Nonlocal reader: stations\n",
    "\n",
    "This demonstrates the case in which your data files for comparing with model output are not available locally, but you know their names and where to find them (in this case, at the IOOS ERDDAP server). More information about these inputs is available in the [API docs](https://ocean-model-skill-assessor.readthedocs.io/en/latest/api.html)."
   ],
   "metadata": {}
  },
  {
   "cell_type": "code",
   "execution_count": null,
   "source": [
    "model_url = 'https://thredds.cencoos.org/thredds/dodsC/CENCOOS_CA_ROMS_FCST.nc'\n",
    "\n",
    "dataset_ids = ['edu_humboldt_tdp','bodega-bay-bml_wts']\n",
    "\n",
    "search = omsa.run(\n",
    "                  loc_model=model_url,\n",
    "                  approach='stations',\n",
    "                  criteria=criteria,\n",
    "                  var_def=var_def,\n",
    "                  xarray_kwargs={'chunks': {'time': 1, 'depth': 1}},\n",
    "                  time_range=['2021-9-1','2021-9-8'], \n",
    "                  variables=['salt'],\n",
    "                  readers=[odg.erddap],\n",
    "                  erddap={\n",
    "                      'known_server': 'ioos'\n",
    "                  },\n",
    "                  stations = dataset_ids,\n",
    "                  figname_map='nonlocal_library.png',\n",
    "                  figname_data_prefix='nonlocal_library_',\n",
    "                  parallel=False\n",
    ")"
   ],
   "outputs": [],
   "metadata": {
    "tags": []
   }
  },
  {
   "cell_type": "markdown",
   "source": [
    "#### Save local data files\n",
    "\n",
    "Here we save the data files to use for the local examples."
   ],
   "metadata": {}
  },
  {
   "cell_type": "code",
   "execution_count": null,
   "source": [
    "search['edu_humboldt_tdp'].squeeze().to_dataframe().to_csv('edu_humboldt_tdp.csv')"
   ],
   "outputs": [],
   "metadata": {}
  },
  {
   "cell_type": "code",
   "execution_count": null,
   "source": [
    "search['bodega-bay-bml_wts'].to_netcdf('bodega-bay-bml_wts.nc')"
   ],
   "outputs": [],
   "metadata": {}
  },
  {
   "cell_type": "markdown",
   "source": [
    "### Nonlocal reader: region\n",
    "\n",
    "This demonstrates the case in which your data files for comparing with model output are not available locally, and you want to perform a search in time and space. By default this would search in the spatial bounding box of the model output, but here we instead input a smaller bounding box so as to limit the number of datasets found and used. For several of the datasets, the model output isn't available (must be determined to be on land). "
   ],
   "metadata": {}
  },
  {
   "cell_type": "code",
   "execution_count": null,
   "source": [
    "model_url = 'https://thredds.cencoos.org/thredds/dodsC/CENCOOS_CA_ROMS_FCST.nc'\n",
    "bbox = [-124.5, 40, -123.5, 42]\n",
    "search = omsa.run(\n",
    "                  loc_model=model_url,\n",
    "                  approach='region',\n",
    "                  bbox=bbox,\n",
    "                  criteria=criteria,\n",
    "                  var_def=var_def,\n",
    "                  xarray_kwargs={'chunks': {'time': 1, 'depth': 1}},\n",
    "                  time_range=['2021-9-1','2021-9-8'], \n",
    "                  variables=['salt'],\n",
    "                  readers=[odg.erddap],\n",
    "                  erddap={\n",
    "                      'known_server': 'ioos'\n",
    "                  },\n",
    "                  figname_map='nonlocal_library_region.png',\n",
    "                  figname_data_prefix='nonlocal_library_region_',\n",
    "                  parallel=False\n",
    ")"
   ],
   "outputs": [],
   "metadata": {}
  },
  {
   "cell_type": "markdown",
   "source": [
    "### Local reader\n",
    "\n",
    "This demonstrates the case in which your data files for comparing with model output are available locally."
   ],
   "metadata": {}
  },
  {
   "cell_type": "code",
   "execution_count": null,
   "source": [
    "model_url = 'https://thredds.cencoos.org/thredds/dodsC/CENCOOS_CA_ROMS_FCST.nc'\n",
    "filenames = [\n",
    "             'edu_humboldt_tdp.csv',\n",
    "            'bodega-bay-bml_wts.nc',\n",
    "            ]\n",
    "\n",
    "skip_units = True\n",
    "\n",
    "search = omsa.run(\n",
    "                  loc_model=model_url,\n",
    "                  approach='region',\n",
    "                  criteria=criteria,\n",
    "                  var_def=var_def,\n",
    "                  skip_units=skip_units,\n",
    "                  xarray_kwargs={'chunks': {'time': 1, 'depth': 1}},\n",
    "                  time_range=['2021-9-1','2021-9-8'], \n",
    "                  variables=['salt'],\n",
    "                  readers=[odg.local],\n",
    "                  local={'filenames': filenames},\n",
    "                  figname_map='local_library.png',\n",
    "                  figname_data_prefix='local_library_',\n",
    "                  parallel=False\n",
    ")"
   ],
   "outputs": [],
   "metadata": {}
  },
  {
   "cell_type": "markdown",
   "source": [
    "## Command line interface\n",
    "\n",
    "Here we demonstrate the use of the command line interface mode of the package. The config yaml file must be modified for the necessary inputs. These are the same examples as above, but accomplished via the command line interface instead of the Python package.\n",
    "\n",
    "### Local reader"
   ],
   "metadata": {}
  },
  {
   "cell_type": "code",
   "execution_count": null,
   "source": [
    "config_file = 'config_local.yaml'"
   ],
   "outputs": [],
   "metadata": {}
  },
  {
   "cell_type": "code",
   "execution_count": null,
   "source": [
    "# %load config_local.yaml\n",
    "---\n",
    "approach: \"stations\"\n",
    "loc_model: \"https://thredds.cencoos.org/thredds/dodsC/CENCOOS_CA_ROMS_FCST.nc\"\n",
    "axds:\n",
    "bbox:\n",
    "criteria:\n",
    "  salt:\n",
    "    name:\n",
    "      \"sea_water_practical_salinity$\"\n",
    "erddap:\n",
    "figname_map: \"local_cli.png\"\n",
    "figname_data_prefix: \"local_cli_\"\n",
    "local:\n",
    "  filenames:\n",
    "    - \"../data/edu_humboldt_tdp.csv\"\n",
    "    - \"../data/bodega-bay-bml_wts.nc\"\n",
    "only_search: false\n",
    "only_searchplot: false\n",
    "parallel: true\n",
    "readers:\n",
    "  - \"local\"\n",
    "run_qc: false\n",
    "skip_units: true\n",
    "stations:\n",
    "time_range:\n",
    "  - \"2021-9-1\"\n",
    "  - \"2021-9-8\"\n",
    "var_def:\n",
    "  salt:\n",
    "    units: \"psu\"\n",
    "    fail_span:\n",
    "      - -10\n",
    "      - 60\n",
    "    suspect_span:\n",
    "      - -1\n",
    "      - 45\n",
    "variables:\n",
    "  - \"salt\"\n",
    "xarray_kwargs:\n",
    "  chunks:\n",
    "    time:\n",
    "      1\n",
    "    depth:\n",
    "      1"
   ],
   "outputs": [],
   "metadata": {}
  },
  {
   "cell_type": "code",
   "execution_count": null,
   "source": [
    "cli_path = Path(omsa.__file__).parent / 'CLI.py'\n"
   ],
   "outputs": [],
   "metadata": {}
  },
  {
   "cell_type": "code",
   "execution_count": null,
   "source": [
    "!python $cli_path $config_file"
   ],
   "outputs": [],
   "metadata": {}
  },
  {
   "cell_type": "code",
   "execution_count": null,
   "source": [
    "display.Image(\"local_cli.png\")"
   ],
   "outputs": [],
   "metadata": {}
  },
  {
   "cell_type": "code",
   "execution_count": null,
   "source": [
    "display.Image('local_cli_edu_humboldt_tdp.csv_salt.png')"
   ],
   "outputs": [],
   "metadata": {}
  },
  {
   "cell_type": "code",
   "execution_count": null,
   "source": [
    "display.Image('local_cli_bodega-bay-bml_wts.nc_salt.png')"
   ],
   "outputs": [],
   "metadata": {}
  },
  {
   "cell_type": "markdown",
   "source": [
    "### Nonlocal workflow: stations"
   ],
   "metadata": {}
  },
  {
   "cell_type": "code",
   "execution_count": null,
   "source": [
    "config_file = 'config_nonlocal.yaml'"
   ],
   "outputs": [],
   "metadata": {}
  },
  {
   "cell_type": "code",
   "execution_count": null,
   "source": [
    "# %load config_nonlocal.yaml\n",
    "---\n",
    "approach: \"stations\"\n",
    "loc_model: \"https://thredds.cencoos.org/thredds/dodsC/CENCOOS_CA_ROMS_FCST.nc\"\n",
    "axds:\n",
    "bbox:\n",
    "criteria:\n",
    "  salt:\n",
    "    name:\n",
    "      \"sea_water_practical_salinity$\"\n",
    "erddap:\n",
    "  known_server:\n",
    "    \"ioos\"\n",
    "figname_map: \"nonlocal_cli.png\"\n",
    "figname_data_prefix: \"nonlocal_cli_\"\n",
    "local:\n",
    "only_search: false\n",
    "only_searchplot: false\n",
    "parallel: true\n",
    "readers:\n",
    "  - \"erddap\"\n",
    "run_qc: false\n",
    "skip_units: true\n",
    "stations:\n",
    "  - \"edu_humboldt_tdp\"\n",
    "  - \"bodega-bay-bml_wts\"\n",
    "time_range:\n",
    "  - \"2021-9-1\"\n",
    "  - \"2021-9-8\"\n",
    "var_def:\n",
    "  salt:\n",
    "    units: \"psu\"\n",
    "    fail_span:\n",
    "      - -10\n",
    "      - 60\n",
    "    suspect_span:\n",
    "      - -1\n",
    "      - 45\n",
    "variables:\n",
    "  - \"salt\"\n",
    "xarray_kwargs:\n",
    "  chunks:\n",
    "    time:\n",
    "      1\n",
    "    depth:\n",
    "      1"
   ],
   "outputs": [],
   "metadata": {}
  },
  {
   "cell_type": "code",
   "execution_count": null,
   "source": [
    "!python $cli_path $config_file"
   ],
   "outputs": [],
   "metadata": {}
  },
  {
   "cell_type": "code",
   "execution_count": null,
   "source": [
    "display.Image(\"nonlocal_cli.png\")"
   ],
   "outputs": [],
   "metadata": {}
  },
  {
   "cell_type": "code",
   "execution_count": null,
   "source": [
    "display.Image('nonlocal_cli_edu_humboldt_tdp_salt.png')"
   ],
   "outputs": [],
   "metadata": {}
  },
  {
   "cell_type": "code",
   "execution_count": null,
   "source": [
    "display.Image('nonlocal_cli_bodega-bay-bml_wts_salt.png')"
   ],
   "outputs": [],
   "metadata": {}
  },
  {
   "cell_type": "markdown",
   "source": [
    "### Nonlocal reader: region"
   ],
   "metadata": {}
  },
  {
   "cell_type": "code",
   "execution_count": null,
   "source": [
    "config_file = 'config_nonlocal_region.yaml'"
   ],
   "outputs": [],
   "metadata": {}
  },
  {
   "cell_type": "code",
   "execution_count": null,
   "source": [
    "# %load config_nonlocal_region.yaml\n",
    "---\n",
    "approach: \"region\"\n",
    "loc_model: \"https://thredds.cencoos.org/thredds/dodsC/CENCOOS_CA_ROMS_FCST.nc\"\n",
    "axds:\n",
    "bbox:\n",
    "  - -124.5\n",
    "  - 40\n",
    "  - -123.5\n",
    "  - 42\n",
    "criteria:\n",
    "  salt:\n",
    "    name:\n",
    "      \"sea_water_practical_salinity$\"\n",
    "erddap:\n",
    "  known_server:\n",
    "    \"ioos\"\n",
    "figname_map: \"nonlocal_cli_region.png\"\n",
    "figname_data_prefix: \"nonlocal_cli__region\"\n",
    "local:\n",
    "only_search: false\n",
    "only_searchplot: false\n",
    "parallel: true\n",
    "readers:\n",
    "  - \"erddap\"\n",
    "run_qc: false\n",
    "skip_units: true\n",
    "stations:\n",
    "time_range:\n",
    "  - \"2021-9-1\"\n",
    "  - \"2021-9-8\"\n",
    "var_def:\n",
    "  salt:\n",
    "    units: \"psu\"\n",
    "    fail_span:\n",
    "      - -10\n",
    "      - 60\n",
    "    suspect_span:\n",
    "      - -1\n",
    "      - 45\n",
    "variables:\n",
    "  - \"salt\"\n",
    "xarray_kwargs:\n",
    "  chunks:\n",
    "    time:\n",
    "      1\n",
    "    depth:\n",
    "      1"
   ],
   "outputs": [],
   "metadata": {}
  },
  {
   "cell_type": "code",
   "execution_count": null,
   "source": [
    "!python $cli_path $config_file"
   ],
   "outputs": [],
   "metadata": {}
  },
  {
   "cell_type": "code",
   "execution_count": null,
   "source": [
    "display.Image(\"nonlocal_cli_region.png\")"
   ],
   "outputs": [],
   "metadata": {}
  },
  {
   "cell_type": "code",
   "execution_count": null,
   "source": [
    "display.Image('nonlocal_cli__regionexploratorium-pco2-buoy_salt.png')"
   ],
   "outputs": [],
   "metadata": {}
  },
  {
   "cell_type": "code",
   "execution_count": null,
   "source": [
    "display.Image('nonlocal_cli__regionedu_calpoly_marine_morro_salt.png')"
   ],
   "outputs": [],
   "metadata": {}
  },
  {
   "cell_type": "code",
   "execution_count": null,
   "source": [
    "display.Image('nonlocal_cli__regionsccoos_ucsd_salt.png')"
   ],
   "outputs": [],
   "metadata": {}
  }
 ],
 "metadata": {
  "kernelspec": {
   "name": "python3",
   "display_name": "Python 3.9.7 64-bit ('ocean-model-skill-assessor': conda)"
  },
  "language_info": {
   "codemirror_mode": {
    "name": "ipython",
    "version": 3
   },
   "file_extension": ".py",
   "mimetype": "text/x-python",
   "name": "python",
   "nbconvert_exporter": "python",
   "pygments_lexer": "ipython3",
   "version": "3.9.7"
  },
  "interpreter": {
   "hash": "b3f4f62315a65ecbf03b6334f79fe9ea060f4522f054d47c06c73d58ceea789c"
  }
 },
 "nbformat": 4,
 "nbformat_minor": 5
}