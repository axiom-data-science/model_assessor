{
 "cells": [
  {
   "cell_type": "markdown",
   "id": "a9da2fa8-9a25-497e-8ec6-d08609ad38ca",
   "metadata": {
    "tags": []
   },
   "source": [
    "# Demo workflows\n",
    "\n",
    "Below are demonstrated the use of this library as a Python package and from the command line interface. Note that one step demonstrated below is to save datasets you need to run the local examples."
   ]
  },
  {
   "cell_type": "code",
   "execution_count": null,
   "id": "890aa835-02c8-4746-8449-695f6df633e2",
   "metadata": {},
   "outputs": [],
   "source": [
    "import os\n",
    "\n",
    "if os.name == 'nt':\n",
    "    os.environ['CONDA_DLL_SEARCH_MODIFICATION_ENABLE'] = '1'"
   ]
  },
  {
   "cell_type": "code",
   "execution_count": null,
   "id": "3b2011cd-01e0-454c-af6f-d968522f5385",
   "metadata": {},
   "outputs": [],
   "source": [
    "import xarray as xr\n",
    "import ocean_data_gateway as odg\n",
    "import cf_xarray\n",
    "import pandas as pd\n",
    "import extract_model as em\n",
    "import ocean_model_skill_assessor as omsa\n",
    "import numpy as np\n",
    "from IPython import display\n",
    "from glob import glob"
   ]
  },
  {
   "cell_type": "markdown",
   "id": "07a7bb3c-38d8-45a1-8444-ff0ea7aac52f",
   "metadata": {},
   "source": [
    "## Definitions\n",
    "\n",
    "These dictionaries are not required for every type of run, but are required for identifying variables between datasets and models, and for running QC. They can be complicated if desired, but do not have to be. Once they are written they do not need to be modified much. More information about these dictionaries is available in the [`ocean_data_gateway` docs](https://ocean-data-gateway.readthedocs.io/en/latest/details.html#Configure-custom-criteria-and-variable-definitions)."
   ]
  },
  {
   "cell_type": "code",
   "execution_count": null,
   "id": "b0e38fa9-0318-4c0b-9be8-d622db151d97",
   "metadata": {},
   "outputs": [],
   "source": [
    "criteria = {\n",
    "    \"salt\": {\n",
    "        \"name\": \"sea_water_practical_salinity$\",\n",
    "    },\n",
    "}\n",
    "\n",
    "var_def = {\n",
    "    \"salt\": {\"units\": \"psu\", \"fail_span\": [-10, 60], \"suspect_span\": [-1, 45]},\n",
    "}\n"
   ]
  },
  {
   "cell_type": "markdown",
   "id": "571d37a7-bd3c-4629-9931-e293bc609ce0",
   "metadata": {},
   "source": [
    "A more complicated example of `criteria` is shown here, as it can be brought it from a nonlocal source:"
   ]
  },
  {
   "cell_type": "code",
   "execution_count": null,
   "id": "ed628da3-09dd-4b3a-bfd0-cd52b154399b",
   "metadata": {},
   "outputs": [],
   "source": [
    "url = 'https://gist.githubusercontent.com/kthyng/c3cc27de6b4449e1776ce79215d5e732/raw/af448937e4896535e36ef6522df8460e8f928cd6/my_custom_criteria.py'\n",
    "criteria = odg.return_response(url)\n",
    "criteria"
   ]
  },
  {
   "cell_type": "markdown",
   "id": "6a4dced1-5652-4521-9c67-509861debee3",
   "metadata": {},
   "source": [
    "## Python library\n",
    "\n",
    "This package can be used as a Python package or from the command line. Here we demonstrate its use as a Python package."
   ]
  },
  {
   "cell_type": "markdown",
   "id": "b936240d-ba13-4c23-bd7e-4b8510b7d551",
   "metadata": {},
   "source": [
    "### Nonlocal reader: stations\n",
    "\n",
    "This demonstrates the case in which your data files for comparing with model output are not available locally, but you know their names and where to find them (in this case, at the IOOS ERDDAP server). More information about these inputs is available in the [API docs](https://ocean-model-skill-assessor.readthedocs.io/en/latest/api.html)."
   ]
  },
  {
   "cell_type": "code",
   "execution_count": null,
   "id": "39dda472-993b-47b2-b932-a6bcb8da53b5",
   "metadata": {
    "tags": []
   },
   "outputs": [],
   "source": [
    "# omsa.set_criteria(criteria)\n",
    "\n",
    "model_url = 'https://thredds.cencoos.org/thredds/dodsC/CENCOOS_CA_ROMS_FCST.nc'\n",
    "\n",
    "dataset_ids = ['edu_humboldt_tdp','bodega-bay-bml_wts']\n",
    "\n",
    "search = omsa.run(\n",
    "                  loc_model=model_url,\n",
    "                  approach='stations',\n",
    "                  criteria=criteria,\n",
    "                  var_def=var_def,\n",
    "                  xarray_kwargs={'chunks': {'time': 1, 'depth': 1}},\n",
    "                  time_range=['2021-9-1','2021-9-8'], \n",
    "                  variables=['salt'],\n",
    "                  readers=[odg.erddap],\n",
    "                  erddap={\n",
    "                      'known_server': 'ioos'\n",
    "                  },\n",
    "                  stations = dataset_ids,\n",
    "                  figname_map='nonlocal_library.png',\n",
    "                  figname_data_prefix='nonlocal_library_',\n",
    "                  parallel=False\n",
    ")"
   ]
  },
  {
   "cell_type": "markdown",
   "id": "f9b51f1d-f999-4243-afc0-f66c38cdb39b",
   "metadata": {},
   "source": [
    "#### Save local data files\n",
    "\n",
    "Here we save the data files to use for the local examples."
   ]
  },
  {
   "cell_type": "code",
   "execution_count": null,
   "id": "61751f35-3240-4af8-90fa-9b9322805ffa",
   "metadata": {},
   "outputs": [],
   "source": [
    "search['edu_humboldt_tdp'].squeeze().to_dataframe().to_csv('edu_humboldt_tdp.csv')"
   ]
  },
  {
   "cell_type": "code",
   "execution_count": null,
   "id": "e6339657-ddae-4893-b786-64b1c266901c",
   "metadata": {},
   "outputs": [],
   "source": [
    "search['bodega-bay-bml_wts'].to_netcdf('bodega-bay-bml_wts.nc')"
   ]
  },
  {
   "cell_type": "markdown",
   "id": "dd29ad0d-e2b7-4424-b1be-489b29e6b921",
   "metadata": {},
   "source": [
    "### Nonlocal reader: region\n",
    "\n",
    "This demonstrates the case in which your data files for comparing with model output are not available locally, and you want to perform a search in time and space. By default this would search in the spatial bounding box of the model output, but here we instead input a smaller bounding box so as to limit the number of datasets found and used. For several of the datasets, the model output isn't available (must be determined to be on land). "
   ]
  },
  {
   "cell_type": "code",
   "execution_count": null,
   "id": "3c63654c-58ae-47bb-ae63-c0b01c10b88c",
   "metadata": {},
   "outputs": [],
   "source": [
    "omsa.set_criteria(criteria)\n",
    "\n",
    "model_url = 'https://thredds.cencoos.org/thredds/dodsC/CENCOOS_CA_ROMS_FCST.nc'\n",
    "bbox = [-124.5, 40, -123.5, 42]\n",
    "search = omsa.run(\n",
    "                  loc_model=model_url,\n",
    "                  approach='region',\n",
    "                  bbox=bbox,\n",
    "                  criteria=criteria,\n",
    "                  var_def=var_def,\n",
    "                  xarray_kwargs={'chunks': {'time': 1, 'depth': 1}},\n",
    "                  time_range=['2021-9-1','2021-9-8'], \n",
    "                  variables=['salt'],\n",
    "                  readers=[odg.erddap],\n",
    "                  erddap={\n",
    "                      'known_server': 'ioos'\n",
    "                  },\n",
    "                  figname_map='nonlocal_library_region.png',\n",
    "                  figname_data_prefix='nonlocal_library_region_'\n",
    ")"
   ]
  },
  {
   "cell_type": "markdown",
   "id": "8d45f569-ec8e-47c7-a180-d72a44a76581",
   "metadata": {},
   "source": [
    "### Local reader\n",
    "\n",
    "This demonstrates the case in which your data files for comparing with model output are available locally."
   ]
  },
  {
   "cell_type": "code",
   "execution_count": null,
   "id": "8d04581c-d1f1-4fac-b8eb-488e8b6e289f",
   "metadata": {},
   "outputs": [],
   "source": [
    "omsa.set_criteria(criteria)\n",
    "\n",
    "model_url = 'https://thredds.cencoos.org/thredds/dodsC/CENCOOS_CA_ROMS_FCST.nc'\n",
    "filenames = [\n",
    "             'edu_humboldt_tdp.csv',\n",
    "            'bodega-bay-bml_wts.nc',\n",
    "            ]\n",
    "\n",
    "skip_units = True\n",
    "\n",
    "search = omsa.run(\n",
    "                  loc_model=model_url,\n",
    "                  approach='region',\n",
    "                  criteria=criteria,\n",
    "                  var_def=var_def,\n",
    "                  skip_units=skip_units,\n",
    "                  xarray_kwargs={'chunks': {'time': 1, 'depth': 1}},\n",
    "                  time_range=['2021-9-1','2021-9-8'], \n",
    "                  variables=['salt'],\n",
    "                  readers=[odg.local],\n",
    "                  local={'filenames': filenames},\n",
    "                  figname_map='local_library.png',\n",
    "                  figname_data_prefix='local_library_'\n",
    ")"
   ]
  },
  {
   "cell_type": "markdown",
   "id": "9d9e80d6-314e-4586-ba1f-c67ac67e10d5",
   "metadata": {},
   "source": [
    "## Command line interface\n",
    "\n",
    "Here we demonstrate the use of the command line interface mode of the package. The config yaml file must be modified for the necessary inputs. These are the same examples as above, but accomplished via the command line interface instead of the Python package.\n",
    "\n",
    "### Local reader"
   ]
  },
  {
   "cell_type": "code",
   "execution_count": null,
   "id": "2157fb08-fd79-4036-80bc-53a2e89229fd",
   "metadata": {},
   "outputs": [],
   "source": [
    "config_file = 'config_local.yaml'"
   ]
  },
  {
   "cell_type": "raw",
   "id": "8733b11d-f4f5-400a-b754-f7e9b9759dbe",
   "metadata": {},
   "source": [
    "# %load config_local.yaml\n",
    "---\n",
    "approach: \"stations\"\n",
    "loc_model: \"https://thredds.cencoos.org/thredds/dodsC/CENCOOS_CA_ROMS_FCST.nc\"\n",
    "axds:\n",
    "bbox:\n",
    "criteria:\n",
    "  salt:\n",
    "    name:\n",
    "      \"sea_water_practical_salinity$\"\n",
    "erddap:\n",
    "figname_map: \"local_cli.png\"\n",
    "figname_data_prefix: \"local_cli_\"\n",
    "local:\n",
    "  filenames:\n",
    "    - \"edu_humboldt_tdp.csv\"\n",
    "    - \"bodega-bay-bml_wts.nc\"\n",
    "only_search: false\n",
    "only_searchplot: false\n",
    "parallel: true\n",
    "readers:\n",
    "  - \"local\"\n",
    "run_qc: false\n",
    "skip_units: true\n",
    "stations:\n",
    "time_range:\n",
    "  - \"2021-9-1\"\n",
    "  - \"2021-9-8\"\n",
    "var_def:\n",
    "  salt:\n",
    "    units: \"psu\"\n",
    "    fail_span:\n",
    "      - -10\n",
    "      - 60\n",
    "    suspect_span:\n",
    "      - -1\n",
    "      - 45\n",
    "variables:\n",
    "  - \"salt\"\n",
    "xarray_kwargs:\n",
    "  chunks:\n",
    "    time:\n",
    "      1\n",
    "    depth:\n",
    "      1\n"
   ]
  },
  {
   "cell_type": "code",
   "execution_count": null,
   "id": "d32c140b-0fe5-4e05-9a01-5b80fa81062d",
   "metadata": {},
   "outputs": [],
   "source": [
    "!python ../ocean_model_skill_assessor/CLI.py $config_file"
   ]
  },
  {
   "cell_type": "code",
   "execution_count": null,
   "id": "4320e0ab-3cb5-400d-9c4b-4b56e4a4cac5",
   "metadata": {},
   "outputs": [],
   "source": [
    "display.Image(\"local_cli.png\")"
   ]
  },
  {
   "cell_type": "code",
   "execution_count": null,
   "id": "b91db430-46fd-40ac-a6e8-f6d16ece8640",
   "metadata": {},
   "outputs": [],
   "source": [
    "display.Image('local_cli_edu_humboldt_tdp.csv_salt.png')"
   ]
  },
  {
   "cell_type": "code",
   "execution_count": null,
   "id": "adaf8a2c-8b85-47df-8256-306ecc94aa16",
   "metadata": {},
   "outputs": [],
   "source": [
    "display.Image('local_cli_bodega-bay-bml_wts.nc_salt.png')"
   ]
  },
  {
   "cell_type": "markdown",
   "id": "61ef1543-af4a-4059-b4a8-543a2a8b3ffd",
   "metadata": {},
   "source": [
    "### Nonlocal workflow: stations"
   ]
  },
  {
   "cell_type": "code",
   "execution_count": null,
   "id": "6211707b-d967-4bdd-8139-0f310fa7f489",
   "metadata": {},
   "outputs": [],
   "source": [
    "config_file = 'config_nonlocal.yaml'"
   ]
  },
  {
   "cell_type": "raw",
   "id": "416da433-c188-4222-be8c-9f282c317c0f",
   "metadata": {},
   "source": [
    "# %load config_nonlocal.yaml\n",
    "---\n",
    "approach: \"stations\"\n",
    "loc_model: \"https://thredds.cencoos.org/thredds/dodsC/CENCOOS_CA_ROMS_FCST.nc\"\n",
    "axds:\n",
    "bbox:\n",
    "criteria:\n",
    "  salt:\n",
    "    name:\n",
    "      \"sea_water_practical_salinity$\"\n",
    "erddap:\n",
    "  known_server:\n",
    "    \"ioos\"\n",
    "figname_map: \"nonlocal_cli.png\"\n",
    "figname_data_prefix: \"nonlocal_cli_\"\n",
    "local:\n",
    "only_search: false\n",
    "only_searchplot: false\n",
    "parallel: true\n",
    "readers:\n",
    "  - \"erddap\"\n",
    "run_qc: false\n",
    "skip_units: true\n",
    "stations:\n",
    "  - \"edu_humboldt_tdp\"\n",
    "  - \"bodega-bay-bml_wts\"\n",
    "time_range:\n",
    "  - \"2021-9-1\"\n",
    "  - \"2021-9-8\"\n",
    "var_def:\n",
    "  salt:\n",
    "    units: \"psu\"\n",
    "    fail_span:\n",
    "      - -10\n",
    "      - 60\n",
    "    suspect_span:\n",
    "      - -1\n",
    "      - 45\n",
    "variables:\n",
    "  - \"salt\"\n",
    "xarray_kwargs:\n",
    "  chunks:\n",
    "    time:\n",
    "      1\n",
    "    depth:\n",
    "      1"
   ]
  },
  {
   "cell_type": "code",
   "execution_count": null,
   "id": "043027af-3c10-4409-82d7-40aafb1a0e0c",
   "metadata": {},
   "outputs": [],
   "source": [
    "!python ../ocean_model_skill_assessor/CLI.py $config_file"
   ]
  },
  {
   "cell_type": "code",
   "execution_count": null,
   "id": "5fe74744-4c9c-47d2-8d78-b7538bc4cd9e",
   "metadata": {},
   "outputs": [],
   "source": [
    "display.Image(\"nonlocal_cli.png\")"
   ]
  },
  {
   "cell_type": "code",
   "execution_count": null,
   "id": "71277ce0-9c23-46e3-9b89-fa5bfe989b23",
   "metadata": {},
   "outputs": [],
   "source": [
    "display.Image('nonlocal_cli_edu_humboldt_tdp_salt.png')"
   ]
  },
  {
   "cell_type": "code",
   "execution_count": null,
   "id": "6bafb68c-1f6f-4504-b01b-17230f151b84",
   "metadata": {},
   "outputs": [],
   "source": [
    "display.Image('nonlocal_cli_bodega-bay-bml_wts_salt.png')"
   ]
  },
  {
   "cell_type": "markdown",
   "id": "dfbe9394-c2c0-42f8-b203-e489dd50a2bf",
   "metadata": {},
   "source": [
    "### Nonlocal reader: region"
   ]
  },
  {
   "cell_type": "code",
   "execution_count": null,
   "id": "c2054461-ab60-4f47-b6fd-fc3b3198e5c0",
   "metadata": {},
   "outputs": [],
   "source": [
    "config_file = 'config_nonlocal_region.yaml'"
   ]
  },
  {
   "cell_type": "raw",
   "id": "1e6bb548-d6a6-4545-809e-aaa6e761284d",
   "metadata": {},
   "source": [
    "# %load config_nonlocal_region.yaml\n",
    "---\n",
    "approach: \"region\"\n",
    "loc_model: \"https://thredds.cencoos.org/thredds/dodsC/CENCOOS_CA_ROMS_FCST.nc\"\n",
    "axds:\n",
    "bbox:\n",
    "  - -124.5\n",
    "  - 40\n",
    "  - -123.5\n",
    "  - 42\n",
    "criteria:\n",
    "  salt:\n",
    "    name:\n",
    "      \"sea_water_practical_salinity$\"\n",
    "erddap:\n",
    "  known_server:\n",
    "    \"ioos\"\n",
    "figname_map: \"nonlocal_cli_region.png\"\n",
    "figname_data_prefix: \"nonlocal_cli__region\"\n",
    "local:\n",
    "only_search: false\n",
    "only_searchplot: false\n",
    "parallel: true\n",
    "readers:\n",
    "  - \"erddap\"\n",
    "run_qc: false\n",
    "skip_units: true\n",
    "stations:\n",
    "time_range:\n",
    "  - \"2021-9-1\"\n",
    "  - \"2021-9-8\"\n",
    "var_def:\n",
    "  salt:\n",
    "    units: \"psu\"\n",
    "    fail_span:\n",
    "      - -10\n",
    "      - 60\n",
    "    suspect_span:\n",
    "      - -1\n",
    "      - 45\n",
    "variables:\n",
    "  - \"salt\"\n",
    "xarray_kwargs:\n",
    "  chunks:\n",
    "    time:\n",
    "      1\n",
    "    depth:\n",
    "      1"
   ]
  },
  {
   "cell_type": "code",
   "execution_count": null,
   "id": "bb8f67ca-f638-4f8d-9c1d-381300a93100",
   "metadata": {},
   "outputs": [],
   "source": [
    "!python ../ocean_model_skill_assessor/CLI.py $config_file"
   ]
  },
  {
   "cell_type": "code",
   "execution_count": null,
   "id": "cd5e067b-03ce-4496-aeb6-549e6e2bd15c",
   "metadata": {},
   "outputs": [],
   "source": [
    "display.Image(\"nonlocal_cli_region.png\")"
   ]
  }
 ],
 "metadata": {
  "kernelspec": {
   "display_name": "Python 3 (ipykernel)",
   "language": "python",
   "name": "python3"
  },
  "language_info": {
   "codemirror_mode": {
    "name": "ipython",
    "version": 3
   },
   "file_extension": ".py",
   "mimetype": "text/x-python",
   "name": "python",
   "nbconvert_exporter": "python",
   "pygments_lexer": "ipython3",
   "version": "3.8.12"
  }
 },
 "nbformat": 4,
 "nbformat_minor": 5
}
