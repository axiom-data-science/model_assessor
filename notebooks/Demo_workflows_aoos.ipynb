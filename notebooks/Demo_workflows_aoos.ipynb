{
 "cells": [
  {
   "cell_type": "markdown",
   "id": "a9da2fa8-9a25-497e-8ec6-d08609ad38ca",
   "metadata": {},
   "source": [
    "# Demo workflows\n",
    "\n",
    "Below are demonstrated the use of this library as a Python package and from the command line interface. Note that one step demonstrated below is to save datasets you need to run the local examples."
   ]
  },
  {
   "cell_type": "code",
   "execution_count": 1,
   "id": "3b2011cd-01e0-454c-af6f-d968522f5385",
   "metadata": {},
   "outputs": [],
   "source": [
    "import xarray as xr\n",
    "import ocean_data_gateway as odg\n",
    "import cf_xarray\n",
    "import pandas as pd\n",
    "import extract_model as em\n",
    "import ocean_model_skill_assessor as omsa\n",
    "import numpy as np\n",
    "from IPython import display\n",
    "from glob import glob"
   ]
  },
  {
   "cell_type": "markdown",
   "id": "07a7bb3c-38d8-45a1-8444-ff0ea7aac52f",
   "metadata": {},
   "source": [
    "## Definitions\n",
    "\n",
    "These dictionaries are not required for every type of run, but are required for identifying variables between datasets and models, and for running QC. They can be complicated if desired, but do not have to be. Once they are written they do not need to be modified much. More information about these dictionaries is available in the [`ocean_data_gateway` docs](https://ocean-data-gateway.readthedocs.io/en/latest/details.html#Configure-custom-criteria-and-variable-definitions)."
   ]
  },
  {
   "cell_type": "code",
   "execution_count": 2,
   "id": "b0e38fa9-0318-4c0b-9be8-d622db151d97",
   "metadata": {},
   "outputs": [],
   "source": [
    "criteria = {\n",
    "    \"salt\": {\n",
    "        \"name\": \"sea_water_practical_salinity$\",\n",
    "    },\n",
    "}\n",
    "\n",
    "var_def = {\n",
    "    \"salt\": {\"units\": \"psu\", \"fail_span\": [-10, 60], \"suspect_span\": [-1, 45]},\n",
    "}\n"
   ]
  },
  {
   "cell_type": "markdown",
   "id": "571d37a7-bd3c-4629-9931-e293bc609ce0",
   "metadata": {},
   "source": [
    "A more complicated example of `criteria` is shown here, as it can be brought it from a nonlocal source:"
   ]
  },
  {
   "cell_type": "code",
   "execution_count": 3,
   "id": "ed628da3-09dd-4b3a-bfd0-cd52b154399b",
   "metadata": {},
   "outputs": [
    {
     "data": {
      "text/plain": [
       "{'ssh': {'standard_name': 'sea_surface_height$|sea_surface_elevation|sea_surface_height_above_sea_level$',\n",
       "  'name': '(?i)sea_surface_elevation(?!.*?_qc)|(?i)sea_surface_height_above_sea_level_geoid_mllw$|(?i)zeta$|(?i)Sea Surface Height(?!.*?_qc)|(?i)Water Surface above Datum(?!.*?_qc)'},\n",
       " 'temp': {'name': '(?i)temp$|(?i)temperature$|(?i)tem$|(?i)s.sea_water_temperature$|(?i)temperature(?!.*(skin|ground|air|_qc))'},\n",
       " 'salt': {'standard_name': 'sea_water_salinity$|sea_water_practical_salinity$',\n",
       "  'name': '(?i)salinity(?!.*(soil|_qc))|(?i)sea_water_salinity$|(?i)sea_water_practical_salinity$|(?i)salinity$|(?i)salt$|(?i)sal$|(?i)s.sea_water_practical_salinity$'},\n",
       " 'u': {'standard_name': 'eastward_sea_water_velocity$|sea_water_x_velocity|surface_eastward_sea_water_velocity',\n",
       "  'name': '(?i)eastward_sea_water_velocity(?!.*?_qc)|(?i)sea_water_x_velocity(?!.*?_qc)|(?i)uo(?!.*?_qc)'},\n",
       " 'v': {'standard_name': 'northward_sea_water_velocity$|sea_water_y_velocity|surface_northward_sea_water_velocity',\n",
       "  'name': '(?i)northward_sea_water_velocity(?!.*?_qc)|(?i)sea_water_y_velocity(?!.*?_qc)|(?i)vo(?!.*?_qc)'},\n",
       " 'wind_speed': {'standard_name': 'wind_speed$'}}"
      ]
     },
     "execution_count": 3,
     "metadata": {},
     "output_type": "execute_result"
    }
   ],
   "source": [
    "url = 'https://gist.githubusercontent.com/kthyng/c3cc27de6b4449e1776ce79215d5e732/raw/af448937e4896535e36ef6522df8460e8f928cd6/my_custom_criteria.py'\n",
    "criteria = odg.return_response(url)\n",
    "criteria"
   ]
  },
  {
   "cell_type": "code",
   "execution_count": 4,
   "id": "60b58446-c0e9-4e3b-b6a0-15572dace366",
   "metadata": {},
   "outputs": [],
   "source": [
    "# for ciofs:\n",
    "kw = {\n",
    "    \"min_lon\": -156,\n",
    "    \"max_lon\": -148,\n",
    "    \"min_lat\": 56,\n",
    "    \"max_lat\": 62,\n",
    "    \"min_time\": '2022-5-20',\n",
    "    \"max_time\": '2022-5-23',\n",
    "}"
   ]
  },
  {
   "cell_type": "code",
   "execution_count": 5,
   "id": "c38ad78e-c777-49b6-8276-8aaef934409d",
   "metadata": {},
   "outputs": [],
   "source": [
    "# setup Data search object\n",
    "data = odg.Gateway(kw=kw, approach='region')"
   ]
  },
  {
   "cell_type": "code",
   "execution_count": null,
   "id": "42e61998-0988-42d8-8dfb-8bfe6771147e",
   "metadata": {},
   "outputs": [],
   "source": [
    "#odg.Gateway?"
   ]
  },
  {
   "cell_type": "code",
   "execution_count": null,
   "id": "8ada0bdc-1373-4b99-8658-22a937babcb8",
   "metadata": {},
   "outputs": [],
   "source": [
    "#len(data.dataset_ids)"
   ]
  },
  {
   "cell_type": "code",
   "execution_count": null,
   "id": "4d484e85-29d3-45a3-a334-0e71c0315332",
   "metadata": {},
   "outputs": [],
   "source": [
    "#valid_ids = []\n",
    "#valid_dss = []\n",
    "#for k in range(238, len(data.dataset_ids)): \n",
    "#    if data[data.dataset_ids[k]]: \n",
    "#        if ('sea_water_salinity' in data[data.dataset_ids[k]].variables) | ('sea_water_practical_salinity' in data[data.dataset_ids[k]].variables):\n",
    "#            print(k, '  ', data.dataset_ids[k])\n",
    "#            valid_ids.append(k)\n",
    "#            valid_dss.append(data.dataset_ids[k])           "
   ]
  },
  {
   "cell_type": "code",
   "execution_count": 6,
   "id": "1dc32176-1097-4497-9a71-5fd795edf2f2",
   "metadata": {},
   "outputs": [],
   "source": [
    "# for ciofs\n",
    "valid_ids = [51, 83, 219, 238]\n",
    "valid_dss = ['nerrs_kacsdwq', 'cdmo_nerrs_3b00077a', 'cdmo_nerrs_3b040240', 'nerrs_kachdwq']"
   ]
  },
  {
   "cell_type": "code",
   "execution_count": 7,
   "id": "85e357c0-4e2c-4213-b8b5-0a9f8eff1a07",
   "metadata": {},
   "outputs": [],
   "source": [
    "# plotting just stations with salinity \n",
    "import matplotlib.pyplot as plt\n",
    "\n",
    "plot_lat = []\n",
    "plot_lon = []\n",
    "plot_text = []\n",
    "for valid_ds in valid_dss:\n",
    "    plot_lat.append(data[valid_ds].latitude)\n",
    "    plot_lon.append(data[valid_ds].longitude)\n",
    "    # plot_text.append(str(k))"
   ]
  },
  {
   "cell_type": "code",
   "execution_count": 8,
   "id": "357a4b51-5063-486f-aa00-4eb81a030ebf",
   "metadata": {},
   "outputs": [
    {
     "data": {
      "image/png": "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\n",
      "text/plain": [
       "<Figure size 432x288 with 1 Axes>"
      ]
     },
     "metadata": {
      "needs_background": "light"
     },
     "output_type": "display_data"
    }
   ],
   "source": [
    "# plotting all stations\n",
    "plt.plot(plot_lon,plot_lat,'.')\n",
    "plt.show()"
   ]
  },
  {
   "cell_type": "code",
   "execution_count": 9,
   "id": "11ef1069-fb36-4fd2-9d08-baed998f19e5",
   "metadata": {},
   "outputs": [],
   "source": [
    "# best datasets - ciofs\n",
    "dataset_ids = ['nerrs_kacsdwq', 'cdmo_nerrs_3b00077a']"
   ]
  },
  {
   "cell_type": "markdown",
   "id": "6a4dced1-5652-4521-9c67-509861debee3",
   "metadata": {},
   "source": [
    "## Python library\n",
    "\n",
    "This package can be used as a Python package or from the command line. Here we demonstrate its use as a Python package."
   ]
  },
  {
   "cell_type": "markdown",
   "id": "b936240d-ba13-4c23-bd7e-4b8510b7d551",
   "metadata": {},
   "source": [
    "### Nonlocal reader: stations\n",
    "\n",
    "This demonstrates the case in which your data files for comparing with model output are not available locally, but you know their names and where to find them (in this case, at the IOOS ERDDAP server). More information about these inputs is available in the [API docs](https://ocean-model-skill-assessor.readthedocs.io/en/latest/api.html)."
   ]
  },
  {
   "cell_type": "code",
<<<<<<< HEAD
   "execution_count": 10,
=======
   "execution_count": 11,
>>>>>>> 295431a696e601c5108e17a78e965ba530d3ba72
   "id": "21359a6e-6433-44aa-b1e6-d9745a433b0a",
   "metadata": {},
   "outputs": [
    {
     "name": "stderr",
     "output_type": "stream",
     "text": [
<<<<<<< HEAD
      "Error:Attribute value out of range: _FillValue = NaN\n",
      "Error:Attribute value out of range: _FillValue = NaN\n",
      "Error:Attribute value out of range: _FillValue = NaN\n"
     ]
    },
    {
     "ename": "KeyError",
     "evalue": "'lat is not a valid dimension or coordinate'",
     "output_type": "error",
     "traceback": [
      "\u001b[0;31m---------------------------------------------------------------------------\u001b[0m",
      "\u001b[0;31mKeyError\u001b[0m                                  Traceback (most recent call last)",
      "File \u001b[0;32m~/miniconda3/envs/ocean-model-skill-assessor/lib/python3.10/site-packages/xarray/core/indexing.py:73\u001b[0m, in \u001b[0;36mgroup_indexers_by_index\u001b[0;34m(data_obj, indexers, method, tolerance)\u001b[0m\n\u001b[1;32m     72\u001b[0m \u001b[38;5;28;01mtry\u001b[39;00m:\n\u001b[0;32m---> 73\u001b[0m     index \u001b[38;5;241m=\u001b[39m \u001b[43mxindexes\u001b[49m\u001b[43m[\u001b[49m\u001b[43mkey\u001b[49m\u001b[43m]\u001b[49m\n\u001b[1;32m     74\u001b[0m     coord \u001b[38;5;241m=\u001b[39m data_obj\u001b[38;5;241m.\u001b[39mcoords[key]\n",
      "\u001b[0;31mKeyError\u001b[0m: 'lat'",
      "\nDuring handling of the above exception, another exception occurred:\n",
      "\u001b[0;31mKeyError\u001b[0m                                  Traceback (most recent call last)",
      "Input \u001b[0;32mIn [10]\u001b[0m, in \u001b[0;36m<cell line: 8>\u001b[0;34m()\u001b[0m\n\u001b[1;32m      5\u001b[0m \u001b[38;5;66;03m# best datasets - ciofs\u001b[39;00m\n\u001b[1;32m      6\u001b[0m dataset_ids \u001b[38;5;241m=\u001b[39m [\u001b[38;5;124m'\u001b[39m\u001b[38;5;124mnerrs_kacsdwq\u001b[39m\u001b[38;5;124m'\u001b[39m, \u001b[38;5;124m'\u001b[39m\u001b[38;5;124mcdmo_nerrs_3b00077a\u001b[39m\u001b[38;5;124m'\u001b[39m] \n\u001b[0;32m----> 8\u001b[0m search \u001b[38;5;241m=\u001b[39m \u001b[43momsa\u001b[49m\u001b[38;5;241;43m.\u001b[39;49m\u001b[43mrun\u001b[49m\u001b[43m(\u001b[49m\u001b[43mloc_model\u001b[49m\u001b[43m \u001b[49m\u001b[38;5;241;43m=\u001b[39;49m\u001b[43m \u001b[49m\u001b[43mmodel_url\u001b[49m\u001b[43m,\u001b[49m\n\u001b[1;32m      9\u001b[0m \u001b[43m                  \u001b[49m\u001b[43mapproach\u001b[49m\u001b[38;5;241;43m=\u001b[39;49m\u001b[38;5;124;43m'\u001b[39;49m\u001b[38;5;124;43mstations\u001b[39;49m\u001b[38;5;124;43m'\u001b[39;49m\u001b[43m,\u001b[49m\n\u001b[1;32m     10\u001b[0m \u001b[43m                  \u001b[49m\u001b[43mcriteria\u001b[49m\u001b[38;5;241;43m=\u001b[39;49m\u001b[43mcriteria\u001b[49m\u001b[43m,\u001b[49m\n\u001b[1;32m     11\u001b[0m \u001b[43m                  \u001b[49m\u001b[43mvar_def\u001b[49m\u001b[38;5;241;43m=\u001b[39;49m\u001b[43mvar_def\u001b[49m\u001b[43m,\u001b[49m\n\u001b[1;32m     12\u001b[0m \u001b[43m                  \u001b[49m\u001b[43mxarray_kwargs\u001b[49m\u001b[38;5;241;43m=\u001b[39;49m\u001b[43m{\u001b[49m\u001b[38;5;124;43m'\u001b[39;49m\u001b[38;5;124;43mchunks\u001b[39;49m\u001b[38;5;124;43m'\u001b[39;49m\u001b[43m:\u001b[49m\u001b[43m \u001b[49m\u001b[43m{\u001b[49m\u001b[38;5;124;43m'\u001b[39;49m\u001b[38;5;124;43mtime\u001b[39;49m\u001b[38;5;124;43m'\u001b[39;49m\u001b[43m:\u001b[49m\u001b[43m \u001b[49m\u001b[38;5;241;43m1\u001b[39;49m\u001b[43m,\u001b[49m\u001b[43m \u001b[49m\u001b[38;5;124;43m'\u001b[39;49m\u001b[38;5;124;43mdepth\u001b[39;49m\u001b[38;5;124;43m'\u001b[39;49m\u001b[43m:\u001b[49m\u001b[43m \u001b[49m\u001b[38;5;241;43m1\u001b[39;49m\u001b[43m}\u001b[49m\u001b[43m}\u001b[49m\u001b[43m,\u001b[49m\n\u001b[1;32m     13\u001b[0m \u001b[43m                  \u001b[49m\u001b[43mtime_range\u001b[49m\u001b[38;5;241;43m=\u001b[39;49m\u001b[43m[\u001b[49m\u001b[38;5;124;43m'\u001b[39;49m\u001b[38;5;124;43m2022-5-20\u001b[39;49m\u001b[38;5;124;43m'\u001b[39;49m\u001b[43m,\u001b[49m\u001b[38;5;124;43m'\u001b[39;49m\u001b[38;5;124;43m2022-5-23\u001b[39;49m\u001b[38;5;124;43m'\u001b[39;49m\u001b[43m]\u001b[49m\u001b[43m,\u001b[49m\u001b[43m \u001b[49m\n\u001b[1;32m     14\u001b[0m \u001b[43m                  \u001b[49m\u001b[43mvariables\u001b[49m\u001b[38;5;241;43m=\u001b[39;49m\u001b[43m[\u001b[49m\u001b[38;5;124;43m'\u001b[39;49m\u001b[38;5;124;43msalt\u001b[39;49m\u001b[38;5;124;43m'\u001b[39;49m\u001b[43m]\u001b[49m\u001b[43m,\u001b[49m\n\u001b[1;32m     15\u001b[0m \u001b[43m                  \u001b[49m\u001b[43mreaders\u001b[49m\u001b[38;5;241;43m=\u001b[39;49m\u001b[43m[\u001b[49m\u001b[43modg\u001b[49m\u001b[38;5;241;43m.\u001b[39;49m\u001b[43merddap\u001b[49m\u001b[43m]\u001b[49m\u001b[43m,\u001b[49m\n\u001b[1;32m     16\u001b[0m \u001b[43m                  \u001b[49m\u001b[43merddap\u001b[49m\u001b[38;5;241;43m=\u001b[39;49m\u001b[43m{\u001b[49m\n\u001b[1;32m     17\u001b[0m \u001b[43m                      \u001b[49m\u001b[38;5;124;43m'\u001b[39;49m\u001b[38;5;124;43mknown_server\u001b[39;49m\u001b[38;5;124;43m'\u001b[39;49m\u001b[43m:\u001b[49m\u001b[43m \u001b[49m\u001b[38;5;124;43m'\u001b[39;49m\u001b[38;5;124;43mioos\u001b[39;49m\u001b[38;5;124;43m'\u001b[39;49m\n\u001b[1;32m     18\u001b[0m \u001b[43m                  \u001b[49m\u001b[43m}\u001b[49m\u001b[43m,\u001b[49m\n\u001b[1;32m     19\u001b[0m \u001b[43m                  \u001b[49m\u001b[43mstations\u001b[49m\u001b[43m \u001b[49m\u001b[38;5;241;43m=\u001b[39;49m\u001b[43m \u001b[49m\u001b[43mdataset_ids\u001b[49m\u001b[43m,\u001b[49m\n\u001b[1;32m     20\u001b[0m \u001b[43m                  \u001b[49m\u001b[43mfigname_map\u001b[49m\u001b[38;5;241;43m=\u001b[39;49m\u001b[38;5;124;43m'\u001b[39;49m\u001b[38;5;124;43mnonlocal_library.png\u001b[39;49m\u001b[38;5;124;43m'\u001b[39;49m\u001b[43m,\u001b[49m\n\u001b[1;32m     21\u001b[0m \u001b[43m                  \u001b[49m\u001b[43mfigname_data_prefix\u001b[49m\u001b[38;5;241;43m=\u001b[39;49m\u001b[38;5;124;43m'\u001b[39;49m\u001b[38;5;124;43mnonlocal_library_\u001b[39;49m\u001b[38;5;124;43m'\u001b[39;49m\u001b[43m,\u001b[49m\n\u001b[1;32m     22\u001b[0m \u001b[43m                  \u001b[49m\u001b[43mparallel\u001b[49m\u001b[38;5;241;43m=\u001b[39;49m\u001b[38;5;28;43;01mFalse\u001b[39;49;00m\n\u001b[1;32m     23\u001b[0m \u001b[43m)\u001b[49m\n",
      "File \u001b[0;32m~/miniconda3/envs/ocean-model-skill-assessor/lib/python3.10/site-packages/ocean_model_skill_assessor/main.py:370\u001b[0m, in \u001b[0;36mrun\u001b[0;34m(approach, loc_model, axds, bbox, criteria, erddap, figname_map, figname_data_prefix, local, only_search, only_searchplot, parallel, readers, run_qc, skip_units, stations, time_range, variables, var_def, xarray_kwargs)\u001b[0m\n\u001b[1;32m    367\u001b[0m     \u001b[38;5;28;01mcontinue\u001b[39;00m\n\u001b[1;32m    369\u001b[0m \u001b[38;5;28;01mfor\u001b[39;00m variable \u001b[38;5;129;01min\u001b[39;00m variables:\n\u001b[0;32m--> 370\u001b[0m     da \u001b[38;5;241m=\u001b[39m (\u001b[43mdsm\u001b[49m\n\u001b[1;32m    371\u001b[0m \u001b[43m    \u001b[49m\u001b[38;5;241;43m.\u001b[39;49m\u001b[43mcf\u001b[49m\u001b[43m[\u001b[49m\u001b[43mvariable\u001b[49m\u001b[43m]\u001b[49m\n\u001b[1;32m    372\u001b[0m \u001b[43m    \u001b[49m\u001b[38;5;241;43m.\u001b[39;49m\u001b[43mcf\u001b[49m\u001b[38;5;241;43m.\u001b[39;49m\u001b[43misel\u001b[49m\u001b[43m(\u001b[49m\u001b[43mZ\u001b[49m\u001b[38;5;241;43m=\u001b[39;49m\u001b[38;5;241;43m0\u001b[39;49m\u001b[43m)\u001b[49m\n\u001b[1;32m    373\u001b[0m \u001b[43m    \u001b[49m\u001b[38;5;241;43m.\u001b[39;49m\u001b[43mcf\u001b[49m\u001b[38;5;241;43m.\u001b[39;49m\u001b[43msel\u001b[49m\u001b[43m(\u001b[49m\u001b[43mlon\u001b[49m\u001b[38;5;241;43m=\u001b[39;49m\u001b[38;5;28;43mslice\u001b[39;49m\u001b[43m(\u001b[49m\u001b[43mlon\u001b[49m\u001b[43m \u001b[49m\u001b[38;5;241;43m-\u001b[39;49m\u001b[43m \u001b[49m\u001b[38;5;241;43m5\u001b[39;49m\u001b[43m,\u001b[49m\u001b[43m \u001b[49m\u001b[43mlon\u001b[49m\u001b[43m \u001b[49m\u001b[38;5;241;43m+\u001b[39;49m\u001b[43m \u001b[49m\u001b[38;5;241;43m5\u001b[39;49m\u001b[43m)\u001b[49m\u001b[43m,\u001b[49m\u001b[43m \u001b[49m\u001b[43mlat\u001b[49m\u001b[38;5;241;43m=\u001b[39;49m\u001b[38;5;28;43mslice\u001b[39;49m\u001b[43m(\u001b[49m\u001b[43mlat\u001b[49m\u001b[43m \u001b[49m\u001b[38;5;241;43m-\u001b[39;49m\u001b[43m \u001b[49m\u001b[38;5;241;43m5\u001b[39;49m\u001b[43m,\u001b[49m\u001b[43m \u001b[49m\u001b[43mlat\u001b[49m\u001b[43m \u001b[49m\u001b[38;5;241;43m+\u001b[39;49m\u001b[43m \u001b[49m\u001b[38;5;241;43m5\u001b[39;49m\u001b[43m)\u001b[49m\u001b[43m)\u001b[49m\n\u001b[1;32m    374\u001b[0m     )\n\u001b[1;32m    376\u001b[0m     kwargs \u001b[38;5;241m=\u001b[39m \u001b[38;5;28mdict\u001b[39m(\n\u001b[1;32m    377\u001b[0m         da\u001b[38;5;241m=\u001b[39mda,\n\u001b[1;32m    378\u001b[0m         longitude\u001b[38;5;241m=\u001b[39mlon,\n\u001b[0;32m   (...)\u001b[0m\n\u001b[1;32m    382\u001b[0m         locstream\u001b[38;5;241m=\u001b[39m\u001b[38;5;28;01mTrue\u001b[39;00m\n\u001b[1;32m    383\u001b[0m     )\n\u001b[1;32m    385\u001b[0m     model_var \u001b[38;5;241m=\u001b[39m em\u001b[38;5;241m.\u001b[39mselect(\u001b[38;5;241m*\u001b[39m\u001b[38;5;241m*\u001b[39mkwargs)\n",
      "File \u001b[0;32m~/miniconda3/envs/ocean-model-skill-assessor/lib/python3.10/site-packages/cf_xarray/accessor.py:587\u001b[0m, in \u001b[0;36m_getattr.<locals>.wrapper\u001b[0;34m(*args, **kwargs)\u001b[0m\n\u001b[1;32m    583\u001b[0m posargs, arguments \u001b[38;5;241m=\u001b[39m accessor\u001b[38;5;241m.\u001b[39m_process_signature(\n\u001b[1;32m    584\u001b[0m     func, args, kwargs, key_mappers\n\u001b[1;32m    585\u001b[0m )\n\u001b[1;32m    586\u001b[0m final_func \u001b[38;5;241m=\u001b[39m extra_decorator(func) \u001b[38;5;28;01mif\u001b[39;00m extra_decorator \u001b[38;5;28;01melse\u001b[39;00m func\n\u001b[0;32m--> 587\u001b[0m result \u001b[38;5;241m=\u001b[39m \u001b[43mfinal_func\u001b[49m\u001b[43m(\u001b[49m\u001b[38;5;241;43m*\u001b[39;49m\u001b[43mposargs\u001b[49m\u001b[43m,\u001b[49m\u001b[43m \u001b[49m\u001b[38;5;241;43m*\u001b[39;49m\u001b[38;5;241;43m*\u001b[39;49m\u001b[43marguments\u001b[49m\u001b[43m)\u001b[49m\n\u001b[1;32m    588\u001b[0m \u001b[38;5;28;01mif\u001b[39;00m wrap_classes \u001b[38;5;129;01mand\u001b[39;00m \u001b[38;5;28misinstance\u001b[39m(result, _WRAPPED_CLASSES):\n\u001b[1;32m    589\u001b[0m     result \u001b[38;5;241m=\u001b[39m _CFWrappedClass(result, accessor)\n",
      "File \u001b[0;32m~/miniconda3/envs/ocean-model-skill-assessor/lib/python3.10/site-packages/xarray/core/dataarray.py:1329\u001b[0m, in \u001b[0;36mDataArray.sel\u001b[0;34m(self, indexers, method, tolerance, drop, **indexers_kwargs)\u001b[0m\n\u001b[1;32m   1220\u001b[0m \u001b[38;5;28;01mdef\u001b[39;00m \u001b[38;5;21msel\u001b[39m(\n\u001b[1;32m   1221\u001b[0m     \u001b[38;5;28mself\u001b[39m,\n\u001b[1;32m   1222\u001b[0m     indexers: Mapping[Any, Any] \u001b[38;5;241m=\u001b[39m \u001b[38;5;28;01mNone\u001b[39;00m,\n\u001b[0;32m   (...)\u001b[0m\n\u001b[1;32m   1226\u001b[0m     \u001b[38;5;241m*\u001b[39m\u001b[38;5;241m*\u001b[39mindexers_kwargs: Any,\n\u001b[1;32m   1227\u001b[0m ) \u001b[38;5;241m-\u001b[39m\u001b[38;5;241m>\u001b[39m DataArray:\n\u001b[1;32m   1228\u001b[0m     \u001b[38;5;124;03m\"\"\"Return a new DataArray whose data is given by selecting index\u001b[39;00m\n\u001b[1;32m   1229\u001b[0m \u001b[38;5;124;03m    labels along the specified dimension(s).\u001b[39;00m\n\u001b[1;32m   1230\u001b[0m \n\u001b[0;32m   (...)\u001b[0m\n\u001b[1;32m   1327\u001b[0m \u001b[38;5;124;03m    Dimensions without coordinates: points\u001b[39;00m\n\u001b[1;32m   1328\u001b[0m \u001b[38;5;124;03m    \"\"\"\u001b[39;00m\n\u001b[0;32m-> 1329\u001b[0m     ds \u001b[38;5;241m=\u001b[39m \u001b[38;5;28;43mself\u001b[39;49m\u001b[38;5;241;43m.\u001b[39;49m\u001b[43m_to_temp_dataset\u001b[49m\u001b[43m(\u001b[49m\u001b[43m)\u001b[49m\u001b[38;5;241;43m.\u001b[39;49m\u001b[43msel\u001b[49m\u001b[43m(\u001b[49m\n\u001b[1;32m   1330\u001b[0m \u001b[43m        \u001b[49m\u001b[43mindexers\u001b[49m\u001b[38;5;241;43m=\u001b[39;49m\u001b[43mindexers\u001b[49m\u001b[43m,\u001b[49m\n\u001b[1;32m   1331\u001b[0m \u001b[43m        \u001b[49m\u001b[43mdrop\u001b[49m\u001b[38;5;241;43m=\u001b[39;49m\u001b[43mdrop\u001b[49m\u001b[43m,\u001b[49m\n\u001b[1;32m   1332\u001b[0m \u001b[43m        \u001b[49m\u001b[43mmethod\u001b[49m\u001b[38;5;241;43m=\u001b[39;49m\u001b[43mmethod\u001b[49m\u001b[43m,\u001b[49m\n\u001b[1;32m   1333\u001b[0m \u001b[43m        \u001b[49m\u001b[43mtolerance\u001b[49m\u001b[38;5;241;43m=\u001b[39;49m\u001b[43mtolerance\u001b[49m\u001b[43m,\u001b[49m\n\u001b[1;32m   1334\u001b[0m \u001b[43m        \u001b[49m\u001b[38;5;241;43m*\u001b[39;49m\u001b[38;5;241;43m*\u001b[39;49m\u001b[43mindexers_kwargs\u001b[49m\u001b[43m,\u001b[49m\n\u001b[1;32m   1335\u001b[0m \u001b[43m    \u001b[49m\u001b[43m)\u001b[49m\n\u001b[1;32m   1336\u001b[0m     \u001b[38;5;28;01mreturn\u001b[39;00m \u001b[38;5;28mself\u001b[39m\u001b[38;5;241m.\u001b[39m_from_temp_dataset(ds)\n",
      "File \u001b[0;32m~/miniconda3/envs/ocean-model-skill-assessor/lib/python3.10/site-packages/xarray/core/dataset.py:2501\u001b[0m, in \u001b[0;36mDataset.sel\u001b[0;34m(self, indexers, method, tolerance, drop, **indexers_kwargs)\u001b[0m\n\u001b[1;32m   2440\u001b[0m \u001b[38;5;124;03m\"\"\"Returns a new dataset with each array indexed by tick labels\u001b[39;00m\n\u001b[1;32m   2441\u001b[0m \u001b[38;5;124;03malong the specified dimension(s).\u001b[39;00m\n\u001b[1;32m   2442\u001b[0m \n\u001b[0;32m   (...)\u001b[0m\n\u001b[1;32m   2498\u001b[0m \u001b[38;5;124;03mDataArray.sel\u001b[39;00m\n\u001b[1;32m   2499\u001b[0m \u001b[38;5;124;03m\"\"\"\u001b[39;00m\n\u001b[1;32m   2500\u001b[0m indexers \u001b[38;5;241m=\u001b[39m either_dict_or_kwargs(indexers, indexers_kwargs, \u001b[38;5;124m\"\u001b[39m\u001b[38;5;124msel\u001b[39m\u001b[38;5;124m\"\u001b[39m)\n\u001b[0;32m-> 2501\u001b[0m pos_indexers, new_indexes \u001b[38;5;241m=\u001b[39m \u001b[43mremap_label_indexers\u001b[49m\u001b[43m(\u001b[49m\n\u001b[1;32m   2502\u001b[0m \u001b[43m    \u001b[49m\u001b[38;5;28;43mself\u001b[39;49m\u001b[43m,\u001b[49m\u001b[43m \u001b[49m\u001b[43mindexers\u001b[49m\u001b[38;5;241;43m=\u001b[39;49m\u001b[43mindexers\u001b[49m\u001b[43m,\u001b[49m\u001b[43m \u001b[49m\u001b[43mmethod\u001b[49m\u001b[38;5;241;43m=\u001b[39;49m\u001b[43mmethod\u001b[49m\u001b[43m,\u001b[49m\u001b[43m \u001b[49m\u001b[43mtolerance\u001b[49m\u001b[38;5;241;43m=\u001b[39;49m\u001b[43mtolerance\u001b[49m\n\u001b[1;32m   2503\u001b[0m \u001b[43m\u001b[49m\u001b[43m)\u001b[49m\n\u001b[1;32m   2504\u001b[0m \u001b[38;5;66;03m# TODO: benbovy - flexible indexes: also use variables returned by Index.query\u001b[39;00m\n\u001b[1;32m   2505\u001b[0m \u001b[38;5;66;03m# (temporary dirty fix).\u001b[39;00m\n\u001b[1;32m   2506\u001b[0m new_indexes \u001b[38;5;241m=\u001b[39m {k: v[\u001b[38;5;241m0\u001b[39m] \u001b[38;5;28;01mfor\u001b[39;00m k, v \u001b[38;5;129;01min\u001b[39;00m new_indexes\u001b[38;5;241m.\u001b[39mitems()}\n",
      "File \u001b[0;32m~/miniconda3/envs/ocean-model-skill-assessor/lib/python3.10/site-packages/xarray/core/coordinates.py:421\u001b[0m, in \u001b[0;36mremap_label_indexers\u001b[0;34m(obj, indexers, method, tolerance, **indexers_kwargs)\u001b[0m\n\u001b[1;32m    414\u001b[0m indexers \u001b[38;5;241m=\u001b[39m either_dict_or_kwargs(indexers, indexers_kwargs, \u001b[38;5;124m\"\u001b[39m\u001b[38;5;124mremap_label_indexers\u001b[39m\u001b[38;5;124m\"\u001b[39m)\n\u001b[1;32m    416\u001b[0m v_indexers \u001b[38;5;241m=\u001b[39m {\n\u001b[1;32m    417\u001b[0m     k: v\u001b[38;5;241m.\u001b[39mvariable\u001b[38;5;241m.\u001b[39mdata \u001b[38;5;28;01mif\u001b[39;00m \u001b[38;5;28misinstance\u001b[39m(v, DataArray) \u001b[38;5;28;01melse\u001b[39;00m v\n\u001b[1;32m    418\u001b[0m     \u001b[38;5;28;01mfor\u001b[39;00m k, v \u001b[38;5;129;01min\u001b[39;00m indexers\u001b[38;5;241m.\u001b[39mitems()\n\u001b[1;32m    419\u001b[0m }\n\u001b[0;32m--> 421\u001b[0m pos_indexers, new_indexes \u001b[38;5;241m=\u001b[39m \u001b[43mindexing\u001b[49m\u001b[38;5;241;43m.\u001b[39;49m\u001b[43mremap_label_indexers\u001b[49m\u001b[43m(\u001b[49m\n\u001b[1;32m    422\u001b[0m \u001b[43m    \u001b[49m\u001b[43mobj\u001b[49m\u001b[43m,\u001b[49m\u001b[43m \u001b[49m\u001b[43mv_indexers\u001b[49m\u001b[43m,\u001b[49m\u001b[43m \u001b[49m\u001b[43mmethod\u001b[49m\u001b[38;5;241;43m=\u001b[39;49m\u001b[43mmethod\u001b[49m\u001b[43m,\u001b[49m\u001b[43m \u001b[49m\u001b[43mtolerance\u001b[49m\u001b[38;5;241;43m=\u001b[39;49m\u001b[43mtolerance\u001b[49m\n\u001b[1;32m    423\u001b[0m \u001b[43m\u001b[49m\u001b[43m)\u001b[49m\n\u001b[1;32m    424\u001b[0m \u001b[38;5;66;03m# attach indexer's coordinate to pos_indexers\u001b[39;00m\n\u001b[1;32m    425\u001b[0m \u001b[38;5;28;01mfor\u001b[39;00m k, v \u001b[38;5;129;01min\u001b[39;00m indexers\u001b[38;5;241m.\u001b[39mitems():\n",
      "File \u001b[0;32m~/miniconda3/envs/ocean-model-skill-assessor/lib/python3.10/site-packages/xarray/core/indexing.py:110\u001b[0m, in \u001b[0;36mremap_label_indexers\u001b[0;34m(data_obj, indexers, method, tolerance)\u001b[0m\n\u001b[1;32m    107\u001b[0m pos_indexers \u001b[38;5;241m=\u001b[39m {}\n\u001b[1;32m    108\u001b[0m new_indexes \u001b[38;5;241m=\u001b[39m {}\n\u001b[0;32m--> 110\u001b[0m indexes, grouped_indexers \u001b[38;5;241m=\u001b[39m \u001b[43mgroup_indexers_by_index\u001b[49m\u001b[43m(\u001b[49m\n\u001b[1;32m    111\u001b[0m \u001b[43m    \u001b[49m\u001b[43mdata_obj\u001b[49m\u001b[43m,\u001b[49m\u001b[43m \u001b[49m\u001b[43mindexers\u001b[49m\u001b[43m,\u001b[49m\u001b[43m \u001b[49m\u001b[43mmethod\u001b[49m\u001b[43m,\u001b[49m\u001b[43m \u001b[49m\u001b[43mtolerance\u001b[49m\n\u001b[1;32m    112\u001b[0m \u001b[43m\u001b[49m\u001b[43m)\u001b[49m\n\u001b[1;32m    114\u001b[0m forward_pos_indexers \u001b[38;5;241m=\u001b[39m grouped_indexers\u001b[38;5;241m.\u001b[39mpop(\u001b[38;5;28;01mNone\u001b[39;00m, \u001b[38;5;28;01mNone\u001b[39;00m)\n\u001b[1;32m    115\u001b[0m \u001b[38;5;28;01mif\u001b[39;00m forward_pos_indexers \u001b[38;5;129;01mis\u001b[39;00m \u001b[38;5;129;01mnot\u001b[39;00m \u001b[38;5;28;01mNone\u001b[39;00m:\n",
      "File \u001b[0;32m~/miniconda3/envs/ocean-model-skill-assessor/lib/python3.10/site-packages/xarray/core/indexing.py:86\u001b[0m, in \u001b[0;36mgroup_indexers_by_index\u001b[0;34m(data_obj, indexers, method, tolerance)\u001b[0m\n\u001b[1;32m     84\u001b[0m     \u001b[38;5;28;01mraise\u001b[39;00m \u001b[38;5;167;01mKeyError\u001b[39;00m(\u001b[38;5;124mf\u001b[39m\u001b[38;5;124m\"\u001b[39m\u001b[38;5;124mno index found for coordinate \u001b[39m\u001b[38;5;132;01m{\u001b[39;00mkey\u001b[38;5;132;01m}\u001b[39;00m\u001b[38;5;124m\"\u001b[39m)\n\u001b[1;32m     85\u001b[0m \u001b[38;5;28;01melif\u001b[39;00m key \u001b[38;5;129;01mnot\u001b[39;00m \u001b[38;5;129;01min\u001b[39;00m data_obj\u001b[38;5;241m.\u001b[39mdims:\n\u001b[0;32m---> 86\u001b[0m     \u001b[38;5;28;01mraise\u001b[39;00m \u001b[38;5;167;01mKeyError\u001b[39;00m(\u001b[38;5;124mf\u001b[39m\u001b[38;5;124m\"\u001b[39m\u001b[38;5;132;01m{\u001b[39;00mkey\u001b[38;5;132;01m}\u001b[39;00m\u001b[38;5;124m is not a valid dimension or coordinate\u001b[39m\u001b[38;5;124m\"\u001b[39m)\n\u001b[1;32m     87\u001b[0m \u001b[38;5;66;03m# key is a dimension without coordinate: we'll reuse the provided labels\u001b[39;00m\n\u001b[1;32m     88\u001b[0m \u001b[38;5;28;01melif\u001b[39;00m method \u001b[38;5;129;01mis\u001b[39;00m \u001b[38;5;129;01mnot\u001b[39;00m \u001b[38;5;28;01mNone\u001b[39;00m \u001b[38;5;129;01mor\u001b[39;00m tolerance \u001b[38;5;129;01mis\u001b[39;00m \u001b[38;5;129;01mnot\u001b[39;00m \u001b[38;5;28;01mNone\u001b[39;00m:\n",
      "\u001b[0;31mKeyError\u001b[0m: 'lat is not a valid dimension or coordinate'"
     ]
    },
    {
     "data": {
      "image/png": "iVBORw0KGgoAAAANSUhEUgAAABQAAAKtCAYAAAAn006ZAAAAOXRFWHRTb2Z0d2FyZQBNYXRwbG90bGliIHZlcnNpb24zLjUuMSwgaHR0cHM6Ly9tYXRwbG90bGliLm9yZy/YYfK9AAAACXBIWXMAAA9hAAAPYQGoP6dpAAAA20lEQVR4nO3MMREAAAgEILV/57eE5wQB6CR1aU43oVAoFAqFQqFQKBQKhUKhUCgUCoVCoVAoFAqFQqFQKBQKhUKhUCgUCoVCoVAoFAqFQqFQKBQKhUKhUCgUCoVCoVAoFAqFQqFQKBQKhUKhUCgUCoVCoVAoFAqFQqFQKBQKhUKhUCgUCoVCoVAoFAqFQqFQKBQKhUKhUCgUCoVCoVAoFAqFQqFQKBQKhUKhUCgUCoVCoVAoFAqFQqFQKBQKhUKhUCgUCoVCoVAoFAqFQqFQKBQKhUKhUCgUCv/DBbk5CFcONqYkAAAAAElFTkSuQmCC\n",
      "text/plain": [
       "<Figure size 800x700 with 1 Axes>"
      ]
     },
     "metadata": {
      "needs_background": "light"
     },
     "output_type": "display_data"
=======
      "Note:Caching=1\n",
      "Error:Attribute value out of range: _FillValue = NaN\n",
      "Error:Attribute value out of range: _FillValue = NaN\n",
      "Error:Attribute value out of range: _FillValue = NaN\n",
      "oc_open: server error retrieving url: code=? message=\"Error {\n",
      "    code = 500;\n",
      "    message = \"NcSDArray java.lang.ArrayIndexOutOfBoundsException=null for request= NcSDArray read forecast_reference_time ocean_time(0,1,978) dataset= NOAA_COOPS_OFS_CIOFS.nc\";\n",
      "}\"oc_open: server error retrieving url: code=? message=\"Error {\n",
      "    code = 500;\n",
      "    message = \"NcSDArray java.lang.ArrayIndexOutOfBoundsException=null for request= NcSDArray read forecast_reference_time ocean_time(0,1,978) dataset= NOAA_COOPS_OFS_CIOFS.nc\";\n",
      "}\"oc_open: server error retrieving url: code=? message=\"Error {\n",
      "    code = 500;\n",
      "    message = \"NcSDArray java.lang.ArrayIndexOutOfBoundsException=null for request= NcSDArray read forecast_reference_time ocean_time(0,1,978) dataset= NOAA_COOPS_OFS_CIOFS.nc\";\n",
      "}\"oc_open: server error retrieving url: code=? message=\"Error {\n",
      "    code = 500;\n",
      "    message = \"NcSDArray java.lang.ArrayIndexOutOfBoundsException=null for request= NcSDArray read forecast_reference_time ocean_time(0,1,978) dataset= NOAA_COOPS_OFS_CIOFS.nc\";\n",
      "}\"oc_open: server error retrieving url: code=? message=\"Error {\n",
      "    code = 500;\n",
      "    message = \"NcSDArray java.lang.ArrayIndexOutOfBoundsException=null for request= NcSDArray read forecast_reference_time ocean_time(0,1,978) dataset= NOAA_COOPS_OFS_CIOFS.nc\";\n",
      "}\"oc_open: server error retrieving url: code=? message=\"Error {\n",
      "    code = 500;\n",
      "    message = \"NcSDArray java.lang.ArrayIndexOutOfBoundsException=null for request= NcSDArray read forecast_reference_time ocean_time(0,1,978) dataset= NOAA_COOPS_OFS_CIOFS.nc\";\n",
      "}\"oc_open: server error retrieving url: code=? message=\"Error {\n",
      "    code = 500;\n",
      "    message = \"NcSDArray java.lang.ArrayIndexOutOfBoundsException=null for request= NcSDArray read forecast_reference_time ocean_time(0,1,978) dataset= NOAA_COOPS_OFS_CIOFS.nc\";\n",
      "}\""
     ]
    },
    {
     "ename": "RuntimeError",
     "evalue": "NetCDF: file not found",
     "output_type": "error",
     "traceback": [
      "\u001b[0;31m---------------------------------------------------------------------------\u001b[0m",
      "\u001b[0;31mRuntimeError\u001b[0m                              Traceback (most recent call last)",
      "Input \u001b[0;32mIn [11]\u001b[0m, in \u001b[0;36m<cell line: 8>\u001b[0;34m()\u001b[0m\n\u001b[1;32m      5\u001b[0m \u001b[38;5;66;03m# best datasets - ciofs\u001b[39;00m\n\u001b[1;32m      6\u001b[0m dataset_ids \u001b[38;5;241m=\u001b[39m [\u001b[38;5;124m'\u001b[39m\u001b[38;5;124mnerrs_kacsdwq\u001b[39m\u001b[38;5;124m'\u001b[39m, \u001b[38;5;124m'\u001b[39m\u001b[38;5;124mcdmo_nerrs_3b00077a\u001b[39m\u001b[38;5;124m'\u001b[39m] \n\u001b[0;32m----> 8\u001b[0m search \u001b[38;5;241m=\u001b[39m \u001b[43momsa\u001b[49m\u001b[38;5;241;43m.\u001b[39;49m\u001b[43mrun\u001b[49m\u001b[43m(\u001b[49m\u001b[43mloc_model\u001b[49m\u001b[43m \u001b[49m\u001b[38;5;241;43m=\u001b[39;49m\u001b[43m \u001b[49m\u001b[43mmodel_url\u001b[49m\u001b[43m,\u001b[49m\n\u001b[1;32m      9\u001b[0m \u001b[43m                  \u001b[49m\u001b[43mapproach\u001b[49m\u001b[38;5;241;43m=\u001b[39;49m\u001b[38;5;124;43m'\u001b[39;49m\u001b[38;5;124;43mstations\u001b[39;49m\u001b[38;5;124;43m'\u001b[39;49m\u001b[43m,\u001b[49m\n\u001b[1;32m     10\u001b[0m \u001b[43m                  \u001b[49m\u001b[43mcriteria\u001b[49m\u001b[38;5;241;43m=\u001b[39;49m\u001b[43mcriteria\u001b[49m\u001b[43m,\u001b[49m\n\u001b[1;32m     11\u001b[0m \u001b[43m                  \u001b[49m\u001b[43mvar_def\u001b[49m\u001b[38;5;241;43m=\u001b[39;49m\u001b[43mvar_def\u001b[49m\u001b[43m,\u001b[49m\n\u001b[1;32m     12\u001b[0m \u001b[43m                  \u001b[49m\u001b[43mxarray_kwargs\u001b[49m\u001b[38;5;241;43m=\u001b[39;49m\u001b[43m{\u001b[49m\u001b[38;5;124;43m'\u001b[39;49m\u001b[38;5;124;43mchunks\u001b[39;49m\u001b[38;5;124;43m'\u001b[39;49m\u001b[43m:\u001b[49m\u001b[43m \u001b[49m\u001b[43m{\u001b[49m\u001b[38;5;124;43m'\u001b[39;49m\u001b[38;5;124;43mtime\u001b[39;49m\u001b[38;5;124;43m'\u001b[39;49m\u001b[43m:\u001b[49m\u001b[43m \u001b[49m\u001b[38;5;241;43m1\u001b[39;49m\u001b[43m,\u001b[49m\u001b[43m \u001b[49m\u001b[38;5;124;43m'\u001b[39;49m\u001b[38;5;124;43mdepth\u001b[39;49m\u001b[38;5;124;43m'\u001b[39;49m\u001b[43m:\u001b[49m\u001b[43m \u001b[49m\u001b[38;5;241;43m1\u001b[39;49m\u001b[43m}\u001b[49m\u001b[43m}\u001b[49m\u001b[43m,\u001b[49m\n\u001b[1;32m     13\u001b[0m \u001b[43m                  \u001b[49m\u001b[43mtime_range\u001b[49m\u001b[38;5;241;43m=\u001b[39;49m\u001b[43m[\u001b[49m\u001b[38;5;124;43m'\u001b[39;49m\u001b[38;5;124;43m2022-5-20\u001b[39;49m\u001b[38;5;124;43m'\u001b[39;49m\u001b[43m,\u001b[49m\u001b[38;5;124;43m'\u001b[39;49m\u001b[38;5;124;43m2022-5-23\u001b[39;49m\u001b[38;5;124;43m'\u001b[39;49m\u001b[43m]\u001b[49m\u001b[43m,\u001b[49m\u001b[43m \u001b[49m\n\u001b[1;32m     14\u001b[0m \u001b[43m                  \u001b[49m\u001b[43mvariables\u001b[49m\u001b[38;5;241;43m=\u001b[39;49m\u001b[43m[\u001b[49m\u001b[38;5;124;43m'\u001b[39;49m\u001b[38;5;124;43msalt\u001b[39;49m\u001b[38;5;124;43m'\u001b[39;49m\u001b[43m]\u001b[49m\u001b[43m,\u001b[49m\n\u001b[1;32m     15\u001b[0m \u001b[43m                  \u001b[49m\u001b[43mreaders\u001b[49m\u001b[38;5;241;43m=\u001b[39;49m\u001b[43m[\u001b[49m\u001b[43modg\u001b[49m\u001b[38;5;241;43m.\u001b[39;49m\u001b[43merddap\u001b[49m\u001b[43m]\u001b[49m\u001b[43m,\u001b[49m\n\u001b[1;32m     16\u001b[0m \u001b[43m                  \u001b[49m\u001b[43merddap\u001b[49m\u001b[38;5;241;43m=\u001b[39;49m\u001b[43m{\u001b[49m\n\u001b[1;32m     17\u001b[0m \u001b[43m                      \u001b[49m\u001b[38;5;124;43m'\u001b[39;49m\u001b[38;5;124;43mknown_server\u001b[39;49m\u001b[38;5;124;43m'\u001b[39;49m\u001b[43m:\u001b[49m\u001b[43m \u001b[49m\u001b[38;5;124;43m'\u001b[39;49m\u001b[38;5;124;43mioos\u001b[39;49m\u001b[38;5;124;43m'\u001b[39;49m\n\u001b[1;32m     18\u001b[0m \u001b[43m                  \u001b[49m\u001b[43m}\u001b[49m\u001b[43m,\u001b[49m\n\u001b[1;32m     19\u001b[0m \u001b[43m                  \u001b[49m\u001b[43mstations\u001b[49m\u001b[43m \u001b[49m\u001b[38;5;241;43m=\u001b[39;49m\u001b[43m \u001b[49m\u001b[43mdataset_ids\u001b[49m\u001b[43m,\u001b[49m\n\u001b[1;32m     20\u001b[0m \u001b[43m                  \u001b[49m\u001b[43mfigname_map\u001b[49m\u001b[38;5;241;43m=\u001b[39;49m\u001b[38;5;124;43m'\u001b[39;49m\u001b[38;5;124;43mnonlocal_library.png\u001b[39;49m\u001b[38;5;124;43m'\u001b[39;49m\u001b[43m,\u001b[49m\n\u001b[1;32m     21\u001b[0m \u001b[43m                  \u001b[49m\u001b[43mfigname_data_prefix\u001b[49m\u001b[38;5;241;43m=\u001b[39;49m\u001b[38;5;124;43m'\u001b[39;49m\u001b[38;5;124;43mnonlocal_library_\u001b[39;49m\u001b[38;5;124;43m'\u001b[39;49m\u001b[43m,\u001b[49m\n\u001b[1;32m     22\u001b[0m \u001b[43m                  \u001b[49m\u001b[43mparallel\u001b[49m\u001b[38;5;241;43m=\u001b[39;49m\u001b[38;5;28;43;01mFalse\u001b[39;49;00m\n\u001b[1;32m     23\u001b[0m \u001b[43m)\u001b[49m\n",
      "File \u001b[0;32m~/miniconda3/envs/ocean-model-skill-assessor/lib/python3.10/site-packages/ocean_model_skill_assessor/main.py:293\u001b[0m, in \u001b[0;36mrun\u001b[0;34m(approach, loc_model, axds, bbox, criteria, erddap, figname_map, figname_data_prefix, local, only_search, only_searchplot, parallel, readers, run_qc, skip_units, stations, time_range, variables, var_def, xarray_kwargs)\u001b[0m\n\u001b[1;32m    290\u001b[0m     \u001b[38;5;28;01mif\u001b[39;00m \u001b[38;5;28misinstance\u001b[39m(var_def, \u001b[38;5;28mstr\u001b[39m) \u001b[38;5;129;01mand\u001b[39;00m var_def[:\u001b[38;5;241m4\u001b[39m] \u001b[38;5;241m==\u001b[39m \u001b[38;5;124m\"\u001b[39m\u001b[38;5;124mhttp\u001b[39m\u001b[38;5;124m\"\u001b[39m:\n\u001b[1;32m    291\u001b[0m         var_def \u001b[38;5;241m=\u001b[39m odg\u001b[38;5;241m.\u001b[39mreturn_response(var_def)\n\u001b[0;32m--> 293\u001b[0m dsm \u001b[38;5;241m=\u001b[39m \u001b[43mread_model\u001b[49m\u001b[43m(\u001b[49m\u001b[43mloc_model\u001b[49m\u001b[43m,\u001b[49m\u001b[43m \u001b[49m\u001b[43mxarray_kwargs\u001b[49m\u001b[43m,\u001b[49m\u001b[43m \u001b[49m\u001b[43mtime_range\u001b[49m\u001b[43m)\u001b[49m\n\u001b[1;32m    295\u001b[0m \u001b[38;5;66;03m# Start set up for kwargs for search\u001b[39;00m\n\u001b[1;32m    296\u001b[0m kwargs \u001b[38;5;241m=\u001b[39m \u001b[38;5;28mdict\u001b[39m(\n\u001b[1;32m    297\u001b[0m     criteria\u001b[38;5;241m=\u001b[39mcriteria,\n\u001b[1;32m    298\u001b[0m     var_def\u001b[38;5;241m=\u001b[39mvar_def,\n\u001b[0;32m   (...)\u001b[0m\n\u001b[1;32m    306\u001b[0m     skip_units\u001b[38;5;241m=\u001b[39mskip_units,\n\u001b[1;32m    307\u001b[0m )\n",
      "File \u001b[0;32m~/miniconda3/envs/ocean-model-skill-assessor/lib/python3.10/site-packages/ocean_model_skill_assessor/main.py:106\u001b[0m, in \u001b[0;36mread_model\u001b[0;34m(loc_model, xarray_kwargs, time_range)\u001b[0m\n\u001b[1;32m     88\u001b[0m \u001b[38;5;28;01mdef\u001b[39;00m \u001b[38;5;21mread_model\u001b[39m(loc_model, xarray_kwargs, time_range\u001b[38;5;241m=\u001b[39m\u001b[38;5;28;01mNone\u001b[39;00m):\n\u001b[1;32m     89\u001b[0m     \u001b[38;5;124;03m\"\"\"Read in model output input by user.\u001b[39;00m\n\u001b[1;32m     90\u001b[0m \n\u001b[1;32m     91\u001b[0m \u001b[38;5;124;03m    Parameters\u001b[39;00m\n\u001b[0;32m   (...)\u001b[0m\n\u001b[1;32m    103\u001b[0m \u001b[38;5;124;03m    xarray Dataset containing model output.\u001b[39;00m\n\u001b[1;32m    104\u001b[0m \u001b[38;5;124;03m    \"\"\"\u001b[39;00m\n\u001b[0;32m--> 106\u001b[0m     dsm \u001b[38;5;241m=\u001b[39m \u001b[43mxr\u001b[49m\u001b[38;5;241;43m.\u001b[39;49m\u001b[43mopen_dataset\u001b[49m\u001b[43m(\u001b[49m\u001b[43mloc_model\u001b[49m\u001b[43m,\u001b[49m\u001b[43m \u001b[49m\u001b[38;5;241;43m*\u001b[39;49m\u001b[38;5;241;43m*\u001b[39;49m\u001b[43mxarray_kwargs\u001b[49m\u001b[43m)\u001b[49m\n\u001b[1;32m    108\u001b[0m     \u001b[38;5;66;03m# add more cf-xarray info\u001b[39;00m\n\u001b[1;32m    109\u001b[0m     dsm \u001b[38;5;241m=\u001b[39m dsm\u001b[38;5;241m.\u001b[39mcf\u001b[38;5;241m.\u001b[39mguess_coord_axis()\n",
      "File \u001b[0;32m~/miniconda3/envs/ocean-model-skill-assessor/lib/python3.10/site-packages/xarray/backends/api.py:495\u001b[0m, in \u001b[0;36mopen_dataset\u001b[0;34m(filename_or_obj, engine, chunks, cache, decode_cf, mask_and_scale, decode_times, decode_timedelta, use_cftime, concat_characters, decode_coords, drop_variables, backend_kwargs, *args, **kwargs)\u001b[0m\n\u001b[1;32m    483\u001b[0m decoders \u001b[38;5;241m=\u001b[39m _resolve_decoders_kwargs(\n\u001b[1;32m    484\u001b[0m     decode_cf,\n\u001b[1;32m    485\u001b[0m     open_backend_dataset_parameters\u001b[38;5;241m=\u001b[39mbackend\u001b[38;5;241m.\u001b[39mopen_dataset_parameters,\n\u001b[0;32m   (...)\u001b[0m\n\u001b[1;32m    491\u001b[0m     decode_coords\u001b[38;5;241m=\u001b[39mdecode_coords,\n\u001b[1;32m    492\u001b[0m )\n\u001b[1;32m    494\u001b[0m overwrite_encoded_chunks \u001b[38;5;241m=\u001b[39m kwargs\u001b[38;5;241m.\u001b[39mpop(\u001b[38;5;124m\"\u001b[39m\u001b[38;5;124moverwrite_encoded_chunks\u001b[39m\u001b[38;5;124m\"\u001b[39m, \u001b[38;5;28;01mNone\u001b[39;00m)\n\u001b[0;32m--> 495\u001b[0m backend_ds \u001b[38;5;241m=\u001b[39m \u001b[43mbackend\u001b[49m\u001b[38;5;241;43m.\u001b[39;49m\u001b[43mopen_dataset\u001b[49m\u001b[43m(\u001b[49m\n\u001b[1;32m    496\u001b[0m \u001b[43m    \u001b[49m\u001b[43mfilename_or_obj\u001b[49m\u001b[43m,\u001b[49m\n\u001b[1;32m    497\u001b[0m \u001b[43m    \u001b[49m\u001b[43mdrop_variables\u001b[49m\u001b[38;5;241;43m=\u001b[39;49m\u001b[43mdrop_variables\u001b[49m\u001b[43m,\u001b[49m\n\u001b[1;32m    498\u001b[0m \u001b[43m    \u001b[49m\u001b[38;5;241;43m*\u001b[39;49m\u001b[38;5;241;43m*\u001b[39;49m\u001b[43mdecoders\u001b[49m\u001b[43m,\u001b[49m\n\u001b[1;32m    499\u001b[0m \u001b[43m    \u001b[49m\u001b[38;5;241;43m*\u001b[39;49m\u001b[38;5;241;43m*\u001b[39;49m\u001b[43mkwargs\u001b[49m\u001b[43m,\u001b[49m\n\u001b[1;32m    500\u001b[0m \u001b[43m\u001b[49m\u001b[43m)\u001b[49m\n\u001b[1;32m    501\u001b[0m ds \u001b[38;5;241m=\u001b[39m _dataset_from_backend_dataset(\n\u001b[1;32m    502\u001b[0m     backend_ds,\n\u001b[1;32m    503\u001b[0m     filename_or_obj,\n\u001b[0;32m   (...)\u001b[0m\n\u001b[1;32m    510\u001b[0m     \u001b[38;5;241m*\u001b[39m\u001b[38;5;241m*\u001b[39mkwargs,\n\u001b[1;32m    511\u001b[0m )\n\u001b[1;32m    512\u001b[0m \u001b[38;5;28;01mreturn\u001b[39;00m ds\n",
      "File \u001b[0;32m~/miniconda3/envs/ocean-model-skill-assessor/lib/python3.10/site-packages/xarray/backends/netCDF4_.py:567\u001b[0m, in \u001b[0;36mNetCDF4BackendEntrypoint.open_dataset\u001b[0;34m(self, filename_or_obj, mask_and_scale, decode_times, concat_characters, decode_coords, drop_variables, use_cftime, decode_timedelta, group, mode, format, clobber, diskless, persist, lock, autoclose)\u001b[0m\n\u001b[1;32m    565\u001b[0m store_entrypoint \u001b[38;5;241m=\u001b[39m StoreBackendEntrypoint()\n\u001b[1;32m    566\u001b[0m \u001b[38;5;28;01mwith\u001b[39;00m close_on_error(store):\n\u001b[0;32m--> 567\u001b[0m     ds \u001b[38;5;241m=\u001b[39m \u001b[43mstore_entrypoint\u001b[49m\u001b[38;5;241;43m.\u001b[39;49m\u001b[43mopen_dataset\u001b[49m\u001b[43m(\u001b[49m\n\u001b[1;32m    568\u001b[0m \u001b[43m        \u001b[49m\u001b[43mstore\u001b[49m\u001b[43m,\u001b[49m\n\u001b[1;32m    569\u001b[0m \u001b[43m        \u001b[49m\u001b[43mmask_and_scale\u001b[49m\u001b[38;5;241;43m=\u001b[39;49m\u001b[43mmask_and_scale\u001b[49m\u001b[43m,\u001b[49m\n\u001b[1;32m    570\u001b[0m \u001b[43m        \u001b[49m\u001b[43mdecode_times\u001b[49m\u001b[38;5;241;43m=\u001b[39;49m\u001b[43mdecode_times\u001b[49m\u001b[43m,\u001b[49m\n\u001b[1;32m    571\u001b[0m \u001b[43m        \u001b[49m\u001b[43mconcat_characters\u001b[49m\u001b[38;5;241;43m=\u001b[39;49m\u001b[43mconcat_characters\u001b[49m\u001b[43m,\u001b[49m\n\u001b[1;32m    572\u001b[0m \u001b[43m        \u001b[49m\u001b[43mdecode_coords\u001b[49m\u001b[38;5;241;43m=\u001b[39;49m\u001b[43mdecode_coords\u001b[49m\u001b[43m,\u001b[49m\n\u001b[1;32m    573\u001b[0m \u001b[43m        \u001b[49m\u001b[43mdrop_variables\u001b[49m\u001b[38;5;241;43m=\u001b[39;49m\u001b[43mdrop_variables\u001b[49m\u001b[43m,\u001b[49m\n\u001b[1;32m    574\u001b[0m \u001b[43m        \u001b[49m\u001b[43muse_cftime\u001b[49m\u001b[38;5;241;43m=\u001b[39;49m\u001b[43muse_cftime\u001b[49m\u001b[43m,\u001b[49m\n\u001b[1;32m    575\u001b[0m \u001b[43m        \u001b[49m\u001b[43mdecode_timedelta\u001b[49m\u001b[38;5;241;43m=\u001b[39;49m\u001b[43mdecode_timedelta\u001b[49m\u001b[43m,\u001b[49m\n\u001b[1;32m    576\u001b[0m \u001b[43m    \u001b[49m\u001b[43m)\u001b[49m\n\u001b[1;32m    577\u001b[0m \u001b[38;5;28;01mreturn\u001b[39;00m ds\n",
      "File \u001b[0;32m~/miniconda3/envs/ocean-model-skill-assessor/lib/python3.10/site-packages/xarray/backends/store.py:27\u001b[0m, in \u001b[0;36mStoreBackendEntrypoint.open_dataset\u001b[0;34m(self, store, mask_and_scale, decode_times, concat_characters, decode_coords, drop_variables, use_cftime, decode_timedelta)\u001b[0m\n\u001b[1;32m     24\u001b[0m \u001b[38;5;28mvars\u001b[39m, attrs \u001b[38;5;241m=\u001b[39m store\u001b[38;5;241m.\u001b[39mload()\n\u001b[1;32m     25\u001b[0m encoding \u001b[38;5;241m=\u001b[39m store\u001b[38;5;241m.\u001b[39mget_encoding()\n\u001b[0;32m---> 27\u001b[0m \u001b[38;5;28mvars\u001b[39m, attrs, coord_names \u001b[38;5;241m=\u001b[39m \u001b[43mconventions\u001b[49m\u001b[38;5;241;43m.\u001b[39;49m\u001b[43mdecode_cf_variables\u001b[49m\u001b[43m(\u001b[49m\n\u001b[1;32m     28\u001b[0m \u001b[43m    \u001b[49m\u001b[38;5;28;43mvars\u001b[39;49m\u001b[43m,\u001b[49m\n\u001b[1;32m     29\u001b[0m \u001b[43m    \u001b[49m\u001b[43mattrs\u001b[49m\u001b[43m,\u001b[49m\n\u001b[1;32m     30\u001b[0m \u001b[43m    \u001b[49m\u001b[43mmask_and_scale\u001b[49m\u001b[38;5;241;43m=\u001b[39;49m\u001b[43mmask_and_scale\u001b[49m\u001b[43m,\u001b[49m\n\u001b[1;32m     31\u001b[0m \u001b[43m    \u001b[49m\u001b[43mdecode_times\u001b[49m\u001b[38;5;241;43m=\u001b[39;49m\u001b[43mdecode_times\u001b[49m\u001b[43m,\u001b[49m\n\u001b[1;32m     32\u001b[0m \u001b[43m    \u001b[49m\u001b[43mconcat_characters\u001b[49m\u001b[38;5;241;43m=\u001b[39;49m\u001b[43mconcat_characters\u001b[49m\u001b[43m,\u001b[49m\n\u001b[1;32m     33\u001b[0m \u001b[43m    \u001b[49m\u001b[43mdecode_coords\u001b[49m\u001b[38;5;241;43m=\u001b[39;49m\u001b[43mdecode_coords\u001b[49m\u001b[43m,\u001b[49m\n\u001b[1;32m     34\u001b[0m \u001b[43m    \u001b[49m\u001b[43mdrop_variables\u001b[49m\u001b[38;5;241;43m=\u001b[39;49m\u001b[43mdrop_variables\u001b[49m\u001b[43m,\u001b[49m\n\u001b[1;32m     35\u001b[0m \u001b[43m    \u001b[49m\u001b[43muse_cftime\u001b[49m\u001b[38;5;241;43m=\u001b[39;49m\u001b[43muse_cftime\u001b[49m\u001b[43m,\u001b[49m\n\u001b[1;32m     36\u001b[0m \u001b[43m    \u001b[49m\u001b[43mdecode_timedelta\u001b[49m\u001b[38;5;241;43m=\u001b[39;49m\u001b[43mdecode_timedelta\u001b[49m\u001b[43m,\u001b[49m\n\u001b[1;32m     37\u001b[0m \u001b[43m\u001b[49m\u001b[43m)\u001b[49m\n\u001b[1;32m     39\u001b[0m ds \u001b[38;5;241m=\u001b[39m Dataset(\u001b[38;5;28mvars\u001b[39m, attrs\u001b[38;5;241m=\u001b[39mattrs)\n\u001b[1;32m     40\u001b[0m ds \u001b[38;5;241m=\u001b[39m ds\u001b[38;5;241m.\u001b[39mset_coords(coord_names\u001b[38;5;241m.\u001b[39mintersection(\u001b[38;5;28mvars\u001b[39m))\n",
      "File \u001b[0;32m~/miniconda3/envs/ocean-model-skill-assessor/lib/python3.10/site-packages/xarray/conventions.py:516\u001b[0m, in \u001b[0;36mdecode_cf_variables\u001b[0;34m(variables, attributes, concat_characters, mask_and_scale, decode_times, decode_coords, drop_variables, use_cftime, decode_timedelta)\u001b[0m\n\u001b[1;32m    509\u001b[0m     \u001b[38;5;28;01mcontinue\u001b[39;00m\n\u001b[1;32m    510\u001b[0m stack_char_dim \u001b[38;5;241m=\u001b[39m (\n\u001b[1;32m    511\u001b[0m     concat_characters\n\u001b[1;32m    512\u001b[0m     \u001b[38;5;129;01mand\u001b[39;00m v\u001b[38;5;241m.\u001b[39mdtype \u001b[38;5;241m==\u001b[39m \u001b[38;5;124m\"\u001b[39m\u001b[38;5;124mS1\u001b[39m\u001b[38;5;124m\"\u001b[39m\n\u001b[1;32m    513\u001b[0m     \u001b[38;5;129;01mand\u001b[39;00m v\u001b[38;5;241m.\u001b[39mndim \u001b[38;5;241m>\u001b[39m \u001b[38;5;241m0\u001b[39m\n\u001b[1;32m    514\u001b[0m     \u001b[38;5;129;01mand\u001b[39;00m stackable(v\u001b[38;5;241m.\u001b[39mdims[\u001b[38;5;241m-\u001b[39m\u001b[38;5;241m1\u001b[39m])\n\u001b[1;32m    515\u001b[0m )\n\u001b[0;32m--> 516\u001b[0m new_vars[k] \u001b[38;5;241m=\u001b[39m \u001b[43mdecode_cf_variable\u001b[49m\u001b[43m(\u001b[49m\n\u001b[1;32m    517\u001b[0m \u001b[43m    \u001b[49m\u001b[43mk\u001b[49m\u001b[43m,\u001b[49m\n\u001b[1;32m    518\u001b[0m \u001b[43m    \u001b[49m\u001b[43mv\u001b[49m\u001b[43m,\u001b[49m\n\u001b[1;32m    519\u001b[0m \u001b[43m    \u001b[49m\u001b[43mconcat_characters\u001b[49m\u001b[38;5;241;43m=\u001b[39;49m\u001b[43mconcat_characters\u001b[49m\u001b[43m,\u001b[49m\n\u001b[1;32m    520\u001b[0m \u001b[43m    \u001b[49m\u001b[43mmask_and_scale\u001b[49m\u001b[38;5;241;43m=\u001b[39;49m\u001b[43mmask_and_scale\u001b[49m\u001b[43m,\u001b[49m\n\u001b[1;32m    521\u001b[0m \u001b[43m    \u001b[49m\u001b[43mdecode_times\u001b[49m\u001b[38;5;241;43m=\u001b[39;49m\u001b[43mdecode_times\u001b[49m\u001b[43m,\u001b[49m\n\u001b[1;32m    522\u001b[0m \u001b[43m    \u001b[49m\u001b[43mstack_char_dim\u001b[49m\u001b[38;5;241;43m=\u001b[39;49m\u001b[43mstack_char_dim\u001b[49m\u001b[43m,\u001b[49m\n\u001b[1;32m    523\u001b[0m \u001b[43m    \u001b[49m\u001b[43muse_cftime\u001b[49m\u001b[38;5;241;43m=\u001b[39;49m\u001b[43muse_cftime\u001b[49m\u001b[43m,\u001b[49m\n\u001b[1;32m    524\u001b[0m \u001b[43m    \u001b[49m\u001b[43mdecode_timedelta\u001b[49m\u001b[38;5;241;43m=\u001b[39;49m\u001b[43mdecode_timedelta\u001b[49m\u001b[43m,\u001b[49m\n\u001b[1;32m    525\u001b[0m \u001b[43m\u001b[49m\u001b[43m)\u001b[49m\n\u001b[1;32m    526\u001b[0m \u001b[38;5;28;01mif\u001b[39;00m decode_coords \u001b[38;5;129;01min\u001b[39;00m [\u001b[38;5;28;01mTrue\u001b[39;00m, \u001b[38;5;124m\"\u001b[39m\u001b[38;5;124mcoordinates\u001b[39m\u001b[38;5;124m\"\u001b[39m, \u001b[38;5;124m\"\u001b[39m\u001b[38;5;124mall\u001b[39m\u001b[38;5;124m\"\u001b[39m]:\n\u001b[1;32m    527\u001b[0m     var_attrs \u001b[38;5;241m=\u001b[39m new_vars[k]\u001b[38;5;241m.\u001b[39mattrs\n",
      "File \u001b[0;32m~/miniconda3/envs/ocean-model-skill-assessor/lib/python3.10/site-packages/xarray/conventions.py:364\u001b[0m, in \u001b[0;36mdecode_cf_variable\u001b[0;34m(name, var, concat_characters, mask_and_scale, decode_times, decode_endianness, stack_char_dim, use_cftime, decode_timedelta)\u001b[0m\n\u001b[1;32m    362\u001b[0m     var \u001b[38;5;241m=\u001b[39m times\u001b[38;5;241m.\u001b[39mCFTimedeltaCoder()\u001b[38;5;241m.\u001b[39mdecode(var, name\u001b[38;5;241m=\u001b[39mname)\n\u001b[1;32m    363\u001b[0m \u001b[38;5;28;01mif\u001b[39;00m decode_times:\n\u001b[0;32m--> 364\u001b[0m     var \u001b[38;5;241m=\u001b[39m \u001b[43mtimes\u001b[49m\u001b[38;5;241;43m.\u001b[39;49m\u001b[43mCFDatetimeCoder\u001b[49m\u001b[43m(\u001b[49m\u001b[43muse_cftime\u001b[49m\u001b[38;5;241;43m=\u001b[39;49m\u001b[43muse_cftime\u001b[49m\u001b[43m)\u001b[49m\u001b[38;5;241;43m.\u001b[39;49m\u001b[43mdecode\u001b[49m\u001b[43m(\u001b[49m\u001b[43mvar\u001b[49m\u001b[43m,\u001b[49m\u001b[43m \u001b[49m\u001b[43mname\u001b[49m\u001b[38;5;241;43m=\u001b[39;49m\u001b[43mname\u001b[49m\u001b[43m)\u001b[49m\n\u001b[1;32m    366\u001b[0m dimensions, data, attributes, encoding \u001b[38;5;241m=\u001b[39m variables\u001b[38;5;241m.\u001b[39munpack_for_decoding(var)\n\u001b[1;32m    367\u001b[0m \u001b[38;5;66;03m# TODO(shoyer): convert everything below to use coders\u001b[39;00m\n",
      "File \u001b[0;32m~/miniconda3/envs/ocean-model-skill-assessor/lib/python3.10/site-packages/xarray/coding/times.py:673\u001b[0m, in \u001b[0;36mCFDatetimeCoder.decode\u001b[0;34m(self, variable, name)\u001b[0m\n\u001b[1;32m    671\u001b[0m units \u001b[38;5;241m=\u001b[39m pop_to(attrs, encoding, \u001b[38;5;124m\"\u001b[39m\u001b[38;5;124munits\u001b[39m\u001b[38;5;124m\"\u001b[39m)\n\u001b[1;32m    672\u001b[0m calendar \u001b[38;5;241m=\u001b[39m pop_to(attrs, encoding, \u001b[38;5;124m\"\u001b[39m\u001b[38;5;124mcalendar\u001b[39m\u001b[38;5;124m\"\u001b[39m)\n\u001b[0;32m--> 673\u001b[0m dtype \u001b[38;5;241m=\u001b[39m \u001b[43m_decode_cf_datetime_dtype\u001b[49m\u001b[43m(\u001b[49m\u001b[43mdata\u001b[49m\u001b[43m,\u001b[49m\u001b[43m \u001b[49m\u001b[43munits\u001b[49m\u001b[43m,\u001b[49m\u001b[43m \u001b[49m\u001b[43mcalendar\u001b[49m\u001b[43m,\u001b[49m\u001b[43m \u001b[49m\u001b[38;5;28;43mself\u001b[39;49m\u001b[38;5;241;43m.\u001b[39;49m\u001b[43muse_cftime\u001b[49m\u001b[43m)\u001b[49m\n\u001b[1;32m    674\u001b[0m transform \u001b[38;5;241m=\u001b[39m partial(\n\u001b[1;32m    675\u001b[0m     decode_cf_datetime,\n\u001b[1;32m    676\u001b[0m     units\u001b[38;5;241m=\u001b[39munits,\n\u001b[1;32m    677\u001b[0m     calendar\u001b[38;5;241m=\u001b[39mcalendar,\n\u001b[1;32m    678\u001b[0m     use_cftime\u001b[38;5;241m=\u001b[39m\u001b[38;5;28mself\u001b[39m\u001b[38;5;241m.\u001b[39muse_cftime,\n\u001b[1;32m    679\u001b[0m )\n\u001b[1;32m    680\u001b[0m data \u001b[38;5;241m=\u001b[39m lazy_elemwise_func(data, transform, dtype)\n",
      "File \u001b[0;32m~/miniconda3/envs/ocean-model-skill-assessor/lib/python3.10/site-packages/xarray/coding/times.py:170\u001b[0m, in \u001b[0;36m_decode_cf_datetime_dtype\u001b[0;34m(data, units, calendar, use_cftime)\u001b[0m\n\u001b[1;32m    164\u001b[0m \u001b[38;5;28;01mdef\u001b[39;00m \u001b[38;5;21m_decode_cf_datetime_dtype\u001b[39m(data, units, calendar, use_cftime):\n\u001b[1;32m    165\u001b[0m     \u001b[38;5;66;03m# Verify that at least the first and last date can be decoded\u001b[39;00m\n\u001b[1;32m    166\u001b[0m     \u001b[38;5;66;03m# successfully. Otherwise, tracebacks end up swallowed by\u001b[39;00m\n\u001b[1;32m    167\u001b[0m     \u001b[38;5;66;03m# Dataset.__repr__ when users try to view their lazily decoded array.\u001b[39;00m\n\u001b[1;32m    168\u001b[0m     values \u001b[38;5;241m=\u001b[39m indexing\u001b[38;5;241m.\u001b[39mImplicitToExplicitIndexingAdapter(indexing\u001b[38;5;241m.\u001b[39mas_indexable(data))\n\u001b[1;32m    169\u001b[0m     example_value \u001b[38;5;241m=\u001b[39m np\u001b[38;5;241m.\u001b[39mconcatenate(\n\u001b[0;32m--> 170\u001b[0m         [\u001b[43mfirst_n_items\u001b[49m\u001b[43m(\u001b[49m\u001b[43mvalues\u001b[49m\u001b[43m,\u001b[49m\u001b[43m \u001b[49m\u001b[38;5;241;43m1\u001b[39;49m\u001b[43m)\u001b[49m \u001b[38;5;129;01mor\u001b[39;00m [\u001b[38;5;241m0\u001b[39m], last_item(values) \u001b[38;5;129;01mor\u001b[39;00m [\u001b[38;5;241m0\u001b[39m]]\n\u001b[1;32m    171\u001b[0m     )\n\u001b[1;32m    173\u001b[0m     \u001b[38;5;28;01mtry\u001b[39;00m:\n\u001b[1;32m    174\u001b[0m         result \u001b[38;5;241m=\u001b[39m decode_cf_datetime(example_value, units, calendar, use_cftime)\n",
      "File \u001b[0;32m~/miniconda3/envs/ocean-model-skill-assessor/lib/python3.10/site-packages/xarray/core/formatting.py:72\u001b[0m, in \u001b[0;36mfirst_n_items\u001b[0;34m(array, n_desired)\u001b[0m\n\u001b[1;32m     70\u001b[0m     indexer \u001b[38;5;241m=\u001b[39m _get_indexer_at_least_n_items(array\u001b[38;5;241m.\u001b[39mshape, n_desired, from_end\u001b[38;5;241m=\u001b[39m\u001b[38;5;28;01mFalse\u001b[39;00m)\n\u001b[1;32m     71\u001b[0m     array \u001b[38;5;241m=\u001b[39m array[indexer]\n\u001b[0;32m---> 72\u001b[0m \u001b[38;5;28;01mreturn\u001b[39;00m \u001b[43mnp\u001b[49m\u001b[38;5;241;43m.\u001b[39;49m\u001b[43masarray\u001b[49m\u001b[43m(\u001b[49m\u001b[43marray\u001b[49m\u001b[43m)\u001b[49m\u001b[38;5;241m.\u001b[39mflat[:n_desired]\n",
      "File \u001b[0;32m~/miniconda3/envs/ocean-model-skill-assessor/lib/python3.10/site-packages/xarray/core/indexing.py:358\u001b[0m, in \u001b[0;36mImplicitToExplicitIndexingAdapter.__array__\u001b[0;34m(self, dtype)\u001b[0m\n\u001b[1;32m    357\u001b[0m \u001b[38;5;28;01mdef\u001b[39;00m \u001b[38;5;21m__array__\u001b[39m(\u001b[38;5;28mself\u001b[39m, dtype\u001b[38;5;241m=\u001b[39m\u001b[38;5;28;01mNone\u001b[39;00m):\n\u001b[0;32m--> 358\u001b[0m     \u001b[38;5;28;01mreturn\u001b[39;00m \u001b[43mnp\u001b[49m\u001b[38;5;241;43m.\u001b[39;49m\u001b[43masarray\u001b[49m\u001b[43m(\u001b[49m\u001b[38;5;28;43mself\u001b[39;49m\u001b[38;5;241;43m.\u001b[39;49m\u001b[43marray\u001b[49m\u001b[43m,\u001b[49m\u001b[43m \u001b[49m\u001b[43mdtype\u001b[49m\u001b[38;5;241;43m=\u001b[39;49m\u001b[43mdtype\u001b[49m\u001b[43m)\u001b[49m\n",
      "File \u001b[0;32m~/miniconda3/envs/ocean-model-skill-assessor/lib/python3.10/site-packages/xarray/coding/variables.py:70\u001b[0m, in \u001b[0;36m_ElementwiseFunctionArray.__array__\u001b[0;34m(self, dtype)\u001b[0m\n\u001b[1;32m     69\u001b[0m \u001b[38;5;28;01mdef\u001b[39;00m \u001b[38;5;21m__array__\u001b[39m(\u001b[38;5;28mself\u001b[39m, dtype\u001b[38;5;241m=\u001b[39m\u001b[38;5;28;01mNone\u001b[39;00m):\n\u001b[0;32m---> 70\u001b[0m     \u001b[38;5;28;01mreturn\u001b[39;00m \u001b[38;5;28;43mself\u001b[39;49m\u001b[38;5;241;43m.\u001b[39;49m\u001b[43mfunc\u001b[49m\u001b[43m(\u001b[49m\u001b[38;5;28;43mself\u001b[39;49m\u001b[38;5;241;43m.\u001b[39;49m\u001b[43marray\u001b[49m\u001b[43m)\u001b[49m\n",
      "File \u001b[0;32m~/miniconda3/envs/ocean-model-skill-assessor/lib/python3.10/site-packages/xarray/coding/variables.py:137\u001b[0m, in \u001b[0;36m_apply_mask\u001b[0;34m(data, encoded_fill_values, decoded_fill_value, dtype)\u001b[0m\n\u001b[1;32m    133\u001b[0m \u001b[38;5;28;01mdef\u001b[39;00m \u001b[38;5;21m_apply_mask\u001b[39m(\n\u001b[1;32m    134\u001b[0m     data: np\u001b[38;5;241m.\u001b[39mndarray, encoded_fill_values: \u001b[38;5;28mlist\u001b[39m, decoded_fill_value: Any, dtype: Any\n\u001b[1;32m    135\u001b[0m ) \u001b[38;5;241m-\u001b[39m\u001b[38;5;241m>\u001b[39m np\u001b[38;5;241m.\u001b[39mndarray:\n\u001b[1;32m    136\u001b[0m     \u001b[38;5;124;03m\"\"\"Mask all matching values in a NumPy arrays.\"\"\"\u001b[39;00m\n\u001b[0;32m--> 137\u001b[0m     data \u001b[38;5;241m=\u001b[39m \u001b[43mnp\u001b[49m\u001b[38;5;241;43m.\u001b[39;49m\u001b[43masarray\u001b[49m\u001b[43m(\u001b[49m\u001b[43mdata\u001b[49m\u001b[43m,\u001b[49m\u001b[43m \u001b[49m\u001b[43mdtype\u001b[49m\u001b[38;5;241;43m=\u001b[39;49m\u001b[43mdtype\u001b[49m\u001b[43m)\u001b[49m\n\u001b[1;32m    138\u001b[0m     condition \u001b[38;5;241m=\u001b[39m \u001b[38;5;28;01mFalse\u001b[39;00m\n\u001b[1;32m    139\u001b[0m     \u001b[38;5;28;01mfor\u001b[39;00m fv \u001b[38;5;129;01min\u001b[39;00m encoded_fill_values:\n",
      "File \u001b[0;32m~/miniconda3/envs/ocean-model-skill-assessor/lib/python3.10/site-packages/xarray/core/indexing.py:423\u001b[0m, in \u001b[0;36mLazilyIndexedArray.__array__\u001b[0;34m(self, dtype)\u001b[0m\n\u001b[1;32m    421\u001b[0m \u001b[38;5;28;01mdef\u001b[39;00m \u001b[38;5;21m__array__\u001b[39m(\u001b[38;5;28mself\u001b[39m, dtype\u001b[38;5;241m=\u001b[39m\u001b[38;5;28;01mNone\u001b[39;00m):\n\u001b[1;32m    422\u001b[0m     array \u001b[38;5;241m=\u001b[39m as_indexable(\u001b[38;5;28mself\u001b[39m\u001b[38;5;241m.\u001b[39marray)\n\u001b[0;32m--> 423\u001b[0m     \u001b[38;5;28;01mreturn\u001b[39;00m np\u001b[38;5;241m.\u001b[39masarray(\u001b[43marray\u001b[49m\u001b[43m[\u001b[49m\u001b[38;5;28;43mself\u001b[39;49m\u001b[38;5;241;43m.\u001b[39;49m\u001b[43mkey\u001b[49m\u001b[43m]\u001b[49m, dtype\u001b[38;5;241m=\u001b[39m\u001b[38;5;28;01mNone\u001b[39;00m)\n",
      "File \u001b[0;32m~/miniconda3/envs/ocean-model-skill-assessor/lib/python3.10/site-packages/xarray/backends/netCDF4_.py:93\u001b[0m, in \u001b[0;36mNetCDF4ArrayWrapper.__getitem__\u001b[0;34m(self, key)\u001b[0m\n\u001b[1;32m     92\u001b[0m \u001b[38;5;28;01mdef\u001b[39;00m \u001b[38;5;21m__getitem__\u001b[39m(\u001b[38;5;28mself\u001b[39m, key):\n\u001b[0;32m---> 93\u001b[0m     \u001b[38;5;28;01mreturn\u001b[39;00m \u001b[43mindexing\u001b[49m\u001b[38;5;241;43m.\u001b[39;49m\u001b[43mexplicit_indexing_adapter\u001b[49m\u001b[43m(\u001b[49m\n\u001b[1;32m     94\u001b[0m \u001b[43m        \u001b[49m\u001b[43mkey\u001b[49m\u001b[43m,\u001b[49m\u001b[43m \u001b[49m\u001b[38;5;28;43mself\u001b[39;49m\u001b[38;5;241;43m.\u001b[39;49m\u001b[43mshape\u001b[49m\u001b[43m,\u001b[49m\u001b[43m \u001b[49m\u001b[43mindexing\u001b[49m\u001b[38;5;241;43m.\u001b[39;49m\u001b[43mIndexingSupport\u001b[49m\u001b[38;5;241;43m.\u001b[39;49m\u001b[43mOUTER\u001b[49m\u001b[43m,\u001b[49m\u001b[43m \u001b[49m\u001b[38;5;28;43mself\u001b[39;49m\u001b[38;5;241;43m.\u001b[39;49m\u001b[43m_getitem\u001b[49m\n\u001b[1;32m     95\u001b[0m \u001b[43m    \u001b[49m\u001b[43m)\u001b[49m\n",
      "File \u001b[0;32m~/miniconda3/envs/ocean-model-skill-assessor/lib/python3.10/site-packages/xarray/core/indexing.py:712\u001b[0m, in \u001b[0;36mexplicit_indexing_adapter\u001b[0;34m(key, shape, indexing_support, raw_indexing_method)\u001b[0m\n\u001b[1;32m    690\u001b[0m \u001b[38;5;124;03m\"\"\"Support explicit indexing by delegating to a raw indexing method.\u001b[39;00m\n\u001b[1;32m    691\u001b[0m \n\u001b[1;32m    692\u001b[0m \u001b[38;5;124;03mOuter and/or vectorized indexers are supported by indexing a second time\u001b[39;00m\n\u001b[0;32m   (...)\u001b[0m\n\u001b[1;32m    709\u001b[0m \u001b[38;5;124;03mIndexing result, in the form of a duck numpy-array.\u001b[39;00m\n\u001b[1;32m    710\u001b[0m \u001b[38;5;124;03m\"\"\"\u001b[39;00m\n\u001b[1;32m    711\u001b[0m raw_key, numpy_indices \u001b[38;5;241m=\u001b[39m decompose_indexer(key, shape, indexing_support)\n\u001b[0;32m--> 712\u001b[0m result \u001b[38;5;241m=\u001b[39m \u001b[43mraw_indexing_method\u001b[49m\u001b[43m(\u001b[49m\u001b[43mraw_key\u001b[49m\u001b[38;5;241;43m.\u001b[39;49m\u001b[43mtuple\u001b[49m\u001b[43m)\u001b[49m\n\u001b[1;32m    713\u001b[0m \u001b[38;5;28;01mif\u001b[39;00m numpy_indices\u001b[38;5;241m.\u001b[39mtuple:\n\u001b[1;32m    714\u001b[0m     \u001b[38;5;66;03m# index the loaded np.ndarray\u001b[39;00m\n\u001b[1;32m    715\u001b[0m     result \u001b[38;5;241m=\u001b[39m NumpyIndexingAdapter(np\u001b[38;5;241m.\u001b[39masarray(result))[numpy_indices]\n",
      "File \u001b[0;32m~/miniconda3/envs/ocean-model-skill-assessor/lib/python3.10/site-packages/xarray/backends/netCDF4_.py:106\u001b[0m, in \u001b[0;36mNetCDF4ArrayWrapper._getitem\u001b[0;34m(self, key)\u001b[0m\n\u001b[1;32m    104\u001b[0m     \u001b[38;5;28;01mwith\u001b[39;00m \u001b[38;5;28mself\u001b[39m\u001b[38;5;241m.\u001b[39mdatastore\u001b[38;5;241m.\u001b[39mlock:\n\u001b[1;32m    105\u001b[0m         original_array \u001b[38;5;241m=\u001b[39m \u001b[38;5;28mself\u001b[39m\u001b[38;5;241m.\u001b[39mget_array(needs_lock\u001b[38;5;241m=\u001b[39m\u001b[38;5;28;01mFalse\u001b[39;00m)\n\u001b[0;32m--> 106\u001b[0m         array \u001b[38;5;241m=\u001b[39m \u001b[43mgetitem\u001b[49m\u001b[43m(\u001b[49m\u001b[43moriginal_array\u001b[49m\u001b[43m,\u001b[49m\u001b[43m \u001b[49m\u001b[43mkey\u001b[49m\u001b[43m)\u001b[49m\n\u001b[1;32m    107\u001b[0m \u001b[38;5;28;01mexcept\u001b[39;00m \u001b[38;5;167;01mIndexError\u001b[39;00m:\n\u001b[1;32m    108\u001b[0m     \u001b[38;5;66;03m# Catch IndexError in netCDF4 and return a more informative\u001b[39;00m\n\u001b[1;32m    109\u001b[0m     \u001b[38;5;66;03m# error message.  This is most often called when an unsorted\u001b[39;00m\n\u001b[1;32m    110\u001b[0m     \u001b[38;5;66;03m# indexer is used before the data is loaded from disk.\u001b[39;00m\n\u001b[1;32m    111\u001b[0m     msg \u001b[38;5;241m=\u001b[39m (\n\u001b[1;32m    112\u001b[0m         \u001b[38;5;124m\"\u001b[39m\u001b[38;5;124mThe indexing operation you are attempting to perform \u001b[39m\u001b[38;5;124m\"\u001b[39m\n\u001b[1;32m    113\u001b[0m         \u001b[38;5;124m\"\u001b[39m\u001b[38;5;124mis not valid on netCDF4.Variable object. Try loading \u001b[39m\u001b[38;5;124m\"\u001b[39m\n\u001b[1;32m    114\u001b[0m         \u001b[38;5;124m\"\u001b[39m\u001b[38;5;124myour data into memory first by calling .load().\u001b[39m\u001b[38;5;124m\"\u001b[39m\n\u001b[1;32m    115\u001b[0m     )\n",
      "File \u001b[0;32m~/miniconda3/envs/ocean-model-skill-assessor/lib/python3.10/site-packages/xarray/backends/common.py:64\u001b[0m, in \u001b[0;36mrobust_getitem\u001b[0;34m(array, key, catch, max_retries, initial_delay)\u001b[0m\n\u001b[1;32m     62\u001b[0m \u001b[38;5;28;01mfor\u001b[39;00m n \u001b[38;5;129;01min\u001b[39;00m \u001b[38;5;28mrange\u001b[39m(max_retries \u001b[38;5;241m+\u001b[39m \u001b[38;5;241m1\u001b[39m):\n\u001b[1;32m     63\u001b[0m     \u001b[38;5;28;01mtry\u001b[39;00m:\n\u001b[0;32m---> 64\u001b[0m         \u001b[38;5;28;01mreturn\u001b[39;00m \u001b[43marray\u001b[49m\u001b[43m[\u001b[49m\u001b[43mkey\u001b[49m\u001b[43m]\u001b[49m\n\u001b[1;32m     65\u001b[0m     \u001b[38;5;28;01mexcept\u001b[39;00m catch:\n\u001b[1;32m     66\u001b[0m         \u001b[38;5;28;01mif\u001b[39;00m n \u001b[38;5;241m==\u001b[39m max_retries:\n",
      "File \u001b[0;32msrc/netCDF4/_netCDF4.pyx:4406\u001b[0m, in \u001b[0;36mnetCDF4._netCDF4.Variable.__getitem__\u001b[0;34m()\u001b[0m\n",
      "File \u001b[0;32msrc/netCDF4/_netCDF4.pyx:5350\u001b[0m, in \u001b[0;36mnetCDF4._netCDF4.Variable._get\u001b[0;34m()\u001b[0m\n",
      "File \u001b[0;32msrc/netCDF4/_netCDF4.pyx:1927\u001b[0m, in \u001b[0;36mnetCDF4._netCDF4._ensure_nc_success\u001b[0;34m()\u001b[0m\n",
      "\u001b[0;31mRuntimeError\u001b[0m: NetCDF: file not found"
     ]
>>>>>>> 295431a696e601c5108e17a78e965ba530d3ba72
    }
   ],
   "source": [
    "# FOR CIOFS:\n",
    "\n",
    "model_url = 'http://thredds.aoos.org/thredds/dodsC/NOAA_COOPS_OFS_CIOFS.nc'\n",
    "\n",
    "# best datasets - ciofs\n",
    "dataset_ids = ['nerrs_kacsdwq', 'cdmo_nerrs_3b00077a'] \n",
    "    \n",
    "search = omsa.run(loc_model = model_url,\n",
    "                  approach='stations',\n",
    "                  criteria=criteria,\n",
    "                  var_def=var_def,\n",
    "                  xarray_kwargs={'chunks': {'time': 1, 'depth': 1}},\n",
    "                  time_range=['2022-5-20','2022-5-23'], \n",
    "                  variables=['salt'],\n",
    "                  readers=[odg.erddap],\n",
    "                  erddap={\n",
    "                      'known_server': 'ioos'\n",
    "                  },\n",
    "                  stations = dataset_ids,\n",
    "                  figname_map='nonlocal_library.png',\n",
    "                  figname_data_prefix='nonlocal_library_',\n",
    "                  parallel=False\n",
    ")"
   ]
  },
  {
   "cell_type": "code",
   "execution_count": null,
   "id": "28fae443-aaa8-4f38-81ce-99cfca79f97b",
   "metadata": {},
   "outputs": [],
   "source": [
    "# error KeyError: 'lat is not a valid dimension or coordinate'\n",
    "# from the ciofs files:\n",
    "#     <class 'netCDF4._netCDF4.Variable'>\n",
    "# float32 lat_rho(eta_rho, xi_rho)\n",
    "#     field: lat_rho, scalar\n",
    "#     long_name: latitude of RHO-points\n",
    "#     standard_name: latitude\n",
    "#     units: degree_north\n",
    "#     _FillValue: nan\n",
    "#     missing_value: nan\n",
    "# unlimited dimensions: \n",
    "# current shape = (1044, 724)\n",
    "# filling on"
   ]
  },
  {
   "cell_type": "markdown",
   "id": "f9b51f1d-f999-4243-afc0-f66c38cdb39b",
   "metadata": {},
   "source": [
    "#### Save local data files\n",
    "\n",
    "Here we save the data files to use for the local examples."
   ]
  },
  {
   "cell_type": "code",
   "execution_count": null,
   "id": "61751f35-3240-4af8-90fa-9b9322805ffa",
   "metadata": {},
   "outputs": [],
   "source": [
    "# CIOFS dataset_ids = ['nerrs_kacsdwq', 'cdmo_nerrs_3b00077a'] \n",
    "search['nerrs_kacsdwq'].squeeze().to_dataframe().to_csv('nerrs_kacsdwq')\n",
    "search['cdmo_nerrs_3b00077a'].to_netcdf('cdmo_nerrs_3b00077a.nc')\n"
   ]
  },
  {
   "cell_type": "markdown",
   "id": "dd29ad0d-e2b7-4424-b1be-489b29e6b921",
   "metadata": {},
   "source": [
    "### Nonlocal reader: region\n",
    "\n",
    "This demonstrates the case in which your data files for comparing with model output are not available locally, and you want to perform a search in time and space. By default this would search in the spatial bounding box of the model output, but here we instead input a smaller bounding box so as to limit the number of datasets found and used. For several of the datasets, the model output isn't available (must be determined to be on land). "
   ]
  },
  {
   "cell_type": "code",
   "execution_count": null,
   "id": "3c63654c-58ae-47bb-ae63-c0b01c10b88c",
   "metadata": {},
   "outputs": [],
   "source": [
    "omsa.set_criteria(criteria)\n",
    "\n",
    "bbox = [-153, 57, -145, 65]\n",
    "search = omsa.run(\n",
    "                  loc_model=model_url,\n",
    "                  approach='region',\n",
    "                  bbox=bbox,\n",
    "                  criteria=criteria,\n",
    "                  var_def=var_def,\n",
    "                  xarray_kwargs={'chunks': {'time': 1, 'depth': 1}},\n",
    "                  time_range=['2022-5-20','2022-5-23'], \n",
    "                  variables=['salt'],\n",
    "                  readers=[odg.erddap],\n",
    "                  erddap={\n",
    "                      'known_server': 'ioos'\n",
    "                  },\n",
    "                  figname_map='nonlocal_library_region.png',\n",
    "                  figname_data_prefix='nonlocal_library_region_'\n",
    ")"
   ]
  },
  {
   "cell_type": "markdown",
   "id": "8d45f569-ec8e-47c7-a180-d72a44a76581",
   "metadata": {},
   "source": [
    "### Local reader\n",
    "\n",
    "This demonstrates the case in which your data files for comparing with model output are available locally."
   ]
  },
  {
   "cell_type": "code",
   "execution_count": null,
   "id": "8d04581c-d1f1-4fac-b8eb-488e8b6e289f",
   "metadata": {},
   "outputs": [],
   "source": [
    "omsa.set_criteria(criteria)\n",
    "\n",
    "filenames = [\n",
    "             'nerrs_kacsdwq.csv',\n",
    "             'noaa_nos_co_ops_9454050.csv',\n",
    "            ]\n",
    "\n",
    "skip_units = True\n",
    "\n",
    "search = omsa.run(\n",
    "                  loc_model='hycomglb93.0_model_output.nc',\n",
    "                  approach='region',\n",
    "                  criteria=criteria,\n",
    "                  var_def=var_def,\n",
    "                  skip_units=skip_units,\n",
    "                  xarray_kwargs={'chunks': {'time': 1, 'depth': 1}},\n",
    "                  time_range=['2022-4-15','2022-5-4'],  \n",
    "                  variables=['salt'],\n",
    "                  readers=[odg.local],\n",
    "                  local={'filenames': filenames},\n",
    "                  figname_map='local_library.png',\n",
    "                  figname_data_prefix='local_library_'\n",
    ")"
   ]
  },
  {
   "cell_type": "markdown",
   "id": "9d9e80d6-314e-4586-ba1f-c67ac67e10d5",
   "metadata": {},
   "source": [
    "## Command line interface\n",
    "\n",
    "Here we demonstrate the use of the command line interface mode of the package. The config yaml file must be modified for the necessary inputs. These are the same examples as above, but accomplished via the command line interface instead of the Python package.\n",
    "\n",
    "### Local reader"
   ]
  },
  {
   "cell_type": "code",
   "execution_count": null,
   "id": "2157fb08-fd79-4036-80bc-53a2e89229fd",
   "metadata": {},
   "outputs": [],
   "source": [
    "config_file = 'config_local.yaml'"
   ]
  },
  {
   "cell_type": "code",
   "execution_count": null,
   "id": "1b8d86f4-53c2-4c1b-baa8-3eff5c759dbd",
   "metadata": {},
   "outputs": [],
   "source": [
    "# %load config_local.yaml\n",
    "---\n",
    "approach: \"stations\"\n",
    "loc_model: \"https://thredds.cencoos.org/thredds/dodsC/CENCOOS_CA_ROMS_FCST.nc\"\n",
    "axds:\n",
    "bbox:\n",
    "criteria:\n",
    "  salt:\n",
    "    name:\n",
    "      \"sea_water_practical_salinity$\"\n",
    "erddap:\n",
    "figname_map: \"local_cli.png\"\n",
    "figname_data_prefix: \"local_cli_\"\n",
    "local:\n",
    "  filenames:\n",
    "    - \"edu_humboldt_tdp.csv\"\n",
    "    - \"bodega-bay-bml_wts.nc\"\n",
    "only_search: false\n",
    "only_searchplot: false\n",
    "parallel: true\n",
    "readers:\n",
    "  - \"local\"\n",
    "run_qc: false\n",
    "skip_units: true\n",
    "stations:\n",
    "time_range:\n",
    "  - \"2021-9-1\"\n",
    "  - \"2021-9-8\"\n",
    "var_def:\n",
    "  salt:\n",
    "    units: \"psu\"\n",
    "    fail_span:\n",
    "      - -10\n",
    "      - 60\n",
    "    suspect_span:\n",
    "      - -1\n",
    "      - 45\n",
    "variables:\n",
    "  - \"salt\"\n",
    "xarray_kwargs:\n",
    "  chunks:\n",
    "    time:\n",
    "      1\n",
    "    depth:\n",
    "      1\n"
   ]
  },
  {
   "cell_type": "code",
   "execution_count": null,
   "id": "d32c140b-0fe5-4e05-9a01-5b80fa81062d",
   "metadata": {},
   "outputs": [],
   "source": [
    "!python ../ocean_model_skill_assessor/CLI.py $config_file"
   ]
  },
  {
   "cell_type": "code",
   "execution_count": null,
   "id": "4320e0ab-3cb5-400d-9c4b-4b56e4a4cac5",
   "metadata": {},
   "outputs": [],
   "source": [
    "display.Image(\"local_cli.png\")"
   ]
  },
  {
   "cell_type": "code",
   "execution_count": null,
   "id": "b91db430-46fd-40ac-a6e8-f6d16ece8640",
   "metadata": {},
   "outputs": [],
   "source": [
    "display.Image('local_cli_edu_humboldt_tdp.csv_salt.png')"
   ]
  },
  {
   "cell_type": "code",
   "execution_count": null,
   "id": "adaf8a2c-8b85-47df-8256-306ecc94aa16",
   "metadata": {},
   "outputs": [],
   "source": [
    "display.Image('local_cli_bodega-bay-bml_wts.nc_salt.png')"
   ]
  },
  {
   "cell_type": "markdown",
   "id": "61ef1543-af4a-4059-b4a8-543a2a8b3ffd",
   "metadata": {},
   "source": [
    "### Nonlocal workflow: stations"
   ]
  },
  {
   "cell_type": "code",
   "execution_count": null,
   "id": "6211707b-d967-4bdd-8139-0f310fa7f489",
   "metadata": {},
   "outputs": [],
   "source": [
    "config_file = 'config_nonlocal.yaml'"
   ]
  },
  {
   "cell_type": "code",
   "execution_count": null,
   "id": "21e4899d-45df-4ffe-9ba3-f5da34894913",
   "metadata": {},
   "outputs": [],
   "source": [
    "# %load config_nonlocal.yaml\n",
    "---\n",
    "approach: \"stations\"\n",
    "loc_model: \"https://thredds.cencoos.org/thredds/dodsC/CENCOOS_CA_ROMS_FCST.nc\"\n",
    "axds:\n",
    "bbox:\n",
    "criteria:\n",
    "  salt:\n",
    "    name:\n",
    "      \"sea_water_practical_salinity$\"\n",
    "erddap:\n",
    "  known_server:\n",
    "    \"ioos\"\n",
    "figname_map: \"nonlocal_cli.png\"\n",
    "figname_data_prefix: \"nonlocal_cli_\"\n",
    "local:\n",
    "only_search: false\n",
    "only_searchplot: false\n",
    "parallel: true\n",
    "readers:\n",
    "  - \"erddap\"\n",
    "run_qc: false\n",
    "skip_units: true\n",
    "stations:\n",
    "  - \"edu_humboldt_tdp\"\n",
    "  - \"bodega-bay-bml_wts\"\n",
    "time_range:\n",
    "  - \"2021-9-1\"\n",
    "  - \"2021-9-8\"\n",
    "var_def:\n",
    "  salt:\n",
    "    units: \"psu\"\n",
    "    fail_span:\n",
    "      - -10\n",
    "      - 60\n",
    "    suspect_span:\n",
    "      - -1\n",
    "      - 45\n",
    "variables:\n",
    "  - \"salt\"\n",
    "xarray_kwargs:\n",
    "  chunks:\n",
    "    time:\n",
    "      1\n",
    "    depth:\n",
    "      1\n"
   ]
  },
  {
   "cell_type": "code",
   "execution_count": null,
   "id": "89bd6be5-a811-47c7-a906-a7a30bd106a9",
   "metadata": {},
   "outputs": [],
   "source": [
    "whos"
   ]
  },
  {
   "cell_type": "code",
   "execution_count": null,
   "id": "1ef1a3b2-82ff-4974-8580-797d56b61a1a",
   "metadata": {},
   "outputs": [],
   "source": []
  },
  {
   "cell_type": "code",
   "execution_count": null,
   "id": "043027af-3c10-4409-82d7-40aafb1a0e0c",
   "metadata": {},
   "outputs": [],
   "source": [
    "!python ../ocean_model_skill_assessor/CLI.py $config_file"
   ]
  },
  {
   "cell_type": "code",
   "execution_count": null,
   "id": "5fe74744-4c9c-47d2-8d78-b7538bc4cd9e",
   "metadata": {},
   "outputs": [],
   "source": [
    "display.Image(\"nonlocal_cli.png\")"
   ]
  },
  {
   "cell_type": "code",
   "execution_count": null,
   "id": "71277ce0-9c23-46e3-9b89-fa5bfe989b23",
   "metadata": {},
   "outputs": [],
   "source": [
    "display.Image('nonlocal_cli_edu_humboldt_tdp_salt.png')"
   ]
  },
  {
   "cell_type": "code",
   "execution_count": null,
   "id": "6bafb68c-1f6f-4504-b01b-17230f151b84",
   "metadata": {},
   "outputs": [],
   "source": [
    "display.Image('nonlocal_cli_bodega-bay-bml_wts_salt.png')"
   ]
  },
  {
   "cell_type": "markdown",
   "id": "dfbe9394-c2c0-42f8-b203-e489dd50a2bf",
   "metadata": {},
   "source": [
    "### Nonlocal reader: region"
   ]
  },
  {
   "cell_type": "code",
   "execution_count": null,
   "id": "c2054461-ab60-4f47-b6fd-fc3b3198e5c0",
   "metadata": {},
   "outputs": [],
   "source": [
    "config_file = 'config_nonlocal_region.yaml'"
   ]
  },
  {
   "cell_type": "code",
   "execution_count": null,
   "id": "a00d05bf-1fa2-4134-95e3-018afc2f25e9",
   "metadata": {},
   "outputs": [],
   "source": [
    "# %load config_nonlocal_region.yaml\n",
    "---\n",
    "approach: \"region\"\n",
    "loc_model: \"https://thredds.cencoos.org/thredds/dodsC/CENCOOS_CA_ROMS_FCST.nc\"\n",
    "axds:\n",
    "bbox:\n",
    "  - -124.5\n",
    "  - 40\n",
    "  - -123.5\n",
    "  - 42\n",
    "criteria:\n",
    "  salt:\n",
    "    name:\n",
    "      \"sea_water_practical_salinity$\"\n",
    "erddap:\n",
    "  known_server:\n",
    "    \"ioos\"\n",
    "figname_map: \"nonlocal_cli_region.png\"\n",
    "figname_data_prefix: \"nonlocal_cli__region\"\n",
    "local:\n",
    "only_search: false\n",
    "only_searchplot: false\n",
    "parallel: true\n",
    "readers:\n",
    "  - \"erddap\"\n",
    "run_qc: false\n",
    "skip_units: true\n",
    "stations:\n",
    "time_range:\n",
    "  - \"2021-9-1\"\n",
    "  - \"2021-9-8\"\n",
    "var_def:\n",
    "  salt:\n",
    "    units: \"psu\"\n",
    "    fail_span:\n",
    "      - -10\n",
    "      - 60\n",
    "    suspect_span:\n",
    "      - -1\n",
    "      - 45\n",
    "variables:\n",
    "  - \"salt\"\n",
    "xarray_kwargs:\n",
    "  chunks:\n",
    "    time:\n",
    "      1\n",
    "    depth:\n",
    "      1"
   ]
  },
  {
   "cell_type": "code",
   "execution_count": null,
   "id": "bb8f67ca-f638-4f8d-9c1d-381300a93100",
   "metadata": {},
   "outputs": [],
   "source": [
    "!python ../ocean_model_skill_assessor/CLI.py $config_file"
   ]
  },
  {
   "cell_type": "code",
   "execution_count": null,
   "id": "cd5e067b-03ce-4496-aeb6-549e6e2bd15c",
   "metadata": {},
   "outputs": [],
   "source": [
    "display.Image(\"nonlocal_cli_region.png\")"
   ]
  },
  {
   "cell_type": "code",
   "execution_count": null,
   "id": "cebded2b-4f29-4018-a8d1-443fb5c0aa59",
   "metadata": {},
   "outputs": [],
   "source": [
    "display.Image('nonlocal_cli__regionexploratorium-pco2-buoy_salt.png')"
   ]
  },
  {
   "cell_type": "code",
   "execution_count": null,
   "id": "c532aacb-bad0-45e6-ba52-a14cd3e09833",
   "metadata": {},
   "outputs": [],
   "source": [
    "display.Image('nonlocal_cli__regionedu_calpoly_marine_morro_salt.png')"
   ]
  },
  {
   "cell_type": "code",
   "execution_count": null,
   "id": "89be8444-a663-4996-96eb-9e3371711a3b",
   "metadata": {},
   "outputs": [],
   "source": [
    "display.Image('nonlocal_cli__regionsccoos_ucsd_salt.png')"
   ]
  },
  {
   "cell_type": "code",
   "execution_count": null,
   "id": "0414f069-1c4a-4a45-9115-b1c08f09cc19",
   "metadata": {},
   "outputs": [],
   "source": []
  }
 ],
 "metadata": {
  "kernelspec": {
   "display_name": "Python 3 (ipykernel)",
   "language": "python",
   "name": "python3"
  },
  "language_info": {
   "codemirror_mode": {
    "name": "ipython",
    "version": 3
   },
   "file_extension": ".py",
   "mimetype": "text/x-python",
   "name": "python",
   "nbconvert_exporter": "python",
   "pygments_lexer": "ipython3",
   "version": "3.10.4"
  }
 },
 "nbformat": 4,
 "nbformat_minor": 5
}
