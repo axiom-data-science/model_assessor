{
 "cells": [
  {
   "cell_type": "markdown",
   "id": "a9da2fa8-9a25-497e-8ec6-d08609ad38ca",
   "metadata": {},
   "source": [
    "# Demo workflows\n",
    "\n",
    "Below are demonstrated the use of this library as a Python package and from the command line interface. Note that one step demonstrated below is to save datasets you need to run the local examples."
   ]
  },
  {
   "cell_type": "code",
   "execution_count": null,
   "id": "3b2011cd-01e0-454c-af6f-d968522f5385",
   "metadata": {},
   "outputs": [],
   "source": [
    "import xarray as xr\n",
    "import ocean_data_gateway as odg\n",
    "import cf_xarray\n",
    "import pandas as pd\n",
    "import extract_model as em\n",
    "import ocean_model_skill_assessor as omsa\n",
    "import numpy as np\n",
    "from IPython import display\n",
    "from glob import glob"
   ]
  },
  {
   "cell_type": "code",
   "execution_count": null,
   "id": "b0e38fa9-0318-4c0b-9be8-d622db151d97",
   "metadata": {},
   "outputs": [],
   "source": [
    "criteria = {\n",
    "    \"salt\": {\n",
    "        \"name\": \"sea_water_practical_salinity$\",\n",
    "    },\n",
    "}\n",
    "\n",
    "var_def = {\n",
    "    \"salt\": {\"units\": \"psu\", \"fail_span\": [-10, 60], \"suspect_span\": [-1, 45]},\n",
    "}\n"
   ]
  },
  {
   "cell_type": "code",
   "execution_count": null,
   "id": "ed628da3-09dd-4b3a-bfd0-cd52b154399b",
   "metadata": {},
   "outputs": [],
   "source": [
    "url = 'https://gist.githubusercontent.com/kthyng/c3cc27de6b4449e1776ce79215d5e732/raw/af448937e4896535e36ef6522df8460e8f928cd6/my_custom_criteria.py'\n",
    "criteria = odg.return_response(url)\n",
    "criteria"
   ]
  },
  {
   "cell_type": "code",
   "execution_count": null,
   "id": "60b58446-c0e9-4e3b-b6a0-15572dace366",
   "metadata": {},
   "outputs": [],
   "source": [
    "# # for ciofs:\n",
    "# kw = {\n",
    "#     \"min_lon\": -156,\n",
    "#     \"max_lon\": -148,\n",
    "#     \"min_lat\": 56,\n",
    "#     \"max_lat\": 62,\n",
    "#     \"min_time\": '2022-5-20',\n",
    "#     \"max_time\": '2022-5-23',\n",
    "# }"
   ]
  },
  {
   "cell_type": "code",
   "execution_count": null,
   "id": "c38ad78e-c777-49b6-8276-8aaef934409d",
   "metadata": {},
   "outputs": [],
   "source": [
    "# # setup Data search object\n",
    "# data = odg.Gateway(kw=kw, approach='region')"
   ]
  },
  {
   "cell_type": "code",
   "execution_count": null,
   "id": "42e61998-0988-42d8-8dfb-8bfe6771147e",
   "metadata": {},
   "outputs": [],
   "source": [
    "#odg.Gateway?"
   ]
  },
  {
   "cell_type": "code",
   "execution_count": null,
   "id": "8ada0bdc-1373-4b99-8658-22a937babcb8",
   "metadata": {},
   "outputs": [],
   "source": [
    "#len(data.dataset_ids)"
   ]
  },
  {
   "cell_type": "code",
   "execution_count": null,
   "id": "4d484e85-29d3-45a3-a334-0e71c0315332",
   "metadata": {},
   "outputs": [],
   "source": [
    "# valid_ids = []\n",
    "# valid_dss = []\n",
    "# for k in range(238, len(data.dataset_ids)): \n",
    "#    if data[data.dataset_ids[k]]: \n",
    "#        if ('sea_water_salinity' in data[data.dataset_ids[k]].variables) | ('sea_water_practical_salinity' in data[data.dataset_ids[k]].variables):\n",
    "#            print(k, '  ', data.dataset_ids[k])\n",
    "#            valid_ids.append(k)\n",
    "#            valid_dss.append(data.dataset_ids[k])           "
   ]
  },
  {
   "cell_type": "code",
   "execution_count": null,
   "id": "1dc32176-1097-4497-9a71-5fd795edf2f2",
   "metadata": {},
   "outputs": [],
   "source": [
    "# # for ciofs\n",
    "# valid_ids = [51, 83, 219, 238]\n",
    "# valid_dss = ['nerrs_kacsdwq', 'cdmo_nerrs_3b00077a', 'cdmo_nerrs_3b040240', 'nerrs_kachdwq']"
   ]
  },
  {
   "cell_type": "code",
   "execution_count": null,
   "id": "85e357c0-4e2c-4213-b8b5-0a9f8eff1a07",
   "metadata": {},
   "outputs": [],
   "source": [
    "# # plotting just stations with salinity \n",
    "# import matplotlib.pyplot as plt\n",
    "\n",
    "# plot_lat = []\n",
    "# plot_lon = []\n",
    "# plot_text = []\n",
    "# for valid_ds in valid_dss:\n",
    "#     plot_lat.append(data[valid_ds].latitude)\n",
    "#     plot_lon.append(data[valid_ds].longitude)\n",
    "#     # plot_text.append(str(k))"
   ]
  },
  {
   "cell_type": "code",
   "execution_count": null,
   "id": "357a4b51-5063-486f-aa00-4eb81a030ebf",
   "metadata": {},
   "outputs": [],
   "source": [
    "# # plotting all stations\n",
    "# plt.plot(plot_lon,plot_lat,'.')\n",
    "# plt.show()"
   ]
  },
  {
   "cell_type": "markdown",
   "id": "35c6133b-a497-44e8-9d9f-5fa46d707a54",
   "metadata": {},
   "source": [
    "# Let's test omsa.run - that's where the problem was, originally (with the netcdf file downloaded)\n",
    "The problem was originally `KeyError: lat, on ocean_model_skill_assessor/main.py:370`. That's within the omsa.run func. So let's run that func piecewise here.\n"
   ]
  },
  {
   "cell_type": "markdown",
   "id": "b9c23d25-f60c-48e3-8fdf-623450f12f3f",
   "metadata": {},
   "source": [
    "### Testing read_model"
   ]
  },
  {
   "cell_type": "code",
   "execution_count": null,
   "id": "93a8442b-99e2-42f7-9014-1b0b84c67d02",
   "metadata": {},
   "outputs": [],
   "source": [
    "def read_model(loc_model, xarray_kwargs, time_range=None):\n",
    "    \"\"\"Read in model output input by user.\n",
    "\n",
    "    Parameters\n",
    "    ----------\n",
    "    loc_model : str\n",
    "        Relative or absolute, local or nonlocal path to model output.\n",
    "    xarray_kwargs : dict, optional\n",
    "        Keyword arguments to pass into `xr.open_dataset`.\n",
    "    time_range: list\n",
    "        [min_time, max_time] for desired time range of search where each\n",
    "        are strings that can be interpreted with pandas `Timestamp`.\n",
    "\n",
    "    Returns\n",
    "    -------\n",
    "    xarray Dataset containing model output.\n",
    "    \"\"\"\n",
    "\n",
    "    dsm = xr.open_dataset(loc_model, **xarray_kwargs)\n",
    "\n",
    "    # add more cf-xarray info\n",
    "    dsm = dsm.cf.guess_coord_axis()\n",
    "\n",
    "    # drop duplicate time indices if present\n",
    "    # also limit the time range of the model output to what we are requesting from the data to\n",
    "    # not waste extra time on the model interpolation\n",
    "    # https://stackoverflow.com/questions/51058379/drop-duplicate-times-in-xarray\n",
    "    _, index = np.unique(dsm.cf[\"T\"], return_index=True)\n",
    "\n",
    "    if time_range:\n",
    "        dsm = dsm.cf.isel(T=index).cf.sel(T=slice(time_range[0], time_range[1]))\n",
    "\n",
    "    # force longitude to be from -180 to 180\n",
    "    lkey = dsm.cf[\"longitude\"].name\n",
    "    dsm[lkey] = dsm.cf[\"longitude\"].where(\n",
    "        dsm.cf[\"longitude\"] < 180, dsm.cf[\"longitude\"] - 360\n",
    "    )\n",
    "\n",
    "    return dsm"
   ]
  },
  {
   "cell_type": "code",
   "execution_count": null,
   "id": "4d2ef884-04e2-4b0b-876c-a56fa9901897",
   "metadata": {},
   "outputs": [],
   "source": [
    "# this was done with the file downloaded from: \n",
    "# https://thredds/ncss/NOAA_COOPS_OFS_CIOFS.nc?var=salt&north=61.5247&west=-156.4852&east=-148.9251&south=56.7004&horizStride=1&time_start=2022-05-20T00%3A00%3A00Z&time_end=2022-05-23T18%3A00%3A00Z&timeStride=1&vertCoord=1&vertStride=1&addLatLon=true&accept=netcdf\n",
    "model_url = 'NOAA_COOPS_OFS_CIOFS.nc'\n",
    "loc_model = model_url\n",
    "# xarray_kwargs = xarray_kwargs={'chunks': {'time': 1, 'depth': 1},\"decode_coords\":\"all\"}\n",
    "xarray_kwargs = xarray_kwargs={'chunks': {'time': 1, 'depth': 1}}\n",
    "time_range=['2022-5-20','2022-5-23']"
   ]
  },
  {
   "cell_type": "code",
   "execution_count": null,
   "id": "33c7f574-b189-4c14-9d76-d2c877da75cc",
   "metadata": {},
   "outputs": [],
   "source": [
    "dsm = read_model(loc_model, xarray_kwargs, time_range)\n",
    "# dsm = read_model(loc_model, time_range)"
   ]
  },
  {
   "cell_type": "code",
   "execution_count": null,
   "id": "4f85319e-3505-4f34-83a1-b2c3cdd15bd9",
   "metadata": {},
   "outputs": [],
   "source": [
    "dsm\n",
    "# dsm.dims\n",
    "# dsm.coords\n",
    "# dsm.cf\n",
    "# dsm.lon_rho.values"
   ]
  },
  {
   "cell_type": "markdown",
   "id": "9cf51bf9-5a58-4e49-93b9-10bcdd296200",
   "metadata": {},
   "source": [
    "### read_model works, good. Now let's test ocean data gateway for stations - that's where the problem was, originally (with the netcdf file downloaded)\n",
    "\n"
   ]
  },
  {
   "cell_type": "code",
   "execution_count": null,
   "id": "96b477a7-6a55-42d5-a834-69d39bc394db",
   "metadata": {},
   "outputs": [],
   "source": [
    "# test ocean data gateway\n",
    "\n",
    "# best datasets - ciofs\n",
    "dataset_ids = ['nerrs_kacsdwq', 'cdmo_nerrs_3b00077a']\n",
    "\n",
    "parallel = False\n",
    "variables=['salt']\n",
    "readers=[odg.erddap]\n",
    "local=None\n",
    "erddap={'known_server': 'ioos'}\n",
    "axds=None\n",
    "skip_units=False\n",
    "\n",
    "kwargs = dict(\n",
    "        criteria=criteria,\n",
    "        var_def=var_def,\n",
    "        approach='stations',\n",
    "        parallel=parallel,\n",
    "        variables=variables,\n",
    "        readers=readers,\n",
    "        local=local,\n",
    "        erddap=erddap,\n",
    "        axds=axds,\n",
    "        skip_units=skip_units,\n",
    "    )\n",
    "\n",
    "time_range=['2022-5-20','2022-5-23']\n",
    "kw = dict(min_time=time_range[0], max_time=time_range[1])\n",
    "kwargs[\"kw\"] = kw\n",
    "\n",
    "kwargs[\"stations\"] = dataset_ids\n",
    "\n",
    "search = odg.Gateway(**kwargs)"
   ]
  },
  {
   "cell_type": "code",
   "execution_count": null,
   "id": "aa473320-3c28-4edf-8018-9ac4ffaf702d",
   "metadata": {},
   "outputs": [],
   "source": [
    "# check what's available\n",
    "# search.kwargs\n",
    "# search.kwargs_all\n",
    "# search.criteria\n",
    "# search.var_def\n",
    "# search.sources\n",
    "# search.dataset_ids"
   ]
  },
  {
   "cell_type": "markdown",
   "id": "28e5f0f3-68a1-4076-8582-ebf2b5b4dede",
   "metadata": {},
   "source": [
    "### Ocean data gateway works, good. Now let's make sure prep extract model works"
   ]
  },
  {
   "cell_type": "code",
   "execution_count": null,
   "id": "f08de2ac-d3e1-4672-b190-95b1cf7dbe58",
   "metadata": {},
   "outputs": [],
   "source": [
    "def prep_em(input_data):\n",
    "    \"\"\"Prepare to run extract_model.\"\"\"\n",
    "\n",
    "    if isinstance(input_data, pd.DataFrame):\n",
    "        data = input_data\n",
    "        tname = data.cf[\"T\"].name\n",
    "        data[tname] = pd.to_datetime(data.cf[\"T\"])\n",
    "        data = data.set_index(data.cf[\"T\"])\n",
    "    else:\n",
    "        data = input_data\n",
    "    lon = float(data.cf[\"longitude\"].values[0])\n",
    "    lat = float(data.cf[\"latitude\"].values[0])\n",
    "    T = None\n",
    "    # only compare surface\n",
    "    Z = None\n",
    "\n",
    "    return data, lon, lat, T, Z"
   ]
  },
  {
   "cell_type": "code",
   "execution_count": null,
   "id": "67d3716c-83e5-45f1-b5e9-81c1f6904353",
   "metadata": {},
   "outputs": [],
   "source": [
    "data, lon, lat, T, Z = prep_em(search[dataset_ids[0]])"
   ]
  },
  {
   "cell_type": "code",
   "execution_count": null,
   "id": "edc64d9a-805e-485f-99fa-6ef2411fcdd8",
   "metadata": {},
   "outputs": [],
   "source": [
    "data"
   ]
  },
  {
   "cell_type": "code",
   "execution_count": null,
   "id": "fbeead08-8987-4abc-a65d-8599f3dfc60f",
   "metadata": {},
   "outputs": [],
   "source": [
    "lon"
   ]
  },
  {
   "cell_type": "code",
   "execution_count": null,
   "id": "023797e0-ff29-450f-ba98-c8ee06c4c0d6",
   "metadata": {},
   "outputs": [],
   "source": [
    "data"
   ]
  },
  {
   "cell_type": "markdown",
   "id": "a17728b2-33fb-408b-a53e-b3e34ce01e3d",
   "metadata": {},
   "source": [
    "# great, that works too. Now let's check the kwargs for em.select   \n",
    "            kwargs = dict(\n",
    "                da=dsm.cf[variable].cf.isel(Z=0).cf.sel(lon=slice(lon - 5, lon + 5), lat=slice(lat - 5, lat + 5)),\n",
    "                longitude=lon,\n",
    "                latitude=lat,\n",
    "                T=T,\n",
    "                iZ=Z,\n",
    "                locstream=True,\n",
    "            )   \n",
    "            \n",
    "The main issue here is with subsetting the model. Ciofs dataset has as dimensions ocean_time, s_rho, eta_rho and xi_rho. And the coordinates are ocean_time, s_rho, lat_rho, and lon_rho.\n",
    "So we can't subset directly on lat_rho and lon_rho."
   ]
  },
  {
   "cell_type": "code",
   "execution_count": null,
   "id": "c8d1cdd1-7127-4851-bdda-4c6365550b64",
   "metadata": {},
   "outputs": [],
   "source": [
    "dsm"
   ]
  },
  {
   "cell_type": "code",
   "execution_count": null,
   "id": "d2d0c378-ba95-4d5e-9482-9e5865afd103",
   "metadata": {
    "tags": []
   },
   "outputs": [],
   "source": [
    "dsm.salt.cf.sel(longitude=slice(lon - 5, lon + 5), latitude=slice(lat - 5, lat + 5))"
   ]
  },
  {
   "cell_type": "code",
   "execution_count": null,
   "id": "ec65a62b-7194-4f0c-a91e-caf2bc8e3828",
   "metadata": {},
   "outputs": [],
   "source": [
    "# KeyError: 'no index found for coordinate lat_rho'"
   ]
  },
  {
   "cell_type": "code",
   "execution_count": null,
   "id": "ba12bde8-b613-4351-bdfa-c23f73bfc277",
   "metadata": {
    "tags": []
   },
   "outputs": [],
   "source": [
    "dsm.salt.cf.sel(lon=slice(lon - 5, lon + 5), lat=slice(lat - 5, lat + 5))"
   ]
  },
  {
   "cell_type": "code",
   "execution_count": null,
   "id": "425dc7c7-8ad2-48f9-9a23-2d45d86e855d",
   "metadata": {},
   "outputs": [],
   "source": [
    "# KeyError: 'lat is not a valid dimension or coordinate'"
   ]
  },
  {
   "cell_type": "code",
   "execution_count": null,
   "id": "f3173331-af6e-4b4b-b493-7da5008948d1",
   "metadata": {},
   "outputs": [],
   "source": [
    "dsm.cf['latitude']"
   ]
  },
  {
   "cell_type": "code",
   "execution_count": null,
   "id": "566854c5-1a6c-40c4-8738-9185038e11f5",
   "metadata": {},
   "outputs": [],
   "source": [
    "dsm.cf['longitude']"
   ]
  },
  {
   "cell_type": "code",
   "execution_count": null,
   "id": "ad8e4be1-3ea0-4bc1-8355-3760517bca64",
   "metadata": {},
   "outputs": [],
   "source": [
    "lon, lat"
   ]
  },
  {
   "cell_type": "markdown",
   "id": "446ce14b-8aab-4382-a911-ff7efc156129",
   "metadata": {},
   "source": [
    "## Ok so since we can't subset it that easily, let's try very quickly without subsetting, since for this particular case the subsetting wouldn't be used anyway"
   ]
  },
  {
   "cell_type": "code",
   "execution_count": null,
   "id": "f63f6fc9-45e3-408e-bff0-1eebbb1ad5ef",
   "metadata": {
    "tags": []
   },
   "outputs": [],
   "source": [
    "variable=['salt']            \n",
    "kwargs = dict(da=dsm.cf[variable].cf.isel(Z=0),\n",
    "              longitude=lon,\n",
    "              latitude=lat,\n",
    "              T=T,\n",
    "              iZ=Z,\n",
    "              locstream=True,\n",
    "              )\n",
    "\n",
    "model_var = em.select(**kwargs).to_dataset()"
   ]
  },
  {
   "cell_type": "code",
   "execution_count": null,
   "id": "71db4bfc-a094-4e5f-a07a-ec1ffd661b86",
   "metadata": {},
   "outputs": [],
   "source": [
    "whos"
   ]
  },
  {
   "cell_type": "markdown",
   "id": "bc2a763b-d1b5-4449-9e42-e2d94680cc0b",
   "metadata": {},
   "source": [
    "Ok so that doesn't work either; something to do with regridding. "
   ]
  },
  {
   "cell_type": "code",
   "execution_count": null,
   "id": "16ba69ed-768c-4d3a-a664-987e6e81ebdd",
   "metadata": {},
   "outputs": [],
   "source": [
    "# To subset, we need to find the indices of eta_rho and xi_rho with values for lat and lon that interest us. The fact that this is not a rectilinear grid makes it more complicated."
   ]
  },
  {
   "cell_type": "code",
   "execution_count": null,
   "id": "e96d9a3f-1fbd-4fed-a738-16ea182dbde1",
   "metadata": {},
   "outputs": [],
   "source": [
    "dsm.salt.isel(xi_rho=0,eta_rho=100,ocean_time=10) # selecting with indices"
   ]
  },
  {
   "cell_type": "code",
   "execution_count": null,
   "id": "167eb705-a904-4a6b-9898-b201603d403d",
   "metadata": {},
   "outputs": [],
   "source": [
    "dsm.salt.sel(xi_rho=0,eta_rho=100,ocean_time='2022-05-23T17:00:00.000000000') # selecting by values"
   ]
  },
  {
   "cell_type": "code",
   "execution_count": null,
   "id": "11f1dca2-c685-4432-b918-bee9e4eb87fc",
   "metadata": {},
   "outputs": [],
   "source": [
    "# Ok, now let's try to find something that works for us"
   ]
  },
  {
   "cell_type": "code",
   "execution_count": null,
   "id": "8de1a84c-516d-4d6d-b465-99046ca84a07",
   "metadata": {},
   "outputs": [],
   "source": [
    "# find indices with nice lats and lons\n",
    "lati = np.array(np.where((dsm.lat_rho > lat-5) & (dsm.lat_rho < lat+5)),dsm.lat_rho)\n",
    "loni = np.array(np.where((dsm.lon_rho > lon-5) & (dsm.lon_rho < lon+5)),dsm.lon_rho)\n",
    "\n",
    "\n",
    "l, c = np.array(np.where((dsm.cf['latitude'] > lat-5) & (dsm.cf['latitude'] < lat+5) & (dsm.cf['longitude'] > lon-5) & (dsm.cf['longitude'] < lon+5)))\n",
    "# l and c each returns an array with the number of elements in the original matrix\n",
    "\n",
    "# so we can't do something like\n",
    "aux=dsm.salt[:,:,l,c] # dimensions (ocean_time, s_rho, eta_rho, xi_rho)"
   ]
  },
  {
   "cell_type": "markdown",
   "id": "bb146257-33cf-4a9b-8595-738e88d3a0b3",
   "metadata": {},
   "source": [
    "Now let's try the func from https://github.com/xoceanmodel/xroms"
   ]
  },
  {
   "cell_type": "code",
   "execution_count": null,
   "id": "8a478422-9d10-4014-a7ff-97ef073aecba",
   "metadata": {},
   "outputs": [],
   "source": [
    "def subset(ds, X=None, Y=None):\n",
    "    \"\"\"Subset model output horizontally using isel, properly accounting for horizontal grids.\n",
    "    Inputs\n",
    "    ------\n",
    "    ds: xarray Dataset\n",
    "        Dataset of ROMS model output. Assumes that full regular grid setup is\n",
    "        available and has been read in using xroms so that dimension names\n",
    "        have been updated.\n",
    "    X: slice, optional\n",
    "        Slice in X dimension using form `X=slice(start, stop, step)`. For example,\n",
    "        >>> X=slice(20,40,2)\n",
    "        Indices are used for rho grid, and psi grid is reduced accordingly.\n",
    "    Y: slice, optional\n",
    "        Slice in Y dimension using form `Y=slice(start, stop, step)`. For example,\n",
    "        >>> Y=slice(20,40,2)\n",
    "        Indices are used for rho grid, and psi grid is reduced accordingly.\n",
    "    Returns\n",
    "    -------\n",
    "    Dataset with form as if model had been run at the subsetted size. That is, the outermost\n",
    "    cells of the rho grid are like ghost cells and the psi grid is one inward from this size\n",
    "    in each direction.\n",
    "    Notes\n",
    "    -----\n",
    "    X and Y must be slices, not single numbers.\n",
    "    Example usage\n",
    "    -------------\n",
    "    Subset only in Y direction:\n",
    "    >>> xroms.subset(ds, Y=slice(50,100))\n",
    "    Subset in X and Y:\n",
    "    >>> xroms.subset(ds, X=slice(20,40), Y=slice(50,100))\n",
    "    \"\"\"\n",
    "\n",
    "#     if X is not None:\n",
    "#         assert isinstance(X, slice), \"X must be a slice, e.g., slice(50,100)\"\n",
    "#         ds = ds.isel(xi_rho=X, xi_u=slice(X.start, X.stop - 1))\n",
    "\n",
    "#     if Y is not None:\n",
    "#         assert isinstance(Y, slice), \"Y must be a slice, e.g., slice(50,100)\"\n",
    "#         ds = ds.isel(eta_rho=Y, eta_v=slice(Y.start, Y.stop - 1))\n",
    "\n",
    "    # I believe I need to edit this\n",
    "    if X is not None:\n",
    "        assert isinstance(X, slice), \"X must be a slice, e.g., slice(50,100)\"\n",
    "        ds = ds.isel(eta_rho=slice(Y.start, Y.stop - 1))\n",
    "\n",
    "    if Y is not None:\n",
    "        assert isinstance(Y, slice), \"Y must be a slice, e.g., slice(50,100)\"\n",
    "        ds = ds.isel(xi_rho=slice(X.start, X.stop - 1))\n",
    "        \n",
    "        \n",
    "    return ds"
   ]
  },
  {
   "cell_type": "code",
   "execution_count": null,
   "id": "a50377db-a8ed-4f63-a7a7-6804c0b17d4a",
   "metadata": {},
   "outputs": [],
   "source": [
    "subset(dsm, X=slice(lon - 5, lon + 5), Y=slice(lat - 5, lat + 5))"
   ]
  },
  {
   "cell_type": "markdown",
   "id": "64930067-867f-4da5-8e8d-8c6282d4e777",
   "metadata": {},
   "source": [
    "# some more tests/junk"
   ]
  },
  {
   "cell_type": "code",
   "execution_count": null,
   "id": "66626721-02b3-48ed-8368-34e5472f621a",
   "metadata": {},
   "outputs": [],
   "source": [
    "# First, find the index of the grid point nearest a specific lat/lon.   \n",
    "abslat = np.abs(dsm.lat_rho-lat)\n",
    "abslon = np.abs(dsm.lon_rho-lon)\n",
    "\n",
    "import numpy as np\n",
    "dsm.cf['longitude']\n",
    "minlon = np.abs(dsm.cf['longitude'][0,:]-(lon-5))\n",
    "np.where(aa == np.min(aa).values)\n",
    "\n",
    "maxlon = np.abs(dsm.cf['longitude'][0,:]-(lon+5))"
   ]
  },
  {
   "cell_type": "code",
   "execution_count": null,
   "id": "20accf65-425a-4626-8f72-df35bfbdcc1d",
   "metadata": {},
   "outputs": [],
   "source": [
    "lat2 = dsm.lat_rho.values.ravel()\n",
    "lon2 = dsm.lon_rho.values.ravel()\n",
    "\n",
    "indices = np.array(np.where((lat2 > lat-5) & (lat2 < lat+5) & (lon2 > lon-5) & (lon2 < lon+5)))\n",
    "\n",
    "for time in ocean_time:\n",
    "    dsm.salt[time,0,...].ravel()"
   ]
  },
  {
   "cell_type": "code",
   "execution_count": null,
   "id": "53a91f3d-2189-4c65-9305-81bd35504ada",
   "metadata": {},
   "outputs": [],
   "source": [
    "import numpy as np\n",
    "import matplotlib.pyplot as plt\n",
    "from matplotlib import path \n",
    "import netCDF4\n",
    "\n",
    "def bbox2ij(lon,lat,bbox=[-160., -155., 18., 23.]):\n",
    "    \"\"\"Return indices for i,j that will completely cover the specified bounding box.     \n",
    "    i0,i1,j0,j1 = bbox2ij(lon,lat,bbox)\n",
    "    lon,lat = 2D arrays that are the target of the subset\n",
    "    bbox = list containing the bounding box: [lon_min, lon_max, lat_min, lat_max]\n",
    "\n",
    "    Example\n",
    "    -------  \n",
    "    >>> i0,i1,j0,j1 = bbox2ij(lon_rho,[-71, -63., 39., 46])\n",
    "    >>> h_subset = nc.variables['h'][j0:j1,i0:i1]       \n",
    "    \"\"\"\n",
    "    bbox=np.array(bbox)\n",
    "    mypath=np.array([bbox[[0,1,1,0]],bbox[[2,2,3,3]]]).T\n",
    "    p = path.Path(mypath)\n",
    "    points = np.vstack((lon.values.ravel(),lat.values.ravel())).T   \n",
    "    n,m = np.shape(lon)\n",
    "    inside = p.contains_points(points).reshape((n,m))\n",
    "    ii,jj = np.meshgrid(xrange(m),xrange(n))\n",
    "    return min(ii[inside]),max(ii[inside]),min(jj[inside]),max(jj[inside])"
   ]
  },
  {
   "cell_type": "code",
   "execution_count": null,
   "id": "c7239eeb-c156-466d-b5e0-6b34f41faaac",
   "metadata": {},
   "outputs": [],
   "source": [
    "bbox = [lon-5, lon+5, lat-5, lat+5]\n",
    "i0,i1,j0,j1 = bbox2ij(dsm.lon_rho,dsm.lat_rho,bbox)"
   ]
  },
  {
   "cell_type": "code",
   "execution_count": null,
   "id": "d35aa08c-f8ac-4750-b70e-b50f1dda49f6",
   "metadata": {},
   "outputs": [],
   "source": [
    "dsm.lon_rho.values.ravel()"
   ]
  },
  {
   "cell_type": "code",
   "execution_count": null,
   "id": "439ddd89-91e9-41fd-89f6-e92d3d67de17",
   "metadata": {},
   "outputs": [],
   "source": [
    "dsm.salt.isel(eta_rho=l,xi_rho=c)\n",
    "\n",
    "\n",
    "# ds = subset(dsm,X=slice(lon - 5, lon + 5), Y=slice(lat - 5, lat + 5))"
   ]
  },
  {
   "cell_type": "code",
   "execution_count": null,
   "id": "cc933bb8-ee27-4d4e-911d-a9835d2dc60c",
   "metadata": {},
   "outputs": [],
   "source": [
    "# a = np.arange(10)\n",
    "# np.where(a < 5)\n",
    "a = np.array([[0, 1, 2],\n",
    "              [0, 2, 4],\n",
    "              [0, 3, 6]])\n",
    "np.where(a < 4)"
   ]
  },
  {
   "cell_type": "code",
   "execution_count": null,
   "id": "ca34ada8-9539-42e3-a18e-cdb3d78868a5",
   "metadata": {},
   "outputs": [],
   "source": [
    "dsm.lat_rho.max().values"
   ]
  },
  {
   "cell_type": "code",
   "execution_count": null,
   "id": "5740a6c8-daf9-465d-b8af-f661c54b3c40",
   "metadata": {},
   "outputs": [],
   "source": [
    "lat"
   ]
  },
  {
   "cell_type": "code",
   "execution_count": null,
   "id": "2834de38-2d62-4088-b0ea-3ddf4a153593",
   "metadata": {},
   "outputs": [],
   "source": [
    "whos"
   ]
  },
  {
   "cell_type": "code",
   "execution_count": null,
   "id": "0f1f3976-3e63-4b1d-a53f-4f27236e8b92",
   "metadata": {},
   "outputs": [],
   "source": [
    "whos"
   ]
  },
  {
   "cell_type": "code",
   "execution_count": null,
   "id": "7e5d579a-ea3a-4b28-8702-1f6d4c87ad20",
   "metadata": {},
   "outputs": [],
   "source": [
    "aux.shape"
   ]
  },
  {
   "cell_type": "code",
   "execution_count": null,
   "id": "819c240a-5922-4f07-856a-a1dd14dfbfb0",
   "metadata": {},
   "outputs": [],
   "source": [
    "whos"
   ]
  },
  {
   "cell_type": "code",
   "execution_count": null,
   "id": "e4383066-feb4-4ada-987e-43cd6ca2fbe9",
   "metadata": {},
   "outputs": [],
   "source": [
    "dsm.lat_rho[aux].values\n"
   ]
  },
  {
   "cell_type": "code",
   "execution_count": null,
   "id": "71b711e9-fa4b-4a4f-86ab-b47e7b9faa2b",
   "metadata": {},
   "outputs": [],
   "source": [
    "aa.values"
   ]
  },
  {
   "cell_type": "code",
   "execution_count": null,
   "id": "ceaefd0b-74e7-417b-be6f-272400506231",
   "metadata": {},
   "outputs": [],
   "source": [
    "np.min(aa).values"
   ]
  },
  {
   "cell_type": "code",
   "execution_count": null,
   "id": "45390c34-d8ec-4ff2-9ab2-4f6c576e4fe3",
   "metadata": {},
   "outputs": [],
   "source": [
    "np.where(aa == np.min(aa).values) # primeiro eh eta_rho, depois eh xi_rho"
   ]
  },
  {
   "cell_type": "code",
   "execution_count": null,
   "id": "edd03bc4-7b82-401d-8d55-d6299f3fce7d",
   "metadata": {},
   "outputs": [],
   "source": [
    "aa.shape"
   ]
  },
  {
   "cell_type": "code",
   "execution_count": null,
   "id": "8e65d9fb-844c-404d-8fb6-1c6bfb8a02f1",
   "metadata": {},
   "outputs": [],
   "source": [
    "dsm.lat_rho[0,:].values"
   ]
  },
  {
   "cell_type": "code",
   "execution_count": null,
   "id": "7a2149c2-ad0a-4e18-acd5-600f3425163e",
   "metadata": {},
   "outputs": [],
   "source": [
    "aa.values"
   ]
  },
  {
   "cell_type": "code",
   "execution_count": null,
   "id": "2d2b199c-555e-4234-8ef6-c6e7d8e343e1",
   "metadata": {},
   "outputs": [],
   "source": [
    "dsm.rename_dims({\"s_rho\":\"z\",\"eta_rho\":\"lon_rho\",\"xi_rho\":\"lat_rho\"})\n",
    "dsm.swap_dims({\"s_rho\":\"z\",\"eta_rho\":\"lon_rho\",\"xi_rho\":\"lat_rho\"})\n",
    "# can't rename the dim b/c lon_rho and lat/rho are 2d"
   ]
  },
  {
   "cell_type": "code",
   "execution_count": null,
   "id": "7faf9d6f-b928-4d36-8914-a6c0b0bfe31e",
   "metadata": {},
   "outputs": [],
   "source": [
    "dsm.sel(eta_rho=slice(lon - 5, lon + 5),method=\"nearest\")"
   ]
  },
  {
   "cell_type": "markdown",
   "id": "6a4dced1-5652-4521-9c67-509861debee3",
   "metadata": {},
   "source": [
    "## Python library\n",
    "\n",
    "This package can be used as a Python package or from the command line. Here we demonstrate its use as a Python package."
   ]
  },
  {
   "cell_type": "markdown",
   "id": "b936240d-ba13-4c23-bd7e-4b8510b7d551",
   "metadata": {},
   "source": [
    "### Nonlocal reader: stations\n",
    "\n",
    "This demonstrates the case in which your data files for comparing with model output are not available locally, but you know their names and where to find them (in this case, at the IOOS ERDDAP server). More information about these inputs is available in the [API docs](https://ocean-model-skill-assessor.readthedocs.io/en/latest/api.html)."
   ]
  },
  {
   "cell_type": "code",
   "execution_count": null,
   "id": "620780f4-2f8d-48bd-97d8-b40c2ae1fef9",
   "metadata": {},
   "outputs": [],
   "source": [
    "var_def"
   ]
  },
  {
   "cell_type": "code",
   "execution_count": null,
   "id": "679d28ab-75cc-425f-8c87-90200fc2f985",
   "metadata": {},
   "outputs": [],
   "source": [
    "criteria"
   ]
  },
  {
   "cell_type": "code",
   "execution_count": null,
   "id": "db643205-16ba-43b1-b666-2bb31954167b",
   "metadata": {},
   "outputs": [],
   "source": [
    "from ocean_data_gateway import read_model"
   ]
  },
  {
   "cell_type": "code",
   "execution_count": null,
   "id": "21359a6e-6433-44aa-b1e6-d9745a433b0a",
   "metadata": {},
   "outputs": [],
   "source": [
    "# FOR CIOFS:\n",
    "\n",
    "# model_url = 'http://thredds.aoos.org/thredds/dodsC/NOAA_COOPS_OFS_CIOFS.nc'\n",
    "model_url = 'NOAA_COOPS_OFS_CIOFS.nc'\n",
    "\n",
    "\n",
    "# best datasets - ciofs\n",
    "dataset_ids = ['nerrs_kacsdwq', 'cdmo_nerrs_3b00077a'] \n",
    "    \n",
    "search = omsa.run(loc_model = model_url,\n",
    "                  approach='stations',\n",
    "                  criteria=criteria,\n",
    "                  var_def=var_def,\n",
    "                  xarray_kwargs={'chunks': {'time': 1, 'depth': 1}},\n",
    "                  time_range=['2022-5-20','2022-5-23'], \n",
    "                  variables=['salt'],\n",
    "                  readers=[odg.erddap],\n",
    "                  erddap={\n",
    "                      'known_server': 'ioos'\n",
    "                  },\n",
    "                  stations = dataset_ids,\n",
    "                  figname_map='nonlocal_library.png',\n",
    "                  figname_data_prefix='nonlocal_library_',\n",
    "                  parallel=False\n",
    ")"
   ]
  },
  {
   "cell_type": "code",
   "execution_count": null,
   "id": "9576dd9d-eca5-4d59-9c73-7faaeda91711",
   "metadata": {},
   "outputs": [],
   "source": [
    "# Error:Attribute value out of range: _FillValue = NaN\n",
    "# Error:Attribute value out of range: _FillValue = NaN\n",
    "# Error:Attribute value out of range: _FillValue = NaN\n",
    "\n",
    "# ---------------------------------------------------------------------------\n",
    "# TypeError                                 Traceback (most recent call last)\n",
    "# Input In [10], in <cell line: 8>()\n",
    "#       5 # best datasets - ciofs\n",
    "#       6 dataset_ids = ['nerrs_kacsdwq', 'cdmo_nerrs_3b00077a'] \n",
    "# ----> 8 search = omsa.run(loc_model = model_url,\n",
    "#       9                   approach='stations',\n",
    "#      10                   criteria=criteria,\n",
    "#      11                   var_def=var_def,\n",
    "#      12                   xarray_kwargs={'chunks': {'time': 1, 'depth': 1}},\n",
    "#      13                   time_range=['2022-5-20','2022-5-23'], \n",
    "#      14                   variables=['salt'],\n",
    "#      15                   readers=[odg.erddap],\n",
    "#      16                   erddap={\n",
    "#      17                       'known_server': 'ioos'\n",
    "#      18                   },\n",
    "#      19                   stations = dataset_ids,\n",
    "#      20                   figname_map='nonlocal_library.png',\n",
    "#      21                   figname_data_prefix='nonlocal_library_',\n",
    "#      22                   parallel=False\n",
    "#      23 )\n",
    "\n",
    "# File ~/ocean-model-skill-assessor/ocean_model_skill_assessor/main.py:334, in run(approach, loc_model, axds, bbox, criteria, erddap, figname_map, figname_data_prefix, local, only_search, only_searchplot, parallel, readers, run_qc, skip_units, stations, time_range, variables, var_def, xarray_kwargs)\n",
    "#     331     return search\n",
    "#     333 # Plot discovered datasets\n",
    "# --> 334 lls_stations, names_stations, lls_box, names_boxes = prep_plot(search)\n",
    "#     335 omsa.map.plot(\n",
    "#     336     lls_stations=lls_stations,\n",
    "#     337     names_stations=names_stations,\n",
    "#    (...)\n",
    "#     342     figname=figname_map,\n",
    "#     343 )\n",
    "#     345 if only_searchplot:\n",
    "\n",
    "# File ~/ocean-model-skill-assessor/ocean_model_skill_assessor/main.py:126, in prep_plot(search)\n",
    "#     123 def prep_plot(search):\n",
    "#     124     \"\"\"Put together inputs for map plot.\"\"\"\n",
    "# --> 126     sub = search.meta.loc[\n",
    "#     127         search.dataset_ids,\n",
    "#     128         [\n",
    "#     129             \"geospatial_lon_min\",\n",
    "#     130             \"geospatial_lat_min\",\n",
    "#     131             \"geospatial_lon_max\",\n",
    "#     132             \"geospatial_lat_max\",\n",
    "#     133         ],\n",
    "#     134     ]\n",
    "#     135     lls = sub.values\n",
    "#     136     names = list(sub.index.values)\n",
    "\n",
    "# File ~/miniconda3/envs/ocean-model-skill-assessor/lib/python3.10/site-packages/ocean_data_gateway/gateway.py:349, in Gateway.meta(self)\n",
    "#     347 meta = []\n",
    "#     348 for source in self.sources:\n",
    "# --> 349     meta.append(source.meta)\n",
    "#     351 # self._meta = meta\n",
    "#     352 # merge metadata into one DataFrame\n",
    "#     353 self._meta = pd.concat(meta, axis=0, join=\"outer\")\n",
    "\n",
    "# File ~/miniconda3/envs/ocean-model-skill-assessor/lib/python3.10/site-packages/ocean_data_gateway/readers/erddap.py:402, in ErddapReader.meta(self)\n",
    "#     400     downloads = []\n",
    "#     401     for dataset_id in self.dataset_ids:\n",
    "# --> 402         downloads.append(self.meta_by_dataset(dataset_id))\n",
    "#     404 # make dict from individual dicts\n",
    "#     405 from collections import ChainMap\n",
    "\n",
    "# File ~/miniconda3/envs/ocean-model-skill-assessor/lib/python3.10/site-packages/ocean_data_gateway/readers/erddap.py:366, in ErddapReader.meta_by_dataset(self, dataset_id)\n",
    "#     362     download_url = self.e.get_download_url(response=\"opendap\")\n",
    "#     364 # check if \"prediction\" is present in metadata, esp in case of NOAA\n",
    "#     365 # model predictions\n",
    "# --> 366 is_prediction = \"Prediction\" in \" \".join(\n",
    "#     367     list(info[\"Value\"].replace(np.nan, None).values)\n",
    "#     368 )\n",
    "#     370 # add erddap server name\n",
    "#     371 return {\n",
    "#     372     dataset_id: [self.e.server, download_url, info_url, is_prediction]\n",
    "#     373     + items\n",
    "#     374     + [self.variables]\n",
    "#     375 }\n",
    "\n",
    "# TypeError: sequence item 56: expected str instance, NoneType found"
   ]
  },
  {
   "cell_type": "code",
   "execution_count": null,
   "id": "28fae443-aaa8-4f38-81ce-99cfca79f97b",
   "metadata": {},
   "outputs": [],
   "source": [
    "# error KeyError: 'lat is not a valid dimension or coordinate'\n",
    "# from the ciofs files:\n",
    "#     <class 'netCDF4._netCDF4.Variable'>\n",
    "# float32 lat_rho(eta_rho, xi_rho)\n",
    "#     field: lat_rho, scalar\n",
    "#     long_name: latitude of RHO-points\n",
    "#     standard_name: latitude\n",
    "#     units: degree_north\n",
    "#     _FillValue: nan\n",
    "#     missing_value: nan\n",
    "# unlimited dimensions: \n",
    "# current shape = (1044, 724)\n",
    "# filling on"
   ]
  },
  {
   "cell_type": "markdown",
   "id": "f9b51f1d-f999-4243-afc0-f66c38cdb39b",
   "metadata": {},
   "source": [
    "#### Save local data files\n",
    "\n",
    "Here we save the data files to use for the local examples."
   ]
  },
  {
   "cell_type": "code",
   "execution_count": null,
   "id": "61751f35-3240-4af8-90fa-9b9322805ffa",
   "metadata": {},
   "outputs": [],
   "source": [
    "# CIOFS dataset_ids = ['nerrs_kacsdwq', 'cdmo_nerrs_3b00077a'] \n",
    "search['nerrs_kacsdwq'].squeeze().to_dataframe().to_csv('nerrs_kacsdwq')\n",
    "search['cdmo_nerrs_3b00077a'].to_netcdf('cdmo_nerrs_3b00077a.nc')\n"
   ]
  },
  {
   "cell_type": "markdown",
   "id": "dd29ad0d-e2b7-4424-b1be-489b29e6b921",
   "metadata": {},
   "source": [
    "### Nonlocal reader: region\n",
    "\n",
    "This demonstrates the case in which your data files for comparing with model output are not available locally, and you want to perform a search in time and space. By default this would search in the spatial bounding box of the model output, but here we instead input a smaller bounding box so as to limit the number of datasets found and used. For several of the datasets, the model output isn't available (must be determined to be on land). "
   ]
  },
  {
   "cell_type": "code",
   "execution_count": null,
   "id": "3c63654c-58ae-47bb-ae63-c0b01c10b88c",
   "metadata": {},
   "outputs": [],
   "source": [
    "omsa.set_criteria(criteria)\n",
    "\n",
    "bbox = [-153, 57, -145, 65]\n",
    "search = omsa.run(\n",
    "                  loc_model=model_url,\n",
    "                  approach='region',\n",
    "                  bbox=bbox,\n",
    "                  criteria=criteria,\n",
    "                  var_def=var_def,\n",
    "                  xarray_kwargs={'chunks': {'time': 1, 'depth': 1}},\n",
    "                  time_range=['2022-5-20','2022-5-23'], \n",
    "                  variables=['salt'],\n",
    "                  readers=[odg.erddap],\n",
    "                  erddap={\n",
    "                      'known_server': 'ioos'\n",
    "                  },\n",
    "                  figname_map='nonlocal_library_region.png',\n",
    "                  figname_data_prefix='nonlocal_library_region_'\n",
    ")"
   ]
  },
  {
   "cell_type": "markdown",
   "id": "8d45f569-ec8e-47c7-a180-d72a44a76581",
   "metadata": {},
   "source": [
    "### Local reader\n",
    "\n",
    "This demonstrates the case in which your data files for comparing with model output are available locally."
   ]
  },
  {
   "cell_type": "code",
   "execution_count": null,
   "id": "8d04581c-d1f1-4fac-b8eb-488e8b6e289f",
   "metadata": {},
   "outputs": [],
   "source": [
    "omsa.set_criteria(criteria)\n",
    "\n",
    "filenames = [\n",
    "             'nerrs_kacsdwq.csv',\n",
    "             'noaa_nos_co_ops_9454050.csv',\n",
    "            ]\n",
    "\n",
    "skip_units = True\n",
    "\n",
    "search = omsa.run(\n",
    "                  loc_model='hycomglb93.0_model_output.nc',\n",
    "                  approach='region',\n",
    "                  criteria=criteria,\n",
    "                  var_def=var_def,\n",
    "                  skip_units=skip_units,\n",
    "                  xarray_kwargs={'chunks': {'time': 1, 'depth': 1}},\n",
    "                  time_range=['2022-4-15','2022-5-4'],  \n",
    "                  variables=['salt'],\n",
    "                  readers=[odg.local],\n",
    "                  local={'filenames': filenames},\n",
    "                  figname_map='local_library.png',\n",
    "                  figname_data_prefix='local_library_'\n",
    ")"
   ]
  },
  {
   "cell_type": "markdown",
   "id": "9d9e80d6-314e-4586-ba1f-c67ac67e10d5",
   "metadata": {},
   "source": [
    "## Command line interface\n",
    "\n",
    "Here we demonstrate the use of the command line interface mode of the package. The config yaml file must be modified for the necessary inputs. These are the same examples as above, but accomplished via the command line interface instead of the Python package.\n",
    "\n",
    "### Local reader"
   ]
  },
  {
   "cell_type": "code",
   "execution_count": null,
   "id": "2157fb08-fd79-4036-80bc-53a2e89229fd",
   "metadata": {},
   "outputs": [],
   "source": [
    "config_file = 'config_local.yaml'"
   ]
  },
  {
   "cell_type": "code",
   "execution_count": null,
   "id": "1b8d86f4-53c2-4c1b-baa8-3eff5c759dbd",
   "metadata": {},
   "outputs": [],
   "source": [
    "# %load config_local.yaml\n",
    "---\n",
    "approach: \"stations\"\n",
    "loc_model: \"https://thredds.cencoos.org/thredds/dodsC/CENCOOS_CA_ROMS_FCST.nc\"\n",
    "axds:\n",
    "bbox:\n",
    "criteria:\n",
    "  salt:\n",
    "    name:\n",
    "      \"sea_water_practical_salinity$\"\n",
    "erddap:\n",
    "figname_map: \"local_cli.png\"\n",
    "figname_data_prefix: \"local_cli_\"\n",
    "local:\n",
    "  filenames:\n",
    "    - \"edu_humboldt_tdp.csv\"\n",
    "    - \"bodega-bay-bml_wts.nc\"\n",
    "only_search: false\n",
    "only_searchplot: false\n",
    "parallel: true\n",
    "readers:\n",
    "  - \"local\"\n",
    "run_qc: false\n",
    "skip_units: true\n",
    "stations:\n",
    "time_range:\n",
    "  - \"2021-9-1\"\n",
    "  - \"2021-9-8\"\n",
    "var_def:\n",
    "  salt:\n",
    "    units: \"psu\"\n",
    "    fail_span:\n",
    "      - -10\n",
    "      - 60\n",
    "    suspect_span:\n",
    "      - -1\n",
    "      - 45\n",
    "variables:\n",
    "  - \"salt\"\n",
    "xarray_kwargs:\n",
    "  chunks:\n",
    "    time:\n",
    "      1\n",
    "    depth:\n",
    "      1\n"
   ]
  },
  {
   "cell_type": "code",
   "execution_count": null,
   "id": "d32c140b-0fe5-4e05-9a01-5b80fa81062d",
   "metadata": {},
   "outputs": [],
   "source": [
    "!python ../ocean_model_skill_assessor/CLI.py $config_file"
   ]
  },
  {
   "cell_type": "code",
   "execution_count": null,
   "id": "4320e0ab-3cb5-400d-9c4b-4b56e4a4cac5",
   "metadata": {},
   "outputs": [],
   "source": [
    "display.Image(\"local_cli.png\")"
   ]
  },
  {
   "cell_type": "code",
   "execution_count": null,
   "id": "b91db430-46fd-40ac-a6e8-f6d16ece8640",
   "metadata": {},
   "outputs": [],
   "source": [
    "display.Image('local_cli_edu_humboldt_tdp.csv_salt.png')"
   ]
  },
  {
   "cell_type": "code",
   "execution_count": null,
   "id": "adaf8a2c-8b85-47df-8256-306ecc94aa16",
   "metadata": {},
   "outputs": [],
   "source": [
    "display.Image('local_cli_bodega-bay-bml_wts.nc_salt.png')"
   ]
  },
  {
   "cell_type": "markdown",
   "id": "61ef1543-af4a-4059-b4a8-543a2a8b3ffd",
   "metadata": {},
   "source": [
    "### Nonlocal workflow: stations"
   ]
  },
  {
   "cell_type": "code",
   "execution_count": null,
   "id": "6211707b-d967-4bdd-8139-0f310fa7f489",
   "metadata": {},
   "outputs": [],
   "source": [
    "config_file = 'config_nonlocal.yaml'"
   ]
  },
  {
   "cell_type": "code",
   "execution_count": null,
   "id": "21e4899d-45df-4ffe-9ba3-f5da34894913",
   "metadata": {},
   "outputs": [],
   "source": [
    "# %load config_nonlocal.yaml\n",
    "---\n",
    "approach: \"stations\"\n",
    "loc_model: \"https://thredds.cencoos.org/thredds/dodsC/CENCOOS_CA_ROMS_FCST.nc\"\n",
    "axds:\n",
    "bbox:\n",
    "criteria:\n",
    "  salt:\n",
    "    name:\n",
    "      \"sea_water_practical_salinity$\"\n",
    "erddap:\n",
    "  known_server:\n",
    "    \"ioos\"\n",
    "figname_map: \"nonlocal_cli.png\"\n",
    "figname_data_prefix: \"nonlocal_cli_\"\n",
    "local:\n",
    "only_search: false\n",
    "only_searchplot: false\n",
    "parallel: true\n",
    "readers:\n",
    "  - \"erddap\"\n",
    "run_qc: false\n",
    "skip_units: true\n",
    "stations:\n",
    "  - \"edu_humboldt_tdp\"\n",
    "  - \"bodega-bay-bml_wts\"\n",
    "time_range:\n",
    "  - \"2021-9-1\"\n",
    "  - \"2021-9-8\"\n",
    "var_def:\n",
    "  salt:\n",
    "    units: \"psu\"\n",
    "    fail_span:\n",
    "      - -10\n",
    "      - 60\n",
    "    suspect_span:\n",
    "      - -1\n",
    "      - 45\n",
    "variables:\n",
    "  - \"salt\"\n",
    "xarray_kwargs:\n",
    "  chunks:\n",
    "    time:\n",
    "      1\n",
    "    depth:\n",
    "      1\n"
   ]
  },
  {
   "cell_type": "code",
   "execution_count": null,
   "id": "89bd6be5-a811-47c7-a906-a7a30bd106a9",
   "metadata": {},
   "outputs": [],
   "source": [
    "whos"
   ]
  },
  {
   "cell_type": "code",
   "execution_count": null,
   "id": "1ef1a3b2-82ff-4974-8580-797d56b61a1a",
   "metadata": {},
   "outputs": [],
   "source": []
  },
  {
   "cell_type": "code",
   "execution_count": null,
   "id": "043027af-3c10-4409-82d7-40aafb1a0e0c",
   "metadata": {},
   "outputs": [],
   "source": [
    "!python ../ocean_model_skill_assessor/CLI.py $config_file"
   ]
  },
  {
   "cell_type": "code",
   "execution_count": null,
   "id": "5fe74744-4c9c-47d2-8d78-b7538bc4cd9e",
   "metadata": {},
   "outputs": [],
   "source": [
    "display.Image(\"nonlocal_cli.png\")"
   ]
  },
  {
   "cell_type": "code",
   "execution_count": null,
   "id": "71277ce0-9c23-46e3-9b89-fa5bfe989b23",
   "metadata": {},
   "outputs": [],
   "source": [
    "display.Image('nonlocal_cli_edu_humboldt_tdp_salt.png')"
   ]
  },
  {
   "cell_type": "code",
   "execution_count": null,
   "id": "6bafb68c-1f6f-4504-b01b-17230f151b84",
   "metadata": {},
   "outputs": [],
   "source": [
    "display.Image('nonlocal_cli_bodega-bay-bml_wts_salt.png')"
   ]
  },
  {
   "cell_type": "markdown",
   "id": "dfbe9394-c2c0-42f8-b203-e489dd50a2bf",
   "metadata": {},
   "source": [
    "### Nonlocal reader: region"
   ]
  },
  {
   "cell_type": "code",
   "execution_count": null,
   "id": "c2054461-ab60-4f47-b6fd-fc3b3198e5c0",
   "metadata": {},
   "outputs": [],
   "source": [
    "config_file = 'config_nonlocal_region.yaml'"
   ]
  },
  {
   "cell_type": "code",
   "execution_count": null,
   "id": "a00d05bf-1fa2-4134-95e3-018afc2f25e9",
   "metadata": {},
   "outputs": [],
   "source": [
    "# %load config_nonlocal_region.yaml\n",
    "---\n",
    "approach: \"region\"\n",
    "loc_model: \"https://thredds.cencoos.org/thredds/dodsC/CENCOOS_CA_ROMS_FCST.nc\"\n",
    "axds:\n",
    "bbox:\n",
    "  - -124.5\n",
    "  - 40\n",
    "  - -123.5\n",
    "  - 42\n",
    "criteria:\n",
    "  salt:\n",
    "    name:\n",
    "      \"sea_water_practical_salinity$\"\n",
    "erddap:\n",
    "  known_server:\n",
    "    \"ioos\"\n",
    "figname_map: \"nonlocal_cli_region.png\"\n",
    "figname_data_prefix: \"nonlocal_cli__region\"\n",
    "local:\n",
    "only_search: false\n",
    "only_searchplot: false\n",
    "parallel: true\n",
    "readers:\n",
    "  - \"erddap\"\n",
    "run_qc: false\n",
    "skip_units: true\n",
    "stations:\n",
    "time_range:\n",
    "  - \"2021-9-1\"\n",
    "  - \"2021-9-8\"\n",
    "var_def:\n",
    "  salt:\n",
    "    units: \"psu\"\n",
    "    fail_span:\n",
    "      - -10\n",
    "      - 60\n",
    "    suspect_span:\n",
    "      - -1\n",
    "      - 45\n",
    "variables:\n",
    "  - \"salt\"\n",
    "xarray_kwargs:\n",
    "  chunks:\n",
    "    time:\n",
    "      1\n",
    "    depth:\n",
    "      1"
   ]
  },
  {
   "cell_type": "code",
   "execution_count": null,
   "id": "bb8f67ca-f638-4f8d-9c1d-381300a93100",
   "metadata": {},
   "outputs": [],
   "source": [
    "!python ../ocean_model_skill_assessor/CLI.py $config_file"
   ]
  },
  {
   "cell_type": "code",
   "execution_count": null,
   "id": "cd5e067b-03ce-4496-aeb6-549e6e2bd15c",
   "metadata": {},
   "outputs": [],
   "source": [
    "display.Image(\"nonlocal_cli_region.png\")"
   ]
  },
  {
   "cell_type": "code",
   "execution_count": null,
   "id": "cebded2b-4f29-4018-a8d1-443fb5c0aa59",
   "metadata": {},
   "outputs": [],
   "source": [
    "display.Image('nonlocal_cli__regionexploratorium-pco2-buoy_salt.png')"
   ]
  },
  {
   "cell_type": "code",
   "execution_count": null,
   "id": "c532aacb-bad0-45e6-ba52-a14cd3e09833",
   "metadata": {},
   "outputs": [],
   "source": [
    "display.Image('nonlocal_cli__regionedu_calpoly_marine_morro_salt.png')"
   ]
  },
  {
   "cell_type": "code",
   "execution_count": null,
   "id": "89be8444-a663-4996-96eb-9e3371711a3b",
   "metadata": {},
   "outputs": [],
   "source": [
    "display.Image('nonlocal_cli__regionsccoos_ucsd_salt.png')"
   ]
  },
  {
   "cell_type": "code",
   "execution_count": null,
   "id": "0414f069-1c4a-4a45-9115-b1c08f09cc19",
   "metadata": {},
   "outputs": [],
   "source": []
  }
 ],
 "metadata": {
  "kernelspec": {
   "display_name": "Python 3 (ipykernel)",
   "language": "python",
   "name": "python3"
  },
  "language_info": {
   "codemirror_mode": {
    "name": "ipython",
    "version": 3
   },
   "file_extension": ".py",
   "mimetype": "text/x-python",
   "name": "python",
   "nbconvert_exporter": "python",
   "pygments_lexer": "ipython3",
   "version": "3.10.5"
  }
 },
 "nbformat": 4,
 "nbformat_minor": 5
}
